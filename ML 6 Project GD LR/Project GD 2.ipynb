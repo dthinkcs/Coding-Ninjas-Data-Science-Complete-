{
 "cells": [
  {
   "cell_type": "code",
   "execution_count": 20,
   "metadata": {},
   "outputs": [],
   "source": [
    "import pandas as pd\n",
    "from sklearn import model_selection\n",
    "from sklearn.linear_model import LinearRegression\n",
    "import numpy as np"
   ]
  },
  {
   "cell_type": "code",
   "execution_count": 26,
   "metadata": {},
   "outputs": [],
   "source": [
    "df = pd.read_csv('training_ccpp_x_y_train.csv')\n",
    "Y_train = df[' EP'].values\n",
    "del df[' EP']\n",
    "X_train = df.values\n",
    "\n",
    "df = pd.read_csv('test_ccpp_x_test.csv')\n",
    "X_test = df.values\n",
    "\n",
    "#X_train, X_test, Y_train, Y_test = model_selection.train_test_split(X_train, Y_train, random_state = 0)"
   ]
  },
  {
   "cell_type": "code",
   "execution_count": 27,
   "metadata": {},
   "outputs": [
    {
     "name": "stdout",
     "output_type": "stream",
     "text": [
      "Train Score:  0.9287632000440599\n"
     ]
    }
   ],
   "source": [
    "alg = LinearRegression(normalize = False)\n",
    "alg.fit(X_train, Y_train)\n",
    "train_score = alg.score(X_train, Y_train)\n",
    "#test_score = alg.score(X_test, Y_test)\n",
    "print(\"Train Score: \", train_score)\n",
    "#print(\"Test Score: \", test_score)"
   ]
  },
  {
   "cell_type": "code",
   "execution_count": 23,
   "metadata": {},
   "outputs": [],
   "source": [
    "Y_pred = alg.predict(X_test)\n",
    "np.savetxt(\"pred_GD2.csv\", Y_pred, delimiter=\",\", fmt='%f')"
   ]
  }
 ],
 "metadata": {
  "kernelspec": {
   "display_name": "Python 3",
   "language": "python",
   "name": "python3"
  },
  "language_info": {
   "codemirror_mode": {
    "name": "ipython",
    "version": 3
   },
   "file_extension": ".py",
   "mimetype": "text/x-python",
   "name": "python",
   "nbconvert_exporter": "python",
   "pygments_lexer": "ipython3",
   "version": "3.7.3"
  }
 },
 "nbformat": 4,
 "nbformat_minor": 2
}
