{
 "cells": [
  {
   "cell_type": "code",
   "execution_count": 2,
   "metadata": {},
   "outputs": [
    {
     "data": {
      "text/plain": [
       "array([469.95711113, 471.76632733, 433.85647002, ..., 439.13871988,\n",
       "       450.65930697, 447.27281902])"
      ]
     },
     "execution_count": 2,
     "metadata": {},
     "output_type": "execute_result"
    }
   ],
   "source": [
    "from sklearn import datasets\n",
    "from sklearn import model_selection\n",
    "from sklearn.linear_model import LinearRegression\n",
    "\n",
    "import numpy as np\n",
    "\n",
    "data = np.genfromtxt('training_ccpp_x_y_train.csv', delimiter=',')\n",
    "\n",
    "M = len(data)\n",
    "F = data.shape[1]\n",
    "\n",
    "X_train = data[:,:-1]\n",
    "Y_train = data[:,-1]\n",
    "\n",
    "X_test = np.genfromtxt('test_ccpp_x_test.csv', delimiter=',')\n",
    "\n",
    "algo1 = LinearRegression()\n",
    "\n",
    "algo1.fit(X_train, Y_train)\n",
    "\n",
    "Y_pred = algo1.predict(X_test)\n",
    "\n",
    "\n",
    "np.savetxt(\"predictions_gd.csv\", Y_pred, delimiter=\",\")\n",
    "\n",
    "Y_pred"
   ]
  },
  {
   "cell_type": "code",
   "execution_count": 4,
   "metadata": {},
   "outputs": [
    {
     "data": {
      "text/plain": [
       "array([[   8.58,   38.38, 1021.03,   84.37,  482.26],\n",
       "       [  21.79,   58.2 , 1017.21,   66.74,  446.94],\n",
       "       [  16.64,   48.92, 1011.55,   78.76,  452.56],\n",
       "       ...,\n",
       "       [  29.8 ,   69.34, 1009.36,   64.74,  437.65],\n",
       "       [  16.37,   54.3 , 1017.94,   63.63,  459.97],\n",
       "       [  30.11,   62.04, 1010.69,   47.96,  444.42]])"
      ]
     },
     "execution_count": 4,
     "metadata": {},
     "output_type": "execute_result"
    }
   ],
   "source": [
    "data"
   ]
  }
 ],
 "metadata": {
  "kernelspec": {
   "display_name": "Python 3",
   "language": "python",
   "name": "python3"
  },
  "language_info": {
   "codemirror_mode": {
    "name": "ipython",
    "version": 3
   },
   "file_extension": ".py",
   "mimetype": "text/x-python",
   "name": "python",
   "nbconvert_exporter": "python",
   "pygments_lexer": "ipython3",
   "version": "3.7.3"
  }
 },
 "nbformat": 4,
 "nbformat_minor": 2
}
