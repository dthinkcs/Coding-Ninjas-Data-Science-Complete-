{
 "cells": [
  {
   "cell_type": "code",
   "execution_count": 1,
   "metadata": {
    "collapsed": true
   },
   "outputs": [],
   "source": [
    "import requests\n",
    "from bs4 import BeautifulSoup"
   ]
  },
  {
   "cell_type": "code",
   "execution_count": 2,
   "metadata": {},
   "outputs": [
    {
     "data": {
      "text/plain": [
       "<Response [200]>"
      ]
     },
     "execution_count": 2,
     "metadata": {},
     "output_type": "execute_result"
    }
   ],
   "source": [
    "response = requests.get('http://books.toscrape.com/')\n",
    "response"
   ]
  },
  {
   "cell_type": "code",
   "execution_count": 3,
   "metadata": {
    "collapsed": true
   },
   "outputs": [],
   "source": [
    "data = BeautifulSoup(response.text, 'html.parser')\n",
    "# data"
   ]
  },
  {
   "cell_type": "code",
   "execution_count": 11,
   "metadata": {},
   "outputs": [
    {
     "name": "stdout",
     "output_type": "stream",
     "text": [
      "20\n"
     ]
    }
   ],
   "source": [
    "## Print Link for all books\n",
    "\n",
    "all_books = data.find_all(class_='product_pod')\n",
    "print(len(all_books))\n",
    "\n",
    "# print(all_books[0])"
   ]
  },
  {
   "cell_type": "code",
   "execution_count": 12,
   "metadata": {},
   "outputs": [],
   "source": [
    "base_url = 'http://books.toscrape.com/'\n",
    "urls = []\n",
    "for i in all_books : \n",
    "    urls.append(base_url + i.a['href'])\n",
    "# urls"
   ]
  },
  {
   "cell_type": "code",
   "execution_count": 46,
   "metadata": {},
   "outputs": [
    {
     "name": "stdout",
     "output_type": "stream",
     "text": [
      "http://books.toscrape.com/catalogue/page-2.html\n",
      "http://books.toscrape.com/catalogue/page-3.html\n",
      "http://books.toscrape.com/catalogue/page-4.html\n",
      "http://books.toscrape.com/catalogue/page-5.html\n",
      "http://books.toscrape.com/catalogue/page-6.html\n",
      "http://books.toscrape.com/catalogue/page-7.html\n",
      "http://books.toscrape.com/catalogue/page-8.html\n",
      "http://books.toscrape.com/catalogue/page-9.html\n",
      "http://books.toscrape.com/catalogue/page-10.html\n",
      "http://books.toscrape.com/catalogue/page-11.html\n",
      "http://books.toscrape.com/catalogue/page-12.html\n",
      "http://books.toscrape.com/catalogue/page-13.html\n",
      "http://books.toscrape.com/catalogue/page-14.html\n",
      "http://books.toscrape.com/catalogue/page-15.html\n",
      "http://books.toscrape.com/catalogue/page-16.html\n",
      "http://books.toscrape.com/catalogue/page-17.html\n",
      "http://books.toscrape.com/catalogue/page-18.html\n",
      "http://books.toscrape.com/catalogue/page-19.html\n",
      "http://books.toscrape.com/catalogue/page-20.html\n",
      "http://books.toscrape.com/catalogue/page-21.html\n",
      "http://books.toscrape.com/catalogue/page-22.html\n",
      "http://books.toscrape.com/catalogue/page-23.html\n",
      "http://books.toscrape.com/catalogue/page-24.html\n",
      "http://books.toscrape.com/catalogue/page-25.html\n",
      "http://books.toscrape.com/catalogue/page-26.html\n",
      "http://books.toscrape.com/catalogue/page-27.html\n",
      "http://books.toscrape.com/catalogue/page-28.html\n",
      "http://books.toscrape.com/catalogue/page-29.html\n",
      "http://books.toscrape.com/catalogue/page-30.html\n",
      "http://books.toscrape.com/catalogue/page-31.html\n",
      "http://books.toscrape.com/catalogue/page-32.html\n",
      "http://books.toscrape.com/catalogue/page-33.html\n",
      "http://books.toscrape.com/catalogue/page-34.html\n",
      "http://books.toscrape.com/catalogue/page-35.html\n",
      "http://books.toscrape.com/catalogue/page-36.html\n",
      "http://books.toscrape.com/catalogue/page-37.html\n",
      "http://books.toscrape.com/catalogue/page-38.html\n",
      "http://books.toscrape.com/catalogue/page-39.html\n",
      "http://books.toscrape.com/catalogue/page-40.html\n",
      "http://books.toscrape.com/catalogue/page-41.html\n",
      "http://books.toscrape.com/catalogue/page-42.html\n",
      "http://books.toscrape.com/catalogue/page-43.html\n",
      "http://books.toscrape.com/catalogue/page-44.html\n",
      "http://books.toscrape.com/catalogue/page-45.html\n",
      "http://books.toscrape.com/catalogue/page-46.html\n",
      "http://books.toscrape.com/catalogue/page-47.html\n",
      "http://books.toscrape.com/catalogue/page-48.html\n",
      "http://books.toscrape.com/catalogue/page-49.html\n",
      "http://books.toscrape.com/catalogue/page-50.html\n"
     ]
    }
   ],
   "source": [
    "all_urls = ['http://books.toscrape.com/catalogue/page-1.html']\n",
    "current_page = 'http://books.toscrape.com/catalogue/page-1.html'\n",
    "\n",
    "base_url = 'http://books.toscrape.com/catalogue/'\n",
    "\n",
    "response = requests.get(current_page)\n",
    "\n",
    "while response.status_code == 200 :\n",
    "    data = BeautifulSoup(response.text, 'html.parser')\n",
    "    next_page = data.find(class_='next')\n",
    "    if next_page is None : \n",
    "        break\n",
    "    next_page_url = base_url + next_page.a['href']\n",
    "    print(next_page_url)\n",
    "    all_urls.append(next_page_url)\n",
    "    \n",
    "    current_page = next_page_url\n",
    "    response = requests.get(current_page)"
   ]
  },
  {
   "cell_type": "code",
   "execution_count": null,
   "metadata": {
    "collapsed": true
   },
   "outputs": [],
   "source": []
  },
  {
   "cell_type": "code",
   "execution_count": null,
   "metadata": {
    "collapsed": true
   },
   "outputs": [],
   "source": []
  },
  {
   "cell_type": "code",
   "execution_count": null,
   "metadata": {
    "collapsed": true
   },
   "outputs": [],
   "source": []
  },
  {
   "cell_type": "code",
   "execution_count": null,
   "metadata": {
    "collapsed": true
   },
   "outputs": [],
   "source": []
  },
  {
   "cell_type": "code",
   "execution_count": null,
   "metadata": {
    "collapsed": true
   },
   "outputs": [],
   "source": []
  }
 ],
 "metadata": {
  "kernelspec": {
   "display_name": "Python 3",
   "language": "python",
   "name": "python3"
  },
  "language_info": {
   "codemirror_mode": {
    "name": "ipython",
    "version": 3
   },
   "file_extension": ".py",
   "mimetype": "text/x-python",
   "name": "python",
   "nbconvert_exporter": "python",
   "pygments_lexer": "ipython3",
   "version": "3.7.3"
  }
 },
 "nbformat": 4,
 "nbformat_minor": 2
}
