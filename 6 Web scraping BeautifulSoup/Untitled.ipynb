{
 "cells": [
  {
   "cell_type": "code",
   "execution_count": 171,
   "metadata": {},
   "outputs": [
    {
     "data": {
      "text/plain": [
       "['http://quotes.toscrape.com/page/1/',\n",
       " 'http://quotes.toscrape.com/page/2/',\n",
       " 'http://quotes.toscrape.com/page/3/',\n",
       " 'http://quotes.toscrape.com/page/4/',\n",
       " 'http://quotes.toscrape.com/page/5/',\n",
       " 'http://quotes.toscrape.com/page/6/',\n",
       " 'http://quotes.toscrape.com/page/7/',\n",
       " 'http://quotes.toscrape.com/page/8/',\n",
       " 'http://quotes.toscrape.com/page/9/',\n",
       " 'http://quotes.toscrape.com/page/10/']"
      ]
     },
     "execution_count": 171,
     "metadata": {},
     "output_type": "execute_result"
    }
   ],
   "source": [
    "import requests\n",
    "from bs4 import BeautifulSoup\n",
    "\n",
    "all_urls = ['http://quotes.toscrape.com/page/1/']\n",
    "base = 'http://quotes.toscrape.com'\n",
    "\n",
    "response = requests.get(all_urls[-1])\n",
    "\n",
    "\n",
    "\n",
    "\n",
    "while response.status_code == 200 :\n",
    "    \n",
    "    data = BeautifulSoup(response.text, 'html.parser')\n",
    "    if data.find(class_ = 'next') is None : \n",
    "        break\n",
    "    url = data.find(class_ = 'next').a['href']\n",
    "    all_urls.append(base+url)  \n",
    "    response = requests.get(all_urls[-1])\n",
    "    \n",
    "\n",
    "all_urls"
   ]
  },
  {
   "cell_type": "code",
   "execution_count": 206,
   "metadata": {},
   "outputs": [
    {
     "name": "stdout",
     "output_type": "stream",
     "text": [
      "“The world as we have created it is a process of our thinking. It cannot be changed without changing our thinking.”\n",
      "“There are only two ways to live your life. One is as though nothing is a miracle. The other is as though everything is a miracle.”\n",
      "“Try not to become a man of success. Rather become a man of value.”\n",
      "“If you can't explain it to a six year old, you don't understand it yourself.”\n",
      "“If you want your children to be intelligent, read them fairy tales. If you want them to be more intelligent, read them more fairy tales.”\n",
      "“Logic will get you from A to Z; imagination will get you everywhere.”\n",
      "“Any fool can know. The point is to understand.”\n",
      "“Life is like riding a bicycle. To keep your balance, you must keep moving.”\n",
      "“If I were not a physicist, I would probably be a musician. I often think in music. I live my daydreams in music. I see my life in terms of music.”\n",
      "“Anyone who has never made a mistake has never tried anything new.”\n"
     ]
    }
   ],
   "source": [
    "import numpy as np\n",
    "\n",
    "\n",
    "\n",
    "for j in all_urls :\n",
    "    response = requests.get(j)\n",
    "    data = BeautifulSoup(response.text, 'html.parser')\n",
    "\n",
    "    for i in data.find_all(class_ = 'quote'):\n",
    "        s = i.find(class_ = 'author').string\n",
    "        \n",
    "        if s == 'Albert Einstein' :\n",
    "            print(i.find(class_ = 'text').string)\n",
    "        \n",
    "                "
   ]
  },
  {
   "cell_type": "code",
   "execution_count": 204,
   "metadata": {},
   "outputs": [
    {
     "name": "stdout",
     "output_type": "stream",
     "text": [
      "{'J.D. Salinger': 'January 01, 1919', 'J.K. Rowling': 'July 31, 1965', 'J.M. Barrie': 'May 09, 1860', 'J.R.R. Tolkien': 'January 03, 1892', 'James Baldwin': 'August 02, 1924', 'Jane Austen': 'December 16, 1775', 'Jim Henson': 'September 24, 1936', 'Jimi Hendrix': 'November 27, 1942', 'John Lennon': 'October 09, 1940', 'Jorge Luis Borges': 'August 24, 1899'}\n"
     ]
    }
   ],
   "source": [
    "import collections\n",
    "od = collections.OrderedDict(sorted(authors.items()))\n",
    "\n",
    "ans = {}\n",
    "for i in od :\n",
    "    response = requests.get(od[i])\n",
    "    data = BeautifulSoup(response.text, 'html.parser')\n",
    "    \n",
    "    ans[i] = data.find(class_ = 'author-born-date').string\n",
    "    \n",
    "print(ans)"
   ]
  },
  {
   "cell_type": "code",
   "execution_count": 205,
   "metadata": {},
   "outputs": [
    {
     "name": "stdout",
     "output_type": "stream",
     "text": [
      "{'J.D. Salinger': 'January 01, 1919', 'J.K. Rowling': 'July 31, 1965', 'J.M. Barrie': 'May 09, 1860', 'J.R.R. Tolkien': 'January 03, 1892', 'James Baldwin': 'August 02, 1924', 'Jane Austen': 'December 16, 1775', 'Jim Henson': 'September 24, 1936', 'Jimi Hendrix': 'November 27, 1942', 'John Lennon': 'October 09, 1940', 'Jorge Luis Borges': 'August 24, 1899'}\n"
     ]
    }
   ],
   "source": [
    "a = \"{'J.D. Salinger': 'January 01, 1919', 'J.K. Rowling': 'July 31, 1965', 'J.M. Barrie': 'May 09, 1860', 'J.R.R. Tolkien': 'January 03, 1892', 'James Baldwin': 'August 02, 1924', 'Jane Austen': 'December 16, 1775', 'Jim Henson': 'September 24, 1936', 'Jimi Hendrix': 'November 27, 1942', 'John Lennon': 'October 09, 1940', 'Jorge Luis Borges': 'August 24, 1899'}\"\n",
    "print(a)"
   ]
  },
  {
   "cell_type": "code",
   "execution_count": 201,
   "metadata": {},
   "outputs": [
    {
     "name": "stdout",
     "output_type": "stream",
     "text": [
      "{'Albert Einstein': 'March 14, 1879', 'Alexandre Dumas fils': 'July 27, 1824', 'Alfred Tennyson': 'August 06, 1809', 'Allen Saunders': 'April 24, 1899', 'André Gide': 'November 22, 1869', 'Ayn Rand': 'February 02, 1905', 'Bob Marley': 'February 06, 1945', 'C.S. Lewis': 'November 29, 1898', 'Charles Bukowski': 'August 16, 1920', 'Charles M. Schulz': 'November 26, 1922', 'Douglas Adams': 'March 11, 1952', 'Dr. Seuss': 'March 02, 1904', 'E.E. Cummings': 'October 14, 1894', 'Eleanor Roosevelt': 'October 11, 1884', 'Elie Wiesel': 'September 30, 1928', 'Ernest Hemingway': 'July 21, 1899', 'Friedrich Nietzsche': 'October 15, 1844', 'Garrison Keillor': 'August 07, 1942', 'George Bernard Shaw': 'July 26, 1856', 'George Carlin': 'May 12, 1937', 'George Eliot': 'November 22, 1819', 'George R.R. Martin': 'September 20, 1948', 'Harper Lee': 'April 28, 1926', 'Haruki Murakami': 'January 12, 1949', 'Helen Keller': 'June 27, 1880', 'J.D. Salinger': 'January 01, 1919', 'J.K. Rowling': 'July 31, 1965', 'J.M. Barrie': 'May 09, 1860', 'J.R.R. Tolkien': 'January 03, 1892', 'James Baldwin': 'August 02, 1924', 'Jane Austen': 'December 16, 1775', 'Jim Henson': 'September 24, 1936', 'Jimi Hendrix': 'November 27, 1942', 'John Lennon': 'October 09, 1940', 'Jorge Luis Borges': 'August 24, 1899', 'Khaled Hosseini': 'March 04, 1965', \"Madeleine L'Engle\": 'November 29, 1918', 'Marilyn Monroe': 'June 01, 1926', 'Mark Twain': 'November 30, 1835', 'Martin Luther King Jr.': 'January 15, 1929', 'Mother Teresa': 'August 26, 1910', 'Pablo Neruda': 'July 12, 1904', 'Ralph Waldo Emerson': 'May 25, 1803', 'Stephenie Meyer': 'December 24, 1973', 'Steve Martin': 'August 14, 1945', 'Suzanne Collins': 'August 11, 1962', 'Terry Pratchett': 'April 28, 1948', 'Thomas A. Edison': 'February 11, 1847', 'W.C. Fields': 'January 29, 1880', 'William Nicholson': 'January 12, 1948'}\n",
      "{'Albert Einstein': 'March 14, 1879', 'Alexandre Dumas fils': 'July 27, 1824', 'Alfred Tennyson': 'August 06, 1809', 'Allen Saunders': 'April 24, 1899', 'André Gide': 'November 22, 1869', 'Ayn Rand': 'February 02, 1905', 'Bob Marley': 'February 06, 1945', 'C.S. Lewis': 'November 29, 1898', 'Charles Bukowski': 'August 16, 1920', 'Charles M. Schulz': 'November 26, 1922', 'Douglas Adams': 'March 11, 1952', 'Dr. Seuss': 'March 02, 1904', 'E.E. Cummings': 'October 14, 1894', 'Eleanor Roosevelt': 'October 11, 1884', 'Elie Wiesel': 'September 30, 1928', 'Ernest Hemingway': 'July 21, 1899', 'Friedrich Nietzsche': 'October 15, 1844', 'Garrison Keillor': 'August 07, 1942', 'George Bernard Shaw': 'July 26, 1856', 'George Carlin': 'May 12, 1937', 'George Eliot': 'November 22, 1819', 'George R.R. Martin': 'September 20, 1948', 'Harper Lee': 'April 28, 1926', 'Haruki Murakami': 'January 12, 1949', 'Helen Keller': 'June 27, 1880', 'J.D. Salinger': 'January 01, 1919', 'J.K. Rowling': 'July 31, 1965', 'J.M. Barrie': 'May 09, 1860', 'J.R.R. Tolkien': 'January 03, 1892', 'James Baldwin': 'August 02, 1924', 'Jane Austen': 'December 16, 1775', 'Jim Henson': 'September 24, 1936', 'Jimi Hendrix': 'November 27, 1942', 'John Lennon': 'October 09, 1940', 'Jorge Luis Borges': 'August 24, 1899', 'Khaled Hosseini': 'March 04, 1965', \"Madeleine L'Engle\": 'November 29, 1918', 'Marilyn Monroe': 'June 01, 1926', 'Mark Twain': 'November 30, 1835', 'Martin Luther King Jr.': 'January 15, 1929', 'Mother Teresa': 'August 26, 1910', 'Pablo Neruda': 'July 12, 1904', 'Ralph Waldo Emerson': 'May 25, 1803', 'Stephenie Meyer': 'December 24, 1973', 'Steve Martin': 'August 14, 1945', 'Suzanne Collins': 'August 11, 1962', 'Terry Pratchett': 'April 28, 1948', 'Thomas A. Edison': 'February 11, 1847', 'W.C. Fields': 'January 29, 1880', 'William Nicholson': 'January 12, 1948'}\n"
     ]
    }
   ],
   "source": [
    "a = \"{'Albert Einstein': 'March 14, 1879', 'Alexandre Dumas fils': 'July 27, 1824', 'Alfred Tennyson': 'August 06, 1809', 'Allen Saunders': 'April 24, 1899', 'André Gide': 'November 22, 1869', 'Ayn Rand': 'February 02, 1905', 'Bob Marley': 'February 06, 1945', 'C.S. Lewis': 'November 29, 1898', 'Charles Bukowski': 'August 16, 1920', 'Charles M. Schulz': 'November 26, 1922', 'Douglas Adams': 'March 11, 1952', 'Dr. Seuss': 'March 02, 1904', 'E.E. Cummings': 'October 14, 1894', 'Eleanor Roosevelt': 'October 11, 1884', 'Elie Wiesel': 'September 30, 1928', 'Ernest Hemingway': 'July 21, 1899', 'Friedrich Nietzsche': 'October 15, 1844', 'Garrison Keillor': 'August 07, 1942', 'George Bernard Shaw': 'July 26, 1856', 'George Carlin': 'May 12, 1937', 'George Eliot': 'November 22, 1819', 'George R.R. Martin': 'September 20, 1948', 'Harper Lee': 'April 28, 1926', 'Haruki Murakami': 'January 12, 1949', 'Helen Keller': 'June 27, 1880', 'J.D. Salinger': 'January 01, 1919', 'J.K. Rowling': 'July 31, 1965', 'J.M. Barrie': 'May 09, 1860', 'J.R.R. Tolkien': 'January 03, 1892', 'James Baldwin': 'August 02, 1924', 'Jane Austen': 'December 16, 1775', 'Jim Henson': 'September 24, 1936', 'Jimi Hendrix': 'November 27, 1942', 'John Lennon': 'October 09, 1940', 'Jorge Luis Borges': 'August 24, 1899', 'Khaled Hosseini': 'March 04, 1965',\"\n",
    "b = ' \"Madeleine L\\'Engle\"'\n",
    "c = \": 'November 29, 1918', 'Marilyn Monroe': 'June 01, 1926', 'Mark Twain': 'November 30, 1835', 'Martin Luther King Jr.': 'January 15, 1929', 'Mother Teresa': 'August 26, 1910', 'Pablo Neruda': 'July 12, 1904', 'Ralph Waldo Emerson': 'May 25, 1803', 'Stephenie Meyer': 'December 24, 1973', 'Steve Martin': 'August 14, 1945', 'Suzanne Collins': 'August 11, 1962', 'Terry Pratchett': 'April 28, 1948', 'Thomas A. Edison': 'February 11, 1847', 'W.C. Fields': 'January 29, 1880', 'William Nicholson': 'January 12, 1948'}\"\n",
    "\n",
    "print(a,end='')\n",
    "print(b,end='')\n",
    "print(c,end='')\n",
    "\n",
    "print()\n",
    "\n",
    "print(ans)"
   ]
  }
 ],
 "metadata": {
  "kernelspec": {
   "display_name": "Python 3",
   "language": "python",
   "name": "python3"
  },
  "language_info": {
   "codemirror_mode": {
    "name": "ipython",
    "version": 3
   },
   "file_extension": ".py",
   "mimetype": "text/x-python",
   "name": "python",
   "nbconvert_exporter": "python",
   "pygments_lexer": "ipython3",
   "version": "3.7.3"
  }
 },
 "nbformat": 4,
 "nbformat_minor": 2
}
