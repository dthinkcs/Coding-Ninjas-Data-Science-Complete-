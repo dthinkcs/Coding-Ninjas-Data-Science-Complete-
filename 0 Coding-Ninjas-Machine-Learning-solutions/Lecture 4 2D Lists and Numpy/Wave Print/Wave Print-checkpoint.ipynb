{
 "cells": [
  {
   "cell_type": "code",
   "execution_count": 1,
   "metadata": {},
   "outputs": [
    {
     "name": "stdout",
     "output_type": "stream",
     "text": [
      "2 3\n",
      "1 2 3 4 5 6\n"
     ]
    }
   ],
   "source": [
    "str=input().strip().split(\" \")\n",
    "n=int(str[0])\n",
    "m=int(str[1])\n",
    "l=[int(i) for i in input().strip().split(\" \")]\n",
    "out=[]\n",
    "for i in range(n):\n",
    "    out.append([])\n",
    "    for j in range(m):\n",
    "        out[i].append(l[i*m+j])\n",
    "out2=[[l[i*m+j]for j in range(m)]for i in range(n)]"
   ]
  },
  {
   "cell_type": "code",
   "execution_count": 5,
   "metadata": {},
   "outputs": [
    {
     "name": "stdout",
     "output_type": "stream",
     "text": [
      "1 4 5 2 3 6 \n",
      "10\n",
      "9\n",
      "8\n",
      "7\n",
      "6\n",
      "5\n",
      "4\n",
      "3\n",
      "2\n",
      "1\n",
      "0\n"
     ]
    }
   ],
   "source": [
    "n=len(out2)\n",
    "m=len(out2[0])\n",
    "for j in range(m):\n",
    "    if j%2==0:\n",
    "        for i in range(n):\n",
    "            print(out2[i][j],end=\" \")\n",
    "    else:\n",
    "        i=n-1\n",
    "        while i>=0:\n",
    "            print(out2[i][j],end=\" \")\n",
    "            i=i-1\n",
    "print()\n",
    "for j in range(10,-1,-1):\n",
    "    print(j)"
   ]
  }
 ],
 "metadata": {
  "kernelspec": {
   "display_name": "Python 3",
   "language": "python",
   "name": "python3"
  },
  "language_info": {
   "codemirror_mode": {
    "name": "ipython",
    "version": 3
   },
   "file_extension": ".py",
   "mimetype": "text/x-python",
   "name": "python",
   "nbconvert_exporter": "python",
   "pygments_lexer": "ipython3",
   "version": "3.6.3"
  }
 },
 "nbformat": 4,
 "nbformat_minor": 2
}
