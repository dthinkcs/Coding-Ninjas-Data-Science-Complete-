{
 "cells": [
  {
   "cell_type": "code",
   "execution_count": 1,
   "metadata": {},
   "outputs": [
    {
     "name": "stdout",
     "output_type": "stream",
     "text": [
      "2 2\n",
      "1 1 1 1\n",
      "row 0 2 "
     ]
    }
   ],
   "source": [
    "##s=input().strip().split()\n",
    "# this lets you take input in one line separated by space\n",
    "#num = input()\n",
    "\n",
    "# now you split\n",
    "#s=num.strip().split()\n",
    "num=input()\n",
    "s=num.strip().split()\n",
    "n=int(s[0])\n",
    "m=int(s[1])\n",
    "inp = [int(i) for i in input().strip().split()]\n",
    "\n",
    "\n",
    "# the line below isnt right the loop will take input at each step as input() function seeks for input ok?\n",
    "\n",
    "#l=[int(i) for i in input().strip().split()]\n",
    "\n",
    "out=[[inp[i*m+j] for j in range(m)] for i in range(n)]\n",
    "#maxrow=-1\n",
    "\n",
    "#maxcol=-1\n",
    "#index1=-1\n",
    "#index2=-1\n",
    "isRow = True\n",
    "index = -1\n",
    "max = -1\n",
    "\n",
    "\n",
    "for i in range(n):\n",
    "  sumcol=0\n",
    "  for j in range(m):\n",
    "    sumcol=sumcol + out[i][j]\n",
    "    \n",
    "  if max<sumcol:\n",
    "   # maxcol=sumcol\n",
    "   # index1=i\n",
    "    max = sumcol\n",
    "    index = i\n",
    "    \n",
    "for j in range(m):\n",
    "  sumrow=0\n",
    "  for i in range(n):\n",
    "    sumrow=sumrow + out[i][j]\n",
    "    \n",
    "  if max<sumrow:\n",
    "   # maxrow=sumrow\n",
    "    #index2=i\n",
    "    max = sumrow\n",
    "    index = j\n",
    "    isRow = False\n",
    "    \n",
    "if isRow:\n",
    "  print(\"row\",end=\" \")\n",
    "  print(index,end=\" \")\n",
    "  print(max,end=\" \")\n",
    "else: \n",
    "  print(\"column\",end=\" \")\n",
    "  print(index,end=\" \")\n",
    "  print(max,end=\" \")"
   ]
  }
 ],
 "metadata": {
  "kernelspec": {
   "display_name": "Python 3",
   "language": "python",
   "name": "python3"
  },
  "language_info": {
   "codemirror_mode": {
    "name": "ipython",
    "version": 3
   },
   "file_extension": ".py",
   "mimetype": "text/x-python",
   "name": "python",
   "nbconvert_exporter": "python",
   "pygments_lexer": "ipython3",
   "version": "3.6.3"
  }
 },
 "nbformat": 4,
 "nbformat_minor": 2
}
