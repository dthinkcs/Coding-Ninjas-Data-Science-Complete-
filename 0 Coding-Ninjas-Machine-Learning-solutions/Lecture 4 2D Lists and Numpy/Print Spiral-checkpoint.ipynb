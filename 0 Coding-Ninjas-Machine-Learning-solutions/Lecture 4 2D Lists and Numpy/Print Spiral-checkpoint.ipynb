{
 "cells": [
  {
   "cell_type": "code",
   "execution_count": null,
   "metadata": {},
   "outputs": [],
   "source": [
    "##Given an N*M 2D array, print it in spiral form. That is, first you need to print the 1st row, then last column, then last row and then first column and so on.\n",
    "##Print every element only once."
   ]
  },
  {
   "cell_type": "code",
   "execution_count": 3,
   "metadata": {},
   "outputs": [
    {
     "name": "stdout",
     "output_type": "stream",
     "text": [
      " 4 4 1 2 3 4 5 6 7 8 9 10 11 12 13 14 15 16\n",
      "1 2 3 4 8 12 16 15 14 13 9 5 6 7 11 10 "
     ]
    }
   ],
   "source": [
    "inp=input().strip().split()\n",
    "n=int(inp[0])\n",
    "m=int(inp[1])\n",
    "l=[int(x) for x in inp[2:]]\n",
    "out=[[l[i*m+j]for j in range(m)]for i in range(n)]\n",
    "l,k=0,0\n",
    "while l<n and k<m:\n",
    "    for i in range(l,m):\n",
    "        print(out[l][i],end=\" \")\n",
    "    l+=1\n",
    "    for i in range(l,n):\n",
    "        print(out[i][m-1],end=\" \")\n",
    "    m-=1\n",
    "    if l<n:\n",
    "        for i in range(m-1,k-1,-1):\n",
    "            print(out[n-1][i],end=\" \")\n",
    "        n-=1\n",
    "    if k<m:\n",
    "        for i in range(n-1,l-1,-1):\n",
    "            print(out[i][k],end=\" \")\n",
    "        k+=1"
   ]
  }
 ],
 "metadata": {
  "kernelspec": {
   "display_name": "Python 3",
   "language": "python",
   "name": "python3"
  },
  "language_info": {
   "codemirror_mode": {
    "name": "ipython",
    "version": 3
   },
   "file_extension": ".py",
   "mimetype": "text/x-python",
   "name": "python",
   "nbconvert_exporter": "python",
   "pygments_lexer": "ipython3",
   "version": "3.6.3"
  }
 },
 "nbformat": 4,
 "nbformat_minor": 2
}
