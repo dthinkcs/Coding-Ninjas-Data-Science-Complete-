{
 "cells": [
  {
   "cell_type": "markdown",
   "metadata": {},
   "source": [
    "\n",
    "Print the following pattern for the given number of rows.\n",
    "Pattern for N = 5\n",
    "1 \n",
    "3 2 \n",
    "4 5 6 \n",
    "10 9 8 7 \n",
    "11 12 13 14 15"
   ]
  },
  {
   "cell_type": "code",
   "execution_count": 6,
   "metadata": {},
   "outputs": [
    {
     "name": "stdout",
     "output_type": "stream",
     "text": [
      "5\n",
      "1 \n",
      "3 2 \n",
      "4 5 6 \n",
      "10 9 8 7 \n",
      "11 12 13 14 15 \n"
     ]
    }
   ],
   "source": [
    "n=int(input())\n",
    "k=1\n",
    "p=1\n",
    "total=0\n",
    "for i in range(1,n+1):\n",
    "    if i%2==0:\n",
    "        j=1\n",
    "        ans=i*k+k\n",
    "        total=ans\n",
    "        while j<=i:\n",
    "            print(ans,end=\" \")\n",
    "            ans=ans-1\n",
    "            j=j+1\n",
    "        k=k+1\n",
    "        i=i+1\n",
    "    else:\n",
    "        ans=total+1\n",
    "        j=1\n",
    "        while j<=i:\n",
    "            print(ans,end=\" \")\n",
    "            ans=ans+1\n",
    "            j=j+1\n",
    "        i=i+1\n",
    "        p=p+1\n",
    "    print()"
   ]
  }
 ],
 "metadata": {
  "kernelspec": {
   "display_name": "Python 3",
   "language": "python",
   "name": "python3"
  },
  "language_info": {
   "codemirror_mode": {
    "name": "ipython",
    "version": 3
   },
   "file_extension": ".py",
   "mimetype": "text/x-python",
   "name": "python",
   "nbconvert_exporter": "python",
   "pygments_lexer": "ipython3",
   "version": "3.6.3"
  }
 },
 "nbformat": 4,
 "nbformat_minor": 2
}
