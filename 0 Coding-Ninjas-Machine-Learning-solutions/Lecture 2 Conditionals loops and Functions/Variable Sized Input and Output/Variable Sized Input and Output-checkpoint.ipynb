{
 "cells": [
  {
   "cell_type": "markdown",
   "metadata": {},
   "source": [
    "## variable number of inputs to a function"
   ]
  },
  {
   "cell_type": "code",
   "execution_count": 1,
   "metadata": {},
   "outputs": [
    {
     "name": "stdout",
     "output_type": "stream",
     "text": [
      "<class 'tuple'>\n",
      "(3, 4, 5, 6)\n"
     ]
    },
    {
     "data": {
      "text/plain": [
       "21"
      ]
     },
     "execution_count": 1,
     "metadata": {},
     "output_type": "execute_result"
    }
   ],
   "source": [
    "def sum(a,b,*more):\n",
    "    print(type(more))\n",
    "    print(more)\n",
    "    return 10\n",
    "sum(1,2,3,4,5,6)\n",
    "def sum_variable(a,b,*more):\n",
    "    ans=a+b\n",
    "    for i in more:\n",
    "        ans+=i\n",
    "    return ans\n",
    "sum_variable(1,2,3,4,5,6)"
   ]
  },
  {
   "cell_type": "markdown",
   "metadata": {},
   "source": [
    "## more than one return value"
   ]
  },
  {
   "cell_type": "code",
   "execution_count": 2,
   "metadata": {},
   "outputs": [
    {
     "name": "stdout",
     "output_type": "stream",
     "text": [
      "22\n",
      "-2\n",
      "(22, -2)\n"
     ]
    }
   ],
   "source": [
    "def dummy(a,b):\n",
    "    return a+b,a-b\n",
    "sum1,difference=dummy(10,12)\n",
    "print(sum1)\n",
    "print(difference)\n",
    "a=dummy(10,12)\n",
    "print(a)"
   ]
  }
 ],
 "metadata": {
  "kernelspec": {
   "display_name": "Python 3",
   "language": "python",
   "name": "python3"
  },
  "language_info": {
   "codemirror_mode": {
    "name": "ipython",
    "version": 3
   },
   "file_extension": ".py",
   "mimetype": "text/x-python",
   "name": "python",
   "nbconvert_exporter": "python",
   "pygments_lexer": "ipython3",
   "version": "3.6.3"
  }
 },
 "nbformat": 4,
 "nbformat_minor": 2
}
