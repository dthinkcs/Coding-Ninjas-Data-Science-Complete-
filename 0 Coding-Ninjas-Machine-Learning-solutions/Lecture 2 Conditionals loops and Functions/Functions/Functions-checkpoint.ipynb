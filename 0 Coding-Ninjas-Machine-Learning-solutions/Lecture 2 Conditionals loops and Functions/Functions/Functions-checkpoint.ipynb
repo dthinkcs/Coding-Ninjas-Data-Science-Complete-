{
 "cells": [
  {
   "cell_type": "markdown",
   "metadata": {},
   "source": [
    "## Function"
   ]
  },
  {
   "cell_type": "code",
   "execution_count": 2,
   "metadata": {},
   "outputs": [
    {
     "name": "stdout",
     "output_type": "stream",
     "text": [
      "30\n"
     ]
    }
   ],
   "source": [
    "def sum(a,b):\n",
    "    z=a+b\n",
    "    return z\n",
    "x=10\n",
    "y=20\n",
    "a=sum(x,y)\n",
    "print(a)"
   ]
  },
  {
   "cell_type": "markdown",
   "metadata": {},
   "source": [
    "## default arguments to a function"
   ]
  },
  {
   "cell_type": "code",
   "execution_count": 3,
   "metadata": {},
   "outputs": [
    {
     "name": "stdout",
     "output_type": "stream",
     "text": [
      "10000\n",
      "144\n"
     ]
    }
   ],
   "source": [
    "def pow(x,y=2):\n",
    "    return x**y\n",
    "s=10\n",
    "e=4\n",
    "print(pow(10,4))\n",
    "print(pow(12))"
   ]
  },
  {
   "cell_type": "code",
   "execution_count": 4,
   "metadata": {},
   "outputs": [
    {
     "name": "stdout",
     "output_type": "stream",
     "text": [
      "6\n",
      "5\n",
      "13\n",
      "15\n"
     ]
    }
   ],
   "source": [
    "def sum3(a=3,b=1,c=2):\n",
    "    return a+b+c\n",
    "print(sum3(1,2,3))\n",
    "print(sum3(1,2))\n",
    "print(sum3(10))\n",
    "print(sum3(b=10))"
   ]
  }
 ],
 "metadata": {
  "kernelspec": {
   "display_name": "Python 3",
   "language": "python",
   "name": "python3"
  },
  "language_info": {
   "codemirror_mode": {
    "name": "ipython",
    "version": 3
   },
   "file_extension": ".py",
   "mimetype": "text/x-python",
   "name": "python",
   "nbconvert_exporter": "python",
   "pygments_lexer": "ipython3",
   "version": "3.6.3"
  }
 },
 "nbformat": 4,
 "nbformat_minor": 2
}
