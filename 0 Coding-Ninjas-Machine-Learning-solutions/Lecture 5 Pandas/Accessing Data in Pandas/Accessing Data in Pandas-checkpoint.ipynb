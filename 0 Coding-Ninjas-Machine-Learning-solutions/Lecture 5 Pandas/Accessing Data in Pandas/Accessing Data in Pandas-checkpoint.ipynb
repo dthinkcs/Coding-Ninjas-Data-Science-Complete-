{
 "cells": [
  {
   "cell_type": "code",
   "execution_count": null,
   "metadata": {},
   "outputs": [],
   "source": [
    "import pandas as pd\n",
    "iris=pd.read_csv(\"https://archive.ics.uci.edu/ml/machine-learning-database/iris/iris.data\")\n",
    "df=iris.head()\n",
    "df.head(3)\n",
    "df.columns=['sl','sw','pl','pw','flower_type']\n",
    "print(df.shape)\n",
    "print(df.dtypes)\n",
    "df.describe()\n",
    "df.sl\n",
    "df[\"sl\"]\n",
    "df.isnull()\n",
    "df.isnull().sum()\n",
    "df.iloc[1:4,2:4]"
   ]
  }
 ],
 "metadata": {
  "kernelspec": {
   "display_name": "Python 3",
   "language": "python",
   "name": "python3"
  },
  "language_info": {
   "codemirror_mode": {
    "name": "ipython",
    "version": 3
   },
   "file_extension": ".py",
   "mimetype": "text/x-python",
   "name": "python",
   "nbconvert_exporter": "python",
   "pygments_lexer": "ipython3",
   "version": "3.6.3"
  }
 },
 "nbformat": 4,
 "nbformat_minor": 2
}
