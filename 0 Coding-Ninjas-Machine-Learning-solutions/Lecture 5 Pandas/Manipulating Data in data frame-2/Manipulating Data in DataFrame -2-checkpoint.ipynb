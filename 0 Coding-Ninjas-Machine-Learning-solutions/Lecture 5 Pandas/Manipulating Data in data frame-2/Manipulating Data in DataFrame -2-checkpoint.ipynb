{
 "cells": [
  {
   "cell_type": "code",
   "execution_count": null,
   "metadata": {},
   "outputs": [],
   "source": [
    "import pandas as pd\n",
    "iris=pd.read_csv(\"https://archive.ics.uci.edu/ml/machine-learning-database/iris/iris.data\")\n",
    "df=iris.head()\n",
    "df.head(3)\n",
    "df.columns=['sl','sw','pl','pw','flower_type']\n",
    "print(df.shape)\n",
    "print(df.dtypes)\n",
    "df.describe()\n",
    "df.sl\n",
    "df[\"sl\"]\n",
    "df.isnull()\n",
    "df.isnull().sum()\n",
    "df.iloc[1:4,2:4]"
   ]
  },
  {
   "cell_type": "code",
   "execution_count": null,
   "metadata": {},
   "outputs": [],
   "source": [
    "df.head()\n",
    "df.drop(0)\n",
    "#drop by label\n",
    "a=df.drop(0)\n",
    "a.head()\n",
    "df.drop(0,inplace=True)\n",
    "#drop by position\n",
    "df.drop(df.index[0])\n",
    "df.index[0],df.index[3]\n",
    "df.drop(df.index[0],inplace=True)\n",
    "df.drop(df.index[[0,1]],inplace=True)\n",
    "df.sl>3\n",
    "df[df.sl>5]\n",
    "df[df.flower_type=='Iris_setosa'].describe()\n",
    "#add a row\n",
    "df.iloc[0]\n",
    "print(df.iloc[0])\n",
    "print(df.loc[0])\n",
    "df.loc[0]=[1,2,3,4,\"Iris_setosa\"]\n",
    "df.tail()"
   ]
  },
  {
   "cell_type": "code",
   "execution_count": null,
   "metadata": {},
   "outputs": [],
   "source": [
    "df.reset_index()\n",
    "df.reset_index(drop=True)\n",
    "df.reset_index(drop=True,inplace=True)\n",
    "df.drop('sl',axis=1,inplace=True)\n",
    "del df['sw']\n",
    "df=iris.copy()\n",
    "df.columns=['sl','sw','pl','pw','flower_type']\n",
    "df.describe()\n",
    "df[\"diff_pl_pw\"]=df[\"pl\"]-df[\"pw\"]\n",
    "df.tail()"
   ]
  }
 ],
 "metadata": {
  "kernelspec": {
   "display_name": "Python 3",
   "language": "python",
   "name": "python3"
  },
  "language_info": {
   "codemirror_mode": {
    "name": "ipython",
    "version": 3
   },
   "file_extension": ".py",
   "mimetype": "text/x-python",
   "name": "python",
   "nbconvert_exporter": "python",
   "pygments_lexer": "ipython3",
   "version": "3.6.3"
  }
 },
 "nbformat": 4,
 "nbformat_minor": 2
}
