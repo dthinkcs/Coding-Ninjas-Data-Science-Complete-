{
 "cells": [
  {
   "cell_type": "markdown",
   "metadata": {},
   "source": [
    "## Dataset and its structure\n",
    "\n",
    "1. We can use Urban Sound Classification ( https://urbansounddataset.weebly.com/ ) dataset which is quite popular.\n",
    "2. Whichever dataset you are using, it is important to understand its structure and how to extract required features out of them.\n",
    "3. For UrbanSound8K dataset, it can be downloaded using the following link ( https://goo.gl/8hY5ER  ). It downloads a compressed tar file of size around 6GB.\n",
    "4. On extracting it, it contains two folders named 'audio' and 'metadata'.\n",
    "5. Audio folder contains 10 folders with name fold1, fold2 and so on, each having approximately 800 audio files of 4s each.\n",
    "6. Metadata folder contains a .csv file having various columns such as file_id, label, class_id corresponding to label, salience etc.\n",
    "7. Complete description can be found here https://urbansounddataset.weebly.com/urbansound8k.html\n",
    "\n",
    "## Research Paper and Resources to follow\n",
    "\n",
    "1. https://github.com/meyda/meyda/wiki/audio-features\n",
    "2. https://github.com/tyiannak/pyAudioAnalysis/wiki/3.-Feature-Extraction\n",
    "3. https://medium.com/@ageitgey/machine-learning-is-fun-part-6-how-to-do-speech-recognition-with-deep-learning-28293c162f7a\n",
    "4. https://towardsdatascience.com/urban-sound-classification-part-1-99137c6335f9\n",
    "5. https://www.analyticsvidhya.com/blog/2017/08/audio-voice-processing-deep-learning/\n",
    "\n",
    "## Library To Use\n",
    "\n",
    "We can use librosa library which can be installed using \n",
    "> pip install librosa\n",
    "\n",
    "It uses ffmpeg as backend to convert and read some of the audio files. So to install ffmpeg, you can use \n",
    "> apt-get install ffmpeg\n",
    "\n",
    "Librosa library can read audio files and convert them to there amplitude values for each sample of audio. Let us say there is an audio file of 4s and sampling rate of audio file is 22050 Hz. This means that audio file is made using amplitude samples such that 22050 samples of amplitudes are recorded in each second. Hence a 4s audio file with sampling rate 22050 can be expressed as an array of 4\\*22050=88200 size \n"
   ]
  },
  {
   "cell_type": "markdown",
   "metadata": {},
   "source": [
    "## How to Load Audio Files and Extract Features\n",
    "\n",
    "Using load method of librosa library, we can read audio files. It takes file path as input and returns an array having amplitude samples along with sampling rate of file.\n",
    "\n",
    "Librosa library has many methods already build to extract features mentioned in resources which then returns another array of features.\n",
    "We can use various combinations of those features. This is something you can play around and try how and which features like mfcc, spectral features, energy etc affect the classification of audio. \n",
    "\n",
    "For eg, in first stage you can extract only mfcc features and then build up a model and check the accuracy. Then try the same with other features. In order to further improve accuracy, you can also try to use more than one type of features and check the results.\n",
    "\n",
    "## Using CNN to classify sound\n",
    "\n",
    "This is a very classical way of sound classification as it is observed that similar type of sounds have similar spectrogram (read resource 3 to understand more about spectrogram). A spectrogram is a visual representation of the spectrum of frequencies of sound or other signal as they vary with time. And thus we can train a CNN network which takes these spectrogram images as input and using it tries to generalize patterns and hence classify them."
   ]
  }
 ],
 "metadata": {
  "kernelspec": {
   "display_name": "Python 3",
   "language": "python",
   "name": "python3"
  },
  "language_info": {
   "codemirror_mode": {
    "name": "ipython",
    "version": 3
   },
   "file_extension": ".py",
   "mimetype": "text/x-python",
   "name": "python",
   "nbconvert_exporter": "python",
   "pygments_lexer": "ipython3",
   "version": "3.6.3"
  }
 },
 "nbformat": 4,
 "nbformat_minor": 2
}
