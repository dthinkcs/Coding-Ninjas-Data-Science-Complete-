{
 "cells": [
  {
   "cell_type": "code",
   "execution_count": 2,
   "metadata": {},
   "outputs": [
    {
     "name": "stdout",
     "output_type": "stream",
     "text": [
      "5\n",
      "3 2 1 3 2\n",
      "2\n"
     ]
    }
   ],
   "source": [
    "n=int(input())\n",
    "l=[int(x) for x in input().split()]\n",
    "sum=0\n",
    "i=0\n",
    "leftsum=0\n",
    "for i in range(n):\n",
    "    sum=sum+l[i]\n",
    "for i in range(n):\n",
    "    sum=sum-l[i]\n",
    "    if leftsum==sum:\n",
    "        print(i)\n",
    "        break\n",
    "    leftsum=leftsum+l[i]"
   ]
  }
 ],
 "metadata": {
  "kernelspec": {
   "display_name": "Python 3",
   "language": "python",
   "name": "python3"
  },
  "language_info": {
   "codemirror_mode": {
    "name": "ipython",
    "version": 3
   },
   "file_extension": ".py",
   "mimetype": "text/x-python",
   "name": "python",
   "nbconvert_exporter": "python",
   "pygments_lexer": "ipython3",
   "version": "3.6.3"
  }
 },
 "nbformat": 4,
 "nbformat_minor": 2
}
