{
 "cells": [
  {
   "cell_type": "markdown",
   "metadata": {},
   "source": [
    "## Add elements in a list"
   ]
  },
  {
   "cell_type": "code",
   "execution_count": 1,
   "metadata": {},
   "outputs": [
    {
     "name": "stdout",
     "output_type": "stream",
     "text": [
      "[1, 'ac', 3, 2]\n"
     ]
    }
   ],
   "source": [
    "l=[1,\"ac\",3]\n",
    "l.append(2)\n",
    "print(l)\n",
    "l2=[2,3,4,5,6]\n",
    "l.extend(l2)"
   ]
  },
  {
   "cell_type": "markdown",
   "metadata": {},
   "source": [
    "## Deleting Elements"
   ]
  },
  {
   "cell_type": "code",
   "execution_count": 2,
   "metadata": {},
   "outputs": [
    {
     "name": "stdout",
     "output_type": "stream",
     "text": [
      "[1, 'ac', 3, 2, 2, 3, 4, 5]\n",
      "[1, 'ac', 2, 2, 3, 4, 5]\n",
      "[1, 'ac', 2, 2, 4, 5]\n"
     ]
    }
   ],
   "source": [
    "l.pop()#without arguments its going to delete the last element\n",
    "print(l)\n",
    "l.pop(2)#remove element at index 2\n",
    "print(l)\n",
    "l.remove(3)\n",
    "print(l)\n",
    "del l[0:2] # removes one element or complete slice"
   ]
  },
  {
   "cell_type": "code",
   "execution_count": 3,
   "metadata": {},
   "outputs": [
    {
     "data": {
      "text/plain": [
       "[1, 2, 3, 1, 2, 3]"
      ]
     },
     "execution_count": 3,
     "metadata": {},
     "output_type": "execute_result"
    }
   ],
   "source": [
    "l=[1,2,3]\n",
    "#addition of list with int is not ok\n",
    "l+l\n",
    "#Multiplication with int is fine\n",
    "l*2"
   ]
  },
  {
   "cell_type": "code",
   "execution_count": 4,
   "metadata": {},
   "outputs": [
    {
     "name": "stdout",
     "output_type": "stream",
     "text": [
      "[1, 1, 2, 3, 4, 6, 7, 8, 9]\n",
      "2\n",
      "5\n",
      "[9, 8, 7, 6, 4, 3, 2, 1, 1]\n"
     ]
    }
   ],
   "source": [
    "l=[2,3,1,8,4,9,7,1,6]\n",
    "l.sort()\n",
    "print(l)\n",
    "print(l.count(1))\n",
    "print(l.index(6))\n",
    "l.reverse()\n",
    "print(l)"
   ]
  }
 ],
 "metadata": {
  "kernelspec": {
   "display_name": "Python 3",
   "language": "python",
   "name": "python3"
  },
  "language_info": {
   "codemirror_mode": {
    "name": "ipython",
    "version": 3
   },
   "file_extension": ".py",
   "mimetype": "text/x-python",
   "name": "python",
   "nbconvert_exporter": "python",
   "pygments_lexer": "ipython3",
   "version": "3.6.3"
  }
 },
 "nbformat": 4,
 "nbformat_minor": 2
}
