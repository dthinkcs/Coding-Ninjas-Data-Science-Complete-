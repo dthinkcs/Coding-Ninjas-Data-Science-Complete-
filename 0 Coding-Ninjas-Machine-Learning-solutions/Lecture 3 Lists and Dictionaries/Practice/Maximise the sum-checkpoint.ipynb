{
 "cells": [
  {
   "cell_type": "code",
   "execution_count": 1,
   "metadata": {},
   "outputs": [
    {
     "name": "stdout",
     "output_type": "stream",
     "text": [
      "6\n",
      "1 5 10 15 20 25\n",
      "5\n",
      "2 4 5 9 15\n",
      "81\n"
     ]
    }
   ],
   "source": [
    "m=int(input())\n",
    "ar1=[int(i) for i in input().strip().split()]\n",
    "n=int(input())\n",
    "ar2=[int(j) for j in input().strip().split()]\n",
    "i=0\n",
    "j=0\n",
    "result=0\n",
    "sum1=0\n",
    "sum2=0\n",
    "while (i<m and j<n):\n",
    "    if ar1[i]<ar2[j]:\n",
    "        sum1+=ar1[i]\n",
    "        i+=1\n",
    "    elif ar1[i]>ar2[j]:\n",
    "        sum2+=ar2[j]\n",
    "        j+=1\n",
    "    else:\n",
    "        result+=max(sum1,sum2)\n",
    "        sum1,sum2=0,0\n",
    "        result+=ar1[i]\n",
    "        i+=1\n",
    "        j+=1\n",
    "while i<m:\n",
    "    sum1+=ar1[i]\n",
    "    i+=1\n",
    "while j<n:\n",
    "    sum2+=ar2[j]\n",
    "    j+=1\n",
    "result+=max(sum1,sum2)\n",
    "print(result)"
   ]
  }
 ],
 "metadata": {
  "kernelspec": {
   "display_name": "Python 3",
   "language": "python",
   "name": "python3"
  },
  "language_info": {
   "codemirror_mode": {
    "name": "ipython",
    "version": 3
   },
   "file_extension": ".py",
   "mimetype": "text/x-python",
   "name": "python",
   "nbconvert_exporter": "python",
   "pygments_lexer": "ipython3",
   "version": "3.6.3"
  }
 },
 "nbformat": 4,
 "nbformat_minor": 2
}
