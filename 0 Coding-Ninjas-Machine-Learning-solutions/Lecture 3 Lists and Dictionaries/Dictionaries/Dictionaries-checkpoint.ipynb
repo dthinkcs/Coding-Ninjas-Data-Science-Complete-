{
 "cells": [
  {
   "cell_type": "markdown",
   "metadata": {},
   "source": [
    " ## how to create a dictionary and update and insert"
   ]
  },
  {
   "cell_type": "code",
   "execution_count": 1,
   "metadata": {},
   "outputs": [
    {
     "name": "stdout",
     "output_type": "stream",
     "text": [
      "{24: 34, 'str': 345}\n",
      "{23: 36, 'str1': 344}\n"
     ]
    }
   ],
   "source": [
    "d={}\n",
    "d[24]=34\n",
    "d[\"str\"]=345\n",
    "print(d)\n",
    "d={23:34,\"str1\":344}\n",
    "d[23]=36\n",
    "print(d)"
   ]
  },
  {
   "cell_type": "markdown",
   "metadata": {},
   "source": [
    "## how to iterate over a dictionary"
   ]
  },
  {
   "cell_type": "code",
   "execution_count": 2,
   "metadata": {},
   "outputs": [
    {
     "name": "stdout",
     "output_type": "stream",
     "text": [
      "23:36\n",
      "str1:344\n"
     ]
    }
   ],
   "source": [
    "for i in d:\n",
    "    print(i,end=\":\")\n",
    "    print(d[i])\n",
    "del d[23]"
   ]
  },
  {
   "cell_type": "markdown",
   "metadata": {},
   "source": [
    "## Common functions in dictionaries"
   ]
  },
  {
   "cell_type": "code",
   "execution_count": 3,
   "metadata": {},
   "outputs": [
    {
     "name": "stdout",
     "output_type": "stream",
     "text": [
      "True\n",
      "1\n",
      "{}\n",
      "dict_keys([2])\n",
      "dict_values([1])\n",
      "False\n"
     ]
    }
   ],
   "source": [
    "d1={}\n",
    "d1[2]=1\n",
    "d2={}\n",
    "d2[2]=1\n",
    "print(d1==d2)\n",
    "print(len(d1))\n",
    "d1.clear()\n",
    "print(d1)\n",
    "print(d2.keys())\n",
    "print(d2.values())\n",
    "print(23 in d2)"
   ]
  }
 ],
 "metadata": {
  "kernelspec": {
   "display_name": "Python 3",
   "language": "python",
   "name": "python3"
  },
  "language_info": {
   "codemirror_mode": {
    "name": "ipython",
    "version": 3
   },
   "file_extension": ".py",
   "mimetype": "text/x-python",
   "name": "python",
   "nbconvert_exporter": "python",
   "pygments_lexer": "ipython3",
   "version": "3.6.3"
  }
 },
 "nbformat": 4,
 "nbformat_minor": 2
}
