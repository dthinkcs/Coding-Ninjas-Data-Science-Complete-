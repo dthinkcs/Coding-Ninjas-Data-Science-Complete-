{
 "cells": [
  {
   "cell_type": "code",
   "execution_count": 2,
   "metadata": {},
   "outputs": [
    {
     "name": "stdout",
     "output_type": "stream",
     "text": [
      "5\n",
      "2 1 4 3 5\n",
      "1 2 3 4 5 "
     ]
    }
   ],
   "source": [
    "n=int(input())\n",
    "l=[int(n) for n in input().split()]\n",
    "for i in range(len(l)):\n",
    "    min_=min(l[i:])\n",
    "    min_index=l[i:].index(min_)\n",
    "    l[i+min_index]=l[i]\n",
    "    l[i]=min_\n",
    "for i in range(len(l)):\n",
    "    print(l[i],end=\" \")"
   ]
  }
 ],
 "metadata": {
  "kernelspec": {
   "display_name": "Python 3",
   "language": "python",
   "name": "python3"
  },
  "language_info": {
   "codemirror_mode": {
    "name": "ipython",
    "version": 3
   },
   "file_extension": ".py",
   "mimetype": "text/x-python",
   "name": "python",
   "nbconvert_exporter": "python",
   "pygments_lexer": "ipython3",
   "version": "3.6.3"
  }
 },
 "nbformat": 4,
 "nbformat_minor": 2
}
