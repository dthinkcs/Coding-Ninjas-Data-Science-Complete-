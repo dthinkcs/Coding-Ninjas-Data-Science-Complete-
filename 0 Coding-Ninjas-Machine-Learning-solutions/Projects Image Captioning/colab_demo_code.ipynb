{
 "cells": [
  {
   "cell_type": "markdown",
   "metadata": {
    "colab_type": "text",
    "id": "SdZkJKIFM-k8"
   },
   "source": [
    "# Downloading dataset"
   ]
  },
  {
   "cell_type": "code",
   "execution_count": 0,
   "metadata": {
    "colab": {
     "autoexec": {
      "startup": false,
      "wait_interval": 0
     }
    },
    "colab_type": "code",
    "collapsed": true,
    "id": "4t3g_f25jvyi"
   },
   "outputs": [],
   "source": [
    "! wget https://archive.org/download/mnist/mnist.zip"
   ]
  },
  {
   "cell_type": "markdown",
   "metadata": {
    "colab_type": "text",
    "id": "JenrI7AENBxD"
   },
   "source": [
    "# Extracting Dataset"
   ]
  },
  {
   "cell_type": "code",
   "execution_count": 0,
   "metadata": {
    "colab": {
     "autoexec": {
      "startup": false,
      "wait_interval": 0
     }
    },
    "colab_type": "code",
    "collapsed": true,
    "id": "UKdCw1bsM5Gk"
   },
   "outputs": [],
   "source": [
    "! unzip mnist.zip -d mnist/"
   ]
  },
  {
   "cell_type": "markdown",
   "metadata": {
    "colab_type": "text",
    "id": "1kpDCuOdNP6O"
   },
   "source": [
    "# Loading dataset in memory"
   ]
  },
  {
   "cell_type": "code",
   "execution_count": 0,
   "metadata": {
    "colab": {
     "autoexec": {
      "startup": false,
      "wait_interval": 0
     }
    },
    "colab_type": "code",
    "collapsed": true,
    "id": "UXSBBvxiNVFK"
   },
   "outputs": [],
   "source": [
    "import pandas as pd\n",
    "import numpy as np\n",
    "from keras.utils import to_categorical"
   ]
  },
  {
   "cell_type": "code",
   "execution_count": 0,
   "metadata": {
    "colab": {
     "autoexec": {
      "startup": false,
      "wait_interval": 0
     }
    },
    "colab_type": "code",
    "collapsed": true,
    "id": "LqYi4k-ZNXE3"
   },
   "outputs": [],
   "source": [
    "df_train = pd.read_csv(\"mnist/train.csv\")\n",
    "X_train = df_train.iloc[:,1:].values\n",
    "Y_train = df_train.iloc[:,0].values\n",
    "Y_train = to_categorical(Y_train, num_classes=10) # one hot encoding of labels"
   ]
  },
  {
   "cell_type": "markdown",
   "metadata": {
    "colab_type": "text",
    "id": "48fBkr7PYbP9"
   },
   "source": [
    "# Installing boto3 package too upload files to AWS S3 or Digital Ocean Spaces"
   ]
  },
  {
   "cell_type": "code",
   "execution_count": 0,
   "metadata": {
    "colab": {
     "autoexec": {
      "startup": false,
      "wait_interval": 0
     }
    },
    "colab_type": "code",
    "collapsed": true,
    "id": "KcRSMa9CNH12"
   },
   "outputs": [],
   "source": [
    "! pip install boto3\n",
    "import boto3"
   ]
  },
  {
   "cell_type": "markdown",
   "metadata": {
    "colab_type": "text",
    "id": "2u6qWHquYtOb"
   },
   "source": [
    "# Creating model"
   ]
  },
  {
   "cell_type": "code",
   "execution_count": 0,
   "metadata": {
    "colab": {
     "autoexec": {
      "startup": false,
      "wait_interval": 0
     }
    },
    "colab_type": "code",
    "collapsed": true,
    "id": "IUQA7EZZYsgC"
   },
   "outputs": [],
   "source": [
    "from keras.models import Sequential\n",
    "from keras.layers import Dense\n",
    "from keras.optimizers import Adam"
   ]
  },
  {
   "cell_type": "code",
   "execution_count": 0,
   "metadata": {
    "colab": {
     "autoexec": {
      "startup": false,
      "wait_interval": 0
     }
    },
    "colab_type": "code",
    "collapsed": true,
    "id": "0KW210owZO0B"
   },
   "outputs": [],
   "source": [
    "def create_model():\n",
    "  model = Sequential()\n",
    "  model.add(Dense(30,input_dim=784,activation='sigmoid'))\n",
    "  model.add(Dense(50,activation='sigmoid'))\n",
    "  model.add(Dense(50,activation='sigmoid'))\n",
    "  model.add(Dense(10,activation='softmax'))\n",
    "\n",
    "  model.compile(loss=\"categorical_crossentropy\", optimizer='adam',metrics=['accuracy'])\n",
    "  model.summary()\n",
    "  return model"
   ]
  },
  {
   "cell_type": "markdown",
   "metadata": {
    "colab_type": "text",
    "id": "YnzqzNbjnMpq"
   },
   "source": [
    "# Training model\n",
    "\n",
    "#### Make sure to update value of parameters used below"
   ]
  },
  {
   "cell_type": "code",
   "execution_count": 0,
   "metadata": {
    "colab": {
     "autoexec": {
      "startup": false,
      "wait_interval": 0
     }
    },
    "colab_type": "code",
    "collapsed": true,
    "id": "3Efm1nV5aWpy"
   },
   "outputs": [],
   "source": [
    "model = create_model()\n",
    "! mkdir models\n",
    "no_of_epochs = 10\n",
    "session = boto3.Session(aws_access_key_id=\"Put AWS Key ID here \" , aws_secret_access_key = \" Put secret key here\" )\n",
    "s3 = session.resource('s3',endpoint_url=\"you can configure this endpoint for using digital ocean spaces, remove this option if using s3 \",region_name=\" set region name of bucket\")\n",
    "bucket = s3.Bucket(\"Bucket Name\")\n",
    "\n",
    "for i in range(no_of_epochs):\n",
    "  history = model.fit(X_train,Y_train,epochs=1)\n",
    "  file_name = \"models/\" + \"epoch-\" + str(i) + \"-loss-\" + str(history.history[\"loss\"][0]) + \".h5\"\n",
    "  # saving model\n",
    "  model.save(file_name)\n",
    "  \n",
    "  # compressing files\n",
    "  ! tar -cvf models.tar.gz models\n",
    "  \n",
    "  # uploading compressed models.tar.gz to s3 bucket and making it public\n",
    "  with open('models.tar.gz','rb') as data:\n",
    "    bucket.upload_fileobj(data, 'models.tar.gz')\n",
    "  object_acl = s3.ObjectAcl('Bucket name','models.tar.gz')\n",
    "  response = object_acl.put(ACL='public-read') # to make the file public so that you can download it using wget commands whenever you train next time\n",
    "  \n",
    "! ls models/"
   ]
  },
  {
   "cell_type": "code",
   "execution_count": 0,
   "metadata": {
    "colab": {
     "autoexec": {
      "startup": false,
      "wait_interval": 0
     }
    },
    "colab_type": "code",
    "collapsed": true,
    "id": "rWTVoda9jscq"
   },
   "outputs": [],
   "source": [
    "model.evaluate(X_train,Y_train)"
   ]
  }
 ],
 "metadata": {
  "anaconda-cloud": {},
  "colab": {
   "collapsed_sections": [],
   "default_view": {},
   "name": "Google Colab Demo.ipynb",
   "provenance": [],
   "version": "0.3.2",
   "views": {}
  },
  "kernelspec": {
   "display_name": "Python [conda env:py3k]",
   "language": "python",
   "name": "conda-env-py3k-py"
  },
  "language_info": {
   "codemirror_mode": {
    "name": "ipython",
    "version": 3
   },
   "file_extension": ".py",
   "mimetype": "text/x-python",
   "name": "python",
   "nbconvert_exporter": "python",
   "pygments_lexer": "ipython3",
   "version": "3.6.0"
  }
 },
 "nbformat": 4,
 "nbformat_minor": 1
}
