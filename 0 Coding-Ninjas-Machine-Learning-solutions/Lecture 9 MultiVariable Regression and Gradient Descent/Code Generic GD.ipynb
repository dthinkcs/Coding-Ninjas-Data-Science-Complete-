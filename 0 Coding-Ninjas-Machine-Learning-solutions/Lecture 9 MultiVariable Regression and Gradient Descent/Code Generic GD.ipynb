{
 "cells": [
  {
   "cell_type": "code",
   "execution_count": null,
   "metadata": {
    "collapsed": true
   },
   "outputs": [],
   "source": [
    "import numpy as np"
   ]
  },
  {
   "cell_type": "code",
   "execution_count": null,
   "metadata": {
    "collapsed": true
   },
   "outputs": [],
   "source": [
    "#Batch Gradient Descent\n",
    "#Function to calculate slopes and intercept for each iteration\n",
    "#def step_gradient(X, Y, learning_rate, slope):\n",
    "#    #As there are n features, we will initialize n slopes as 0\n",
    "#    new_slope = np.zeros(X.shape[1])\n",
    "#    for i in range(X.shape[0]):\n",
    "#        for j in range(X.shape[1]):\n",
    "#            x = X[i][j]\n",
    "#            y = Y[i]\n",
    "#            new_slope[j] += -(2/X.shape[0]) * (y - (slope * X[i]).sum()) * x\n",
    "                    \n",
    "#    new_slope = slope - (learning_rate * new_slope)\n",
    "#   return new_slope"
   ]
  },
  {
   "cell_type": "code",
   "execution_count": null,
   "metadata": {
    "collapsed": true
   },
   "outputs": [],
   "source": [
    "#Function to calculate slopes and intercept for each iteration - Stochastic Gradient Descent\n",
    "def step_gradient(X, Y, learning_rate, slope):\n",
    "    #As there are n features, we will initialize n slopes as 0\n",
    "    new_slope = np.zeros(X.shape[1])\n",
    "    #new_slope = np.copy(slope)\n",
    "    for i in range(X.shape[0]):\n",
    "        for j in range(X.shape[1]):\n",
    "            x = X[i][j]\n",
    "            y = Y[i]\n",
    "            new_slope[j] = -(2/X.shape[0]) * (y - (slope * X[i]).sum()) * x\n",
    "        #Update slope after every data point    \n",
    "        slope = slope - (learning_rate * new_slope) \n",
    "        \n",
    "    return slope"
   ]
  },
  {
   "cell_type": "code",
   "execution_count": null,
   "metadata": {
    "collapsed": true
   },
   "outputs": [],
   "source": [
    "#Helper function which calls the step_gradient function at each iteration\n",
    "def gd(X, Y, learning_rate, num_iterations):\n",
    "    #Let the initial slopes be 0\n",
    "    slope = np.zeros(X.shape[1])\n",
    "    print(\"Cost at starting : \", cost(X, Y, slope))\n",
    "    for i in range(num_iterations):\n",
    "        slope = step_gradient(X, Y, learning_rate, slope)\n",
    "        if i%100 == 0:\n",
    "            print(\" Cost at \",i, \"iteration : \", cost(X, Y, slope))\n",
    "    print(\"Cost at end : \", cost(X, Y, slope))\n",
    "    return slope"
   ]
  },
  {
   "cell_type": "code",
   "execution_count": null,
   "metadata": {
    "collapsed": true
   },
   "outputs": [],
   "source": [
    "#Function to calculate cost\n",
    "def cost(X, Y, slope):\n",
    "    total_cost = 0\n",
    "    for i in range(X.shape[0]):\n",
    "        total_cost += (1/X.shape[0])*((Y[i] - (slope * X[i]).sum())**2)\n",
    "    return total_cost"
   ]
  },
  {
   "cell_type": "code",
   "execution_count": null,
   "metadata": {
    "collapsed": true
   },
   "outputs": [],
   "source": [
    "def run(X, Y, learning_rate, num_iterations = 1000):\n",
    "    slope = gd(X, Y, learning_rate, num_iterations)\n",
    "    return slope"
   ]
  },
  {
   "cell_type": "code",
   "execution_count": null,
   "metadata": {},
   "outputs": [],
   "source": [
    "learning_rate = 0.01\n",
    "num_iterations = 1000\n",
    "slope = run(X_train_l, Y_train_l, learning_rate, num_iterations)\n"
   ]
  }
 ],
 "metadata": {
  "kernelspec": {
   "display_name": "Python 3",
   "language": "python",
   "name": "python3"
  },
  "language_info": {
   "codemirror_mode": {
    "name": "ipython",
    "version": 3
   },
   "file_extension": ".py",
   "mimetype": "text/x-python",
   "name": "python",
   "nbconvert_exporter": "python",
   "pygments_lexer": "ipython3",
   "version": "3.6.3"
  }
 },
 "nbformat": 4,
 "nbformat_minor": 2
}
