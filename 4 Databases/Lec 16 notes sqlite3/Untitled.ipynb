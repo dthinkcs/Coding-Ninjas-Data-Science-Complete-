{
 "cells": [
  {
   "cell_type": "code",
   "execution_count": 206,
   "metadata": {},
   "outputs": [
    {
     "data": {
      "text/plain": [
       "Movie_id\n",
       "10454    1\n",
       "11289    1\n",
       "13277    1\n",
       "21768    1\n",
       "24887    1\n",
       "27783    1\n",
       "31722    2\n",
       "36011    1\n",
       "36478    1\n",
       "37979    1\n",
       "46824    1\n",
       "46900    1\n",
       "Name: genre, dtype: int64"
      ]
     },
     "execution_count": 206,
     "metadata": {},
     "output_type": "execute_result"
    }
   ],
   "source": [
    "import sqlite3\n",
    "import pandas as pd\n",
    "import matplotlib.pyplot as plt\n",
    "\n",
    "db = sqlite3.connect('IMDB.sqlite')\n",
    "df1 = pd.read_sql_query(\"Select * from IMDB\", db)\n",
    "df2 = pd.read_sql_query(\"Select * from genre\", db)\n",
    "\n",
    "df = pd.merge(df1, df2, on='Movie_id', how='outer')\n",
    "\n",
    "df['Rating'].replace('',0,inplace=True)\n",
    "df['Rating'].replace(' ',0,inplace=True)\n",
    "df['Rating'].astype(float)\n",
    "df['Rating'].astype(int)\n",
    "\n",
    "df = df[(df['genre'] == 'Sci-Fi') | (df['genre'] == 'Mystery')]\n",
    "\n",
    "df = df[df['Rating'] >= 8]\n",
    "df\n",
    "# df['total'] = df['Domestic'] + df['Worldwide']\n",
    "\n",
    "\n",
    "df.groupby('Movie_id')['genre'].nunique()\n",
    "\n",
    "# df = df.to_frame()\n",
    "\n",
    "# df['percent'] = round(df['total']*100/df['total'].sum(),2)\n",
    "# df = df.reset_index()\n",
    "\n",
    "# x = df['genre'].tolist()\n",
    "# y= df['total'].tolist()\n",
    "# z = df['percent'].tolist()\n",
    "\n",
    "# for i in range(len(x)):\n",
    "#     print(x[i],z[i])"
   ]
  },
  {
   "cell_type": "code",
   "execution_count": null,
   "metadata": {},
   "outputs": [],
   "source": []
  },
  {
   "cell_type": "code",
   "execution_count": null,
   "metadata": {},
   "outputs": [],
   "source": []
  },
  {
   "cell_type": "code",
   "execution_count": null,
   "metadata": {},
   "outputs": [],
   "source": []
  },
  {
   "cell_type": "code",
   "execution_count": null,
   "metadata": {},
   "outputs": [],
   "source": []
  },
  {
   "cell_type": "code",
   "execution_count": null,
   "metadata": {},
   "outputs": [],
   "source": []
  },
  {
   "cell_type": "code",
   "execution_count": null,
   "metadata": {},
   "outputs": [],
   "source": []
  },
  {
   "cell_type": "code",
   "execution_count": null,
   "metadata": {},
   "outputs": [],
   "source": []
  }
 ],
 "metadata": {
  "kernelspec": {
   "display_name": "Python 3",
   "language": "python",
   "name": "python3"
  },
  "language_info": {
   "codemirror_mode": {
    "name": "ipython",
    "version": 3
   },
   "file_extension": ".py",
   "mimetype": "text/x-python",
   "name": "python",
   "nbconvert_exporter": "python",
   "pygments_lexer": "ipython3",
   "version": "3.7.3"
  }
 },
 "nbformat": 4,
 "nbformat_minor": 2
}
