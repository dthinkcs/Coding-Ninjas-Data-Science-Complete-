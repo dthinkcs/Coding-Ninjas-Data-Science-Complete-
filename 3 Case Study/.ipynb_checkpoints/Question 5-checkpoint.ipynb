{
 "cells": [
  {
   "cell_type": "markdown",
   "metadata": {},
   "source": [
    "### Question 5\n",
    "\n",
    "First I cleaned the data for startup names and investors and investment type. Then I made a new dataframe containing seperate investors with the startup they funded in Then I counted unique startups associated with each investor using groupby function\n"
   ]
  },
  {
   "cell_type": "code",
   "execution_count": 1,
   "metadata": {},
   "outputs": [
    {
     "name": "stdout",
     "output_type": "stream",
     "text": [
      "InvestorsName\n",
      "Sequoia Capital    45\n",
      "Accel Partners     43\n",
      "Kalaari Capital    35\n",
      "Blume Ventures     27\n",
      "SAIF Partners      24\n",
      "Name: StartupName, dtype: int64\n"
     ]
    }
   ],
   "source": [
    "import matplotlib.pyplot as plt\n",
    "import pandas as pd\n",
    "import numpy as np\n",
    "%matplotlib inline\n",
    "\n",
    "df = pd.read_csv('startup_funding.csv')\n",
    " \n",
    "df=df.dropna(subset=['InvestorsName', 'StartupName'])\n",
    "df = df[df.InvestorsName != 'Undisclosed Investors']\n",
    "df = df[df.InvestorsName != 'Undisclosed investors']\n",
    "\n",
    "\n",
    "df['StartupName'].replace('Ola Cabs','Ola',inplace=True)\n",
    "df['StartupName'].replace('Flipkart.com','Flipkart',inplace=True)\n",
    "df['StartupName'].replace('Paytm Marketplace','Paytm',inplace=True)\n",
    "df['StartupName'].replace('Oyo Rooms','Oyo',inplace=True)\n",
    "df['StartupName'].replace('Oyorooms','Oyo',inplace=True)\n",
    "df['StartupName'].replace('OyoRooms','Oyo',inplace=True)\n",
    "df['StartupName'].replace('OYO Rooms','Oyo',inplace=True)\n",
    "\n",
    "df['InvestmentType'].replace('PrivateEquity','Private Equity',inplace=True)\n",
    "df['InvestmentType'].replace('SeedFunding','Seed Funding',inplace=True)\n",
    "df['InvestmentType'].replace('Crowd funding','Crowd Funding',inplace=True)\n",
    "\n",
    "df = df[(df.InvestmentType == 'Private Equity')]\n",
    "\n",
    "inv = []\n",
    "start = []\n",
    "\n",
    "for index,row in df.iterrows():\n",
    "    s = row['InvestorsName']\n",
    "    v = row['StartupName']\n",
    "    \n",
    "    i = str(s)\n",
    "    l = i.split(',')\n",
    "    \n",
    "    for j in l:\n",
    "        if j != '':\n",
    "            j = j.strip()\n",
    "            inv.append(j)\n",
    "            start.append(v)\n",
    "\n",
    "df1 = pd.DataFrame({\n",
    "    'InvestorsName' : inv,\n",
    "    'StartupName' : start\n",
    "})\n",
    "\n",
    "df1 = df1.groupby('InvestorsName')['StartupName'].nunique()\n",
    "\n",
    "df1 = df1.sort_values(ascending = False)\n",
    "print(df1.head(5))"
   ]
  }
 ],
 "metadata": {
  "kernelspec": {
   "display_name": "Python 3",
   "language": "python",
   "name": "python3"
  },
  "language_info": {
   "codemirror_mode": {
    "name": "ipython",
    "version": 3
   },
   "file_extension": ".py",
   "mimetype": "text/x-python",
   "name": "python",
   "nbconvert_exporter": "python",
   "pygments_lexer": "ipython3",
   "version": "3.7.3"
  }
 },
 "nbformat": 4,
 "nbformat_minor": 2
}
