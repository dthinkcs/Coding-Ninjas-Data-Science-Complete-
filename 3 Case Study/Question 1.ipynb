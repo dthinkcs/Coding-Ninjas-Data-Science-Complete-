{
 "cells": [
  {
   "cell_type": "markdown",
   "metadata": {},
   "source": [
    "# Question 1\n",
    "\n",
    "Clearly he should establish his startup in Bangalore as most number of fundings are done in Bangalore."
   ]
  },
  {
   "cell_type": "code",
   "execution_count": 1,
   "metadata": {},
   "outputs": [
    {
     "data": {
      "image/png": "[encoded data removed]",
      "text/plain": [
       "<Figure size 432x288 with 1 Axes>"
      ]
     },
     "metadata": {
      "needs_background": "light"
     },
     "output_type": "display_data"
    }
   ],
   "source": [
    "import matplotlib.pyplot as plt\n",
    "import pandas as pd\n",
    "import numpy as np\n",
    "\n",
    "\n",
    "%matplotlib inline\n",
    "\n",
    "df = pd.read_csv('startup_funding.csv')\n",
    "\n",
    "df['CityLocation'].dropna(inplace=True)\n",
    "l = df['CityLocation']\n",
    "d = {}\n",
    "\n",
    "for i in l :\n",
    "    s = str(i)\n",
    "    if  '/' in s:\n",
    "        i = s.split('/')[0]\n",
    "        i = i.strip()\n",
    "    if(i=='Delhi'):\n",
    "            i = 'New Delhi'\n",
    "    if(i=='bangalore'):\n",
    "            i = 'Bangalore'\n",
    "    d[i] = d.get(i,0) + 1\n",
    "    \n",
    "   \n",
    "    if ('/' in s) and (len(s.split('/'))>1):  \n",
    "        i = s.split('/')[-1].strip()  \n",
    "        if(i=='Delhi'):\n",
    "            i = 'New Delhi'\n",
    "        if(i=='bangalore'):\n",
    "            i = 'Bangalore'\n",
    "        d[i] = d.get(i,0) + 1\n",
    "   \n",
    "\n",
    "x = ['Mumbai','Bangalore','Gurgaon','Noida','New Delhi']\n",
    "y = [d['Mumbai'],d['Bangalore'],d['Gurgaon'],d['Noida'],d['New Delhi']]\n",
    "\n",
    "plt.bar(x,y)\n",
    "plt.ylabel('Number of fundings')\n",
    "plt.show()"
   ]
  }
 ],
 "metadata": {
  "kernelspec": {
   "display_name": "Python 3",
   "language": "python",
   "name": "python3"
  },
  "language_info": {
   "codemirror_mode": {
    "name": "ipython",
    "version": 3
   },
   "file_extension": ".py",
   "mimetype": "text/x-python",
   "name": "python",
   "nbconvert_exporter": "python",
   "pygments_lexer": "ipython3",
   "version": "3.7.3"
  }
 },
 "nbformat": 4,
 "nbformat_minor": 2
}
