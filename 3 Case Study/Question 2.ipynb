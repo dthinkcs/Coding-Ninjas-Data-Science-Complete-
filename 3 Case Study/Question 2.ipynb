{
 "cells": [
  {
   "cell_type": "markdown",
   "metadata": {},
   "source": [
    "### Question 2\n",
    "\n",
    "Following is the list of top 5 investors"
   ]
  },
  {
   "cell_type": "code",
   "execution_count": 1,
   "metadata": {},
   "outputs": [
    {
     "name": "stdout",
     "output_type": "stream",
     "text": [
      "Sequoia Capital 64\n",
      "Accel Partners 53\n",
      "Kalaari Capital 44\n",
      "SAIF Partners 41\n",
      "Indian Angel Network 40\n"
     ]
    }
   ],
   "source": [
    "import matplotlib.pyplot as plt\n",
    "import pandas as pd\n",
    "import numpy as np\n",
    "\n",
    "\n",
    "%matplotlib inline\n",
    "\n",
    "df = pd.read_csv('startup_funding.csv')\n",
    " \n",
    "df=df.dropna(subset=['InvestorsName'])\n",
    "df = df[df.InvestorsName != 'Undisclosed Investors']\n",
    "\n",
    "d = {}\n",
    "\n",
    "for index,row in df.iterrows():\n",
    "    s = row['InvestorsName']\n",
    "    i = str(s)\n",
    "    \n",
    "    l = i.split(',')\n",
    "    \n",
    "    for j in l:\n",
    "        j = j.strip()\n",
    "        d[j] = d.get(j,0) + 1\n",
    "    \n",
    "    \n",
    "count = 1\n",
    "for i in sorted(d, key=d.get, reverse=True):\n",
    "    print(i,d[i])\n",
    "    count += 1\n",
    "    if(count > 5):\n",
    "        break"
   ]
  }
 ],
 "metadata": {
  "kernelspec": {
   "display_name": "Python 3",
   "language": "python",
   "name": "python3"
  },
  "language_info": {
   "codemirror_mode": {
    "name": "ipython",
    "version": 3
   },
   "file_extension": ".py",
   "mimetype": "text/x-python",
   "name": "python",
   "nbconvert_exporter": "python",
   "pygments_lexer": "ipython3",
   "version": "3.7.3"
  }
 },
 "nbformat": 4,
 "nbformat_minor": 2
}
