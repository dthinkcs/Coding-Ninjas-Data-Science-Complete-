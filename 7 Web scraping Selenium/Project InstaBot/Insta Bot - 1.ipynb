{
 "cells": [
  {
   "cell_type": "code",
   "execution_count": 2,
   "metadata": {},
   "outputs": [],
   "source": [
    "from selenium import webdriver\n",
    "import time\n",
    "from selenium.webdriver.support.ui import WebDriverWait\n",
    "from selenium.webdriver.support import expected_conditions as EC\n",
    "from selenium.webdriver.common.by import By\n",
    "from bs4 import BeautifulSoup"
   ]
  },
  {
   "cell_type": "code",
   "execution_count": 3,
   "metadata": {},
   "outputs": [],
   "source": [
    "driver = webdriver.Chrome(executable_path = '/Users/Aman/anaconda3/bin/chromedriver')"
   ]
  },
  {
   "cell_type": "code",
   "execution_count": 4,
   "metadata": {},
   "outputs": [],
   "source": [
    "driver.get('https://www.instagram.com/') "
   ]
  },
  {
   "cell_type": "code",
   "execution_count": 5,
   "metadata": {},
   "outputs": [],
   "source": [
    "wait = WebDriverWait(driver, 3)"
   ]
  },
  {
   "cell_type": "code",
   "execution_count": 6,
   "metadata": {},
   "outputs": [],
   "source": [
    "def login(driver, usr='rubal2508',pswd='10P16rq0058') :\n",
    "    \n",
    "    try :\n",
    "        reg_btn = wait.until(EC.presence_of_element_located((By.LINK_TEXT,'Log in')))\n",
    "        reg_btn.click()\n",
    "        time.sleep(2) \n",
    "        text_box = wait.until(EC.presence_of_element_located((By.NAME,'username')))\n",
    "        text_box.send_keys(usr)\n",
    "        text_box = driver.find_element_by_name('password')\n",
    "        text_box.send_keys(pswd)\n",
    "        text_box.submit()\n",
    "    \n",
    "        #uncomment the below line if want to click \"Not now\" in notification alert\n",
    "        #wait.until(EC.element_to_be_clickable((By.CSS_SELECTOR, \".aOOlW.HoLwm\"))).click()\n",
    "    \n",
    "    except TimeoutException :\n",
    "        print (\"Can't Login\")"
   ]
  },
  {
   "cell_type": "code",
   "execution_count": 7,
   "metadata": {},
   "outputs": [],
   "source": [
    "login(driver)"
   ]
  },
  {
   "cell_type": "code",
   "execution_count": 493,
   "metadata": {},
   "outputs": [],
   "source": [
    "def create_list(driver, query) :\n",
    "    try :\n",
    "        search_box = wait.until(EC.presence_of_element_located((By.CLASS_NAME,'XTCLo')))\n",
    "        search_box.clear()\n",
    "        search_box.send_keys(query)\n",
    "        query = wait.until(EC.presence_of_element_located((By.CLASS_NAME,'yCE8d')))\n",
    "    \n",
    "        li = driver.find_elements_by_class_name('yCE8d')\n",
    "        x = []\n",
    "        for i in li :\n",
    "            if i.text[0] != '#' :\n",
    "                x.append(i.text.split('\\n')[0])\n",
    "        return x\n",
    "    \n",
    "    except TimeoutException :\n",
    "        print('Cant search')\n",
    "        return []"
   ]
  },
  {
   "cell_type": "code",
   "execution_count": 495,
   "metadata": {
    "scrolled": true
   },
   "outputs": [
    {
     "name": "stdout",
     "output_type": "stream",
     "text": [
      "deefoodie123\n",
      "foodrush.recipe\n",
      "sonam.foodie\n",
      "yourfoodlab\n",
      "rajshrifood\n",
      "worthytale\n",
      "food\n",
      "foodofgoa\n",
      "the_foodie_bae\n",
      "foodpsychs_\n",
      "Food King, BITS Pilani\n",
      "foodyfetish\n",
      "foodfusionpk\n",
      "_food_lover_harsh\n",
      "food_sagas\n",
      "foodindiapanda\n",
      "buzzfeedfood\n",
      "foodnetwork\n",
      "foodsofchandiland\n",
      "food__bloggerrr\n",
      "aishanii.pachauri\n",
      "foodys\n",
      "wantfoodneedfood\n",
      "junk.food\n",
      "foodelhi\n",
      "my_middlename_is_food\n",
      "food.darzee\n",
      "foodiee_moody\n",
      "the_foodie_dad\n",
      "foodfoodtv\n",
      "foodpreceptor\n",
      "dillifoodies\n",
      "food.sleep.food\n",
      "food_lunatic\n",
      "the_foodiesisters\n",
      "_foodie_n_i_s_h_u_\n",
      "delhifoodguide\n",
      "foodies_lok\n",
      "thisisinsiderfood\n",
      "shrutidoesntsharefood\n",
      "ugh.i.want.food\n",
      "foodiee.bebbs\n",
      "food_buggy\n",
      "f00d_blogger_\n",
      "foodfreeaak\n",
      "foodyypreneur\n",
      "food_affairs_bangalore\n",
      "mr.nachoman\n",
      "foodkaba\n",
      "foodi_couple\n",
      "foodsketeers.delhi\n",
      "tiktok_foodtravel\n",
      "eat.cheat.repeat\n"
     ]
    }
   ],
   "source": [
    "li = create_list(driver,'food')\n",
    "\n",
    "for i in li :\n",
    "    print(i)"
   ]
  },
  {
   "cell_type": "code",
   "execution_count": 496,
   "metadata": {},
   "outputs": [],
   "source": [
    "def search_and_open(driver, query) :\n",
    "    try :\n",
    "        search_box = wait.until(EC.presence_of_element_located((By.CLASS_NAME,'XTCLo')))\n",
    "        search_box.clear()\n",
    "        search_box.send_keys(query)\n",
    "        query = wait.until(EC.presence_of_element_located((By.CLASS_NAME,'yCE8d')))\n",
    "        query.click()\n",
    "        time.sleep(1)\n",
    "        try : \n",
    "            driver.find_element_by_class_name('coreSpriteSearchClear').click()\n",
    "        except Exception as e:    \n",
    "            pass\n",
    "        \n",
    "        try :\n",
    "            followers_ele = wait.until(EC.presence_of_all_elements_located((By.CLASS_NAME,'g47SY')))[1]\n",
    "        except Exception as e:    \n",
    "            print('cant load page')\n",
    "            return\n",
    "        \n",
    "\n",
    "    except Exception as e:\n",
    "        print('Cant search')"
   ]
  },
  {
   "cell_type": "code",
   "execution_count": 498,
   "metadata": {},
   "outputs": [],
   "source": [
    "search_and_open(driver, 'So Delhi')"
   ]
  },
  {
   "cell_type": "code",
   "execution_count": 499,
   "metadata": {},
   "outputs": [],
   "source": [
    "def follow(driver):\n",
    "    try :\n",
    "        btn = wait.until(EC.presence_of_element_located((By.CLASS_NAME,'_5f5mN')))\n",
    "        if btn.text == 'Follow' : \n",
    "            btn.click()\n",
    "        else : \n",
    "            print('Already following')\n",
    "    \n",
    "    except TimeoutException :\n",
    "        print(\"Cant follow\")\n",
    "        \n",
    "def unfollow(driver):\n",
    "    try :\n",
    "        btn = wait.until(EC.presence_of_element_located((By.CLASS_NAME,'_5f5mN')))\n",
    "        if btn.text == 'Following' : \n",
    "            btn.click()\n",
    "            pop_up = wait.until(EC.presence_of_element_located((By.CLASS_NAME,'aOOlW')))\n",
    "            pop_up.click()\n",
    "            \n",
    "        else : \n",
    "            print('Already unfollowed')\n",
    "    except TimeoutException :\n",
    "        print(\"Cant follow\")\n",
    "\n"
   ]
  },
  {
   "cell_type": "code",
   "execution_count": 500,
   "metadata": {},
   "outputs": [],
   "source": [
    "search_and_open(driver,'So Delhi')"
   ]
  },
  {
   "cell_type": "code",
   "execution_count": 502,
   "metadata": {},
   "outputs": [
    {
     "name": "stdout",
     "output_type": "stream",
     "text": [
      "Already following\n"
     ]
    }
   ],
   "source": [
    "follow(driver)"
   ]
  },
  {
   "cell_type": "code",
   "execution_count": 504,
   "metadata": {
    "scrolled": true
   },
   "outputs": [
    {
     "name": "stdout",
     "output_type": "stream",
     "text": [
      "Already unfollowed\n"
     ]
    }
   ],
   "source": [
    "unfollow(driver)"
   ]
  },
  {
   "cell_type": "code",
   "execution_count": 516,
   "metadata": {},
   "outputs": [],
   "source": [
    "def like_posts(driver, count=1) :\n",
    "    try :\n",
    "        li = wait.until(EC.presence_of_element_located((By.CLASS_NAME,'v1Nh3')))\n",
    "        li.click()\n",
    "    except Exception as e:\n",
    "        print(\"Cant Open Post\") \n",
    "        return\n",
    "    \n",
    "    for i in range(count) :\n",
    "        try : \n",
    "            temp = wait.until(EC.presence_of_element_located((By.CLASS_NAME,'PdwC2')))\n",
    "        except Exception as e:\n",
    "            print(\"Loading error\")\n",
    "            return\n",
    "        \n",
    "        try :\n",
    "            if len(driver.find_elements_by_class_name(\"glyphsSpriteHeart__filled__24__red_5\")) != 0 :\n",
    "                print(i+1,\" post already liked\")\n",
    "\n",
    "            else :\n",
    "                btn = wait.until(EC.presence_of_element_located((By.CLASS_NAME,'glyphsSpriteHeart__outline__24__grey_9')))\n",
    "                btn.click()\n",
    "        except Exception as e:\n",
    "            print(\"No like button\")\n",
    "       \n",
    "        try : \n",
    "            nxt = wait.until(EC.presence_of_element_located((By.CLASS_NAME,'coreSpriteRightPaginationArrow')))\n",
    "            nxt.click()\n",
    "        except Exception as e:\n",
    "            print(\"No more posts\")\n",
    "            return\n",
    "    driver.find_element_by_class_name('ckWGn').click()\n",
    "    \n",
    "        \n",
    "def unlike_posts(driver, count=1) :\n",
    "    try :\n",
    "        li = wait.until(EC.presence_of_element_located((By.CLASS_NAME,'v1Nh3')))\n",
    "        li.click()\n",
    "    except Exception as e:\n",
    "        print(\"Cant Open Post\") \n",
    "        return\n",
    "    \n",
    "    for i in range(count) :\n",
    "        try : \n",
    "            temp = wait.until(EC.presence_of_element_located((By.CLASS_NAME,'PdwC2')))\n",
    "        except Exception as e:\n",
    "            print(\"Loading error\")\n",
    "            return\n",
    "      \n",
    "        if len(driver.find_elements_by_class_name(\"glyphsSpriteHeart__outline__24__grey_9\")) != 0 :\n",
    "            print(i+1,\" post already unliked\")\n",
    "        \n",
    "        else :\n",
    "            btn = wait.until(EC.presence_of_element_located((By.CLASS_NAME,'glyphsSpriteHeart__filled__24__red_5')))\n",
    "            btn.click()\n",
    "       \n",
    "        try : \n",
    "            nxt = wait.until(EC.presence_of_element_located((By.CLASS_NAME,'coreSpriteRightPaginationArrow')))\n",
    "            nxt.click()\n",
    "        except Exception as e:\n",
    "            print(\"No more posts\")\n",
    "            return\n",
    "    driver.find_element_by_class_name('ckWGn').click()"
   ]
  },
  {
   "cell_type": "code",
   "execution_count": 506,
   "metadata": {},
   "outputs": [],
   "source": [
    "search_and_open(driver,'dilsefoodie')"
   ]
  },
  {
   "cell_type": "code",
   "execution_count": 515,
   "metadata": {},
   "outputs": [],
   "source": [
    "like_posts(driver,30)"
   ]
  },
  {
   "cell_type": "code",
   "execution_count": 517,
   "metadata": {},
   "outputs": [],
   "source": [
    "unlike_posts(driver,30)"
   ]
  },
  {
   "cell_type": "code",
   "execution_count": 695,
   "metadata": {},
   "outputs": [],
   "source": [
    "def create_followers_list(driver, count) :\n",
    "    try :\n",
    "        #followers button\n",
    "        temp = wait.until(EC.presence_of_all_elements_located((By.CLASS_NAME,'g47SY')))\n",
    "        temp[1].click()\n",
    "        \n",
    "        #if followers are not loaded\n",
    "        if len(driver.find_elements_by_class_name(\"wo9IH\")) == 0 :\n",
    "            time.sleep(3)\n",
    "                  \n",
    "    except Exception as e:\n",
    "        print('Cant access followers list')\n",
    "    \n",
    "    try :\n",
    "        #waiting for dialogue box\n",
    "        followers_panel = wait.until(EC.presence_of_element_located((By.CLASS_NAME,'isgrP')))\n",
    "        \n",
    "        i =0\n",
    "        li =[]\n",
    "        \n",
    "        while i < count:\n",
    "            try:\n",
    "                #accessing each follower one by one\n",
    "                follower = driver.find_elements_by_class_name('wo9IH')[i]\n",
    "                li.append(follower.text)\n",
    "                i += 1\n",
    "            \n",
    "            #if no more followers, scroll to bottom to load more    \n",
    "            except Exception as e:           \n",
    "                driver.execute_script(\"arguments[0].scrollTop = arguments[0].scrollHeight\",followers_panel)  \n",
    "                time.sleep(1)\n",
    "                if len(driver.find_elements_by_link_text(\"See All Suggestions\")) :\n",
    "                    #go to the start of suggestions\n",
    "                    element = driver.find_element_by_class_name('vy6Bb')\n",
    "                    element.location_once_scrolled_into_view\n",
    "                    #driver.execute_script('arguments[0].scrollBy(0, -100);',followers_panel)\n",
    "                    time.sleep(2)\n",
    "\n",
    "                    \n",
    "\n",
    "                    \n",
    "        #close button\n",
    "        driver.find_element_by_class_name(\"glyphsSpriteX__outline__24__grey_9\").click()\n",
    "        return li\n",
    "    \n",
    "    except Exception as e:\n",
    "        print('Cant access followers')\n",
    "        return []\n",
    "    \n",
    "    \n",
    "    \n",
    "def my_followers_list(driver, myusername = 'rubal2508') :\n",
    "    search_and_open(driver, myusername)  \n",
    "    time.sleep(2)\n",
    "    try :\n",
    "        temp = wait.until(EC.presence_of_all_elements_located((By.CLASS_NAME,'g47SY')))\n",
    "        count = int(temp[1].get_attribute('title'))\n",
    "        \n",
    "    except Exception as e:\n",
    "        print('Cant access followers list')\n",
    "    \n",
    "    return create_followers_list(driver,count)\n",
    "        \n",
    "    "
   ]
  },
  {
   "cell_type": "code",
   "execution_count": 697,
   "metadata": {},
   "outputs": [],
   "source": [
    "search_and_open(driver,'foodtalkindia')\n",
    "time.sleep(2)\n",
    "followers_foodtalkindia = create_followers_list(driver,500)"
   ]
  },
  {
   "cell_type": "code",
   "execution_count": 702,
   "metadata": {},
   "outputs": [
    {
     "name": "stdout",
     "output_type": "stream",
     "text": [
      "Cant access followers\n"
     ]
    }
   ],
   "source": [
    "search_and_open(driver,'sodelhi')\n",
    "time.sleep(2)\n",
    "followers_sodelhi = create_followers_list(driver,500)"
   ]
  },
  {
   "cell_type": "code",
   "execution_count": 703,
   "metadata": {},
   "outputs": [],
   "source": [
    "followers_my = my_followers_list(driver)"
   ]
  },
  {
   "cell_type": "code",
   "execution_count": 704,
   "metadata": {},
   "outputs": [
    {
     "name": "stdout",
     "output_type": "stream",
     "text": [
      "500\n",
      "0\n",
      "411\n"
     ]
    }
   ],
   "source": [
    "print(len(followers_foodtalkindia))\n",
    "print(len(followers_sodelhi))\n",
    "print(len(followers_my))"
   ]
  },
  {
   "cell_type": "code",
   "execution_count": 707,
   "metadata": {},
   "outputs": [
    {
     "name": "stdout",
     "output_type": "stream",
     "text": [
      "aksinyou\n"
     ]
    }
   ],
   "source": [
    "dic_my_followers = {}\n",
    "\n",
    "for i in followers_my :\n",
    "    dic_my_followers[i] = 1\n",
    "\n",
    "for i in followers_foodtalkindia :\n",
    "    if i.split('\\n')[-1] == 'Following' and dic_my_followers.get(i,0) == 0 :\n",
    "        print(i.split('\\n')[0] )"
   ]
  },
  {
   "cell_type": "code",
   "execution_count": 524,
   "metadata": {},
   "outputs": [],
   "source": [
    "def view_story(driver) :\n",
    "    try :\n",
    "       # time.sleep(3)\n",
    "        a = wait.until(EC.presence_of_element_located((By.CLASS_NAME,'_2dbep'))) # clickable\n",
    "        b = a.find_element_by_xpath('..') # 174 332 for seen // 182 336 for no/unseen\n",
    "        #c = b.find_element_by_xpath('..') # RR-M- h5uC0 for unseen // RR-M- for no\n",
    "        \n",
    "        data = BeautifulSoup(b.get_attribute('outerHTML'), 'html.parser') \n",
    "        \n",
    "        height = int(data.canvas['height'])\n",
    "        siz = len(data.div['class'])\n",
    "        \n",
    "        if height == 174 or height == 332 :\n",
    "            print('Story already seen!')\n",
    "            return\n",
    "        \n",
    "        elif siz == 1 :\n",
    "            print('No story available!')\n",
    "            return\n",
    "        \n",
    "        else :\n",
    "            a.click()\n",
    "            \n",
    "            \n",
    "    except Exception as e:\n",
    "        print('Cant access story')\n",
    "\n",
    "        \n",
    "def close_story(driver) :\n",
    "    try :\n",
    "        driver.find_element_by_class_name(\"Szr5J\").click()\n",
    "    except Exception as e:\n",
    "        print('Cant close')\n"
   ]
  },
  {
   "cell_type": "code",
   "execution_count": 528,
   "metadata": {},
   "outputs": [
    {
     "name": "stdout",
     "output_type": "stream",
     "text": [
      "Story already seen!\n"
     ]
    }
   ],
   "source": [
    "#driver.get('https://www.instagram.com/hubman.chubgirl/')\n",
    "#time.sleep(3)\n",
    "search_and_open(driver, 'coding ninjas')\n",
    "time.sleep(2)\n",
    "view_story(driver)\n",
    "time.sleep(3)\n",
    "close_story(driver)"
   ]
  }
 ],
 "metadata": {
  "kernelspec": {
   "display_name": "Python 3",
   "language": "python",
   "name": "python3"
  },
  "language_info": {
   "codemirror_mode": {
    "name": "ipython",
    "version": 3
   },
   "file_extension": ".py",
   "mimetype": "text/x-python",
   "name": "python",
   "nbconvert_exporter": "python",
   "pygments_lexer": "ipython3",
   "version": "3.7.3"
  }
 },
 "nbformat": 4,
 "nbformat_minor": 2
}
