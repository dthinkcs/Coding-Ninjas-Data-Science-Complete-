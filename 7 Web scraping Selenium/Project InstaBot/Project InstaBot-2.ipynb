{
 "cells": [
  {
   "cell_type": "markdown",
   "metadata": {},
   "source": [
    "## Question Statement :\n",
    " > Now your friend has followed a lot of different food bloggers, he needs to analyse the habits of these bloggers.\n",
    " \n",
    "- <font color=red> Chrome driver is used </font>\n",
    "- <font color=red> Default wait time is 5 seconds, change it according to network speed </font>\n",
    "- <font color=red> It is assumed that all the cells will the run manually one by one and not all at once </font>\n",
    "- <font color=red> I have used macbook while making this project, change the path of webdriver </font>\n",
    "- <font color=red> It is assumed that instagram is loaded the same way on browser on windows/linux as it does on mac </font>\n",
    "- <font color=blue> It is assumed that the account is already logged in. </font> "
   ]
  },
  {
   "cell_type": "code",
   "execution_count": 28,
   "metadata": {},
   "outputs": [],
   "source": [
    "from selenium import webdriver\n",
    "import time\n",
    "from selenium.webdriver.support.ui import WebDriverWait\n",
    "from selenium.webdriver.support import expected_conditions as EC\n",
    "from selenium.webdriver.common.by import By\n",
    "from bs4 import BeautifulSoup\n",
    "import re\n",
    "from datetime import datetime, timedelta\n",
    "\n",
    "import matplotlib.pyplot as plt\n",
    "#import numpy as np\n",
    "#import pandas as pd\n",
    "import csv\n",
    "\n",
    "%matplotlib inline"
   ]
  },
  {
   "cell_type": "code",
   "execution_count": 29,
   "metadata": {},
   "outputs": [],
   "source": [
    "#opening the browser, change the path as per your system\n",
    "driver = webdriver.Chrome(executable_path = '/Users/Aman/anaconda3/bin/chromedriver')"
   ]
  },
  {
   "cell_type": "code",
   "execution_count": 30,
   "metadata": {},
   "outputs": [],
   "source": [
    "#opening instagram\n",
    "driver.get('https://www.instagram.com/') "
   ]
  },
  {
   "cell_type": "code",
   "execution_count": 31,
   "metadata": {},
   "outputs": [],
   "source": [
    "#declaring wait\n",
    "wait = WebDriverWait(driver, 5)"
   ]
  },
  {
   "cell_type": "code",
   "execution_count": 32,
   "metadata": {},
   "outputs": [],
   "source": [
    "#Decalring global variables for username and password\n",
    "default_username = 'SAMPLE USERNAME'\n",
    "default_password = 'SAMPLE PASSWORD'"
   ]
  },
  {
   "cell_type": "code",
   "execution_count": 33,
   "metadata": {},
   "outputs": [],
   "source": [
    "''' Function taken from project part-1, All the functionality is same as before.\n",
    "    - Have the page cleared of any dialogue boxes\n",
    "    - Function also closes the search dropdown if the page to be searched is already opened.\n",
    "'''\n",
    "\n",
    "def search_and_open(driver, query) :\n",
    "    try :\n",
    "        #loacting the search box\n",
    "        search_box = wait.until(EC.presence_of_element_located((By.CLASS_NAME,'XTCLo')))\n",
    "        search_box.clear()\n",
    "        search_box.send_keys(query)\n",
    "        \n",
    "        #waiting for the first element to load\n",
    "        query = wait.until(EC.presence_of_element_located((By.CLASS_NAME,'yCE8d')))\n",
    "        query.click()\n",
    "        time.sleep(1) \n",
    "        \n",
    "        try : \n",
    "            #closing the search results (required in case the required page is already opened)\n",
    "            driver.find_element_by_class_name('coreSpriteSearchClear').click()\n",
    "        except Exception as e:    \n",
    "            pass\n",
    "        \n",
    "        try :\n",
    "            #making sure the page is loaded by locating the followers button\n",
    "            followers_ele = wait.until(EC.presence_of_all_elements_located((By.CLASS_NAME,'g47SY')))[1]\n",
    "        except Exception as e:    \n",
    "            print('page not loaded')\n",
    "            return\n",
    "        \n",
    "\n",
    "    except Exception as e:\n",
    "        print('Cant search')"
   ]
  },
  {
   "cell_type": "markdown",
   "metadata": {},
   "source": [
    "## Question 1 : Popular hashtags of popular handles.\n",
    ">1. From the list of instagram handles you obtained when you searched ‘food’ in previous project. Open the first 10 handles and find the top 5 which have the highest number of followers.\n",
    "2. Now Find the number of posts these handles have done in the previous 3 days.\n",
    "3. Depict this information using a suitable graph.\n",
    "\n",
    "#### Procedure for Question 1.1\n",
    "- The first 10 items of food_list is copied from last page and is not computed again.\n",
    "- First a dictionary is created with keys as usernames and values as the number of followers.\n",
    "- Each handle on the list is loaded and its info is added to the dictionary\n",
    "- Then top 5 items are returned from the sorted dictionary "
   ]
  },
  {
   "cell_type": "code",
   "execution_count": 34,
   "metadata": {},
   "outputs": [],
   "source": [
    "# top 10 items of food_list from previous project\n",
    "food_list = ['deefoodie123','the_foodie_bae', 'foodofgoa', 'foodrush.recipe', 'foodfusionpk', 'yourfoodlab', 'thefoodiequila', 'sonam.foodie', 'rajshrifood', 'foodpsychs_' ]\n",
    "\n",
    "\n",
    "# function to get the top 5 handles with maximum followers \n",
    "# li is the food_list passed to the function from which top 5 have to be found\n",
    "def top_5(driver, li) :\n",
    "    \n",
    "    d = {} #dictionary to store the number of followers of each handle\n",
    "    \n",
    "    # loop to open and calculate number of followers for each handle\n",
    "    for i in li :\n",
    "        search_and_open(driver, i)\n",
    "        time.sleep(3)\n",
    "        \n",
    "        # waiting for followers button to load\n",
    "        followers = wait.until(EC.presence_of_all_elements_located((By.CLASS_NAME,'g47SY')))[1]\n",
    "        \n",
    "        #adding the number of followers to the dictionary\n",
    "        d[i] = int(followers.get_attribute('title').replace(',' , ''))\n",
    "    \n",
    "    count = 0\n",
    "    final_dic = {}\n",
    "    \n",
    "    # loop on sorted dictionary to get the 5 handles with maximum followers\n",
    "    for w in sorted(d, key=d.get, reverse=True):\n",
    "        count += 1\n",
    "        final_dic[w] = d[w]\n",
    "        if(count >= 5) : \n",
    "            break\n",
    "    \n",
    "    \n",
    "    return final_dic"
   ]
  },
  {
   "cell_type": "code",
   "execution_count": 35,
   "metadata": {},
   "outputs": [
    {
     "data": {
      "text/plain": [
       "{'foodfusionpk': 749565,\n",
       " 'yourfoodlab': 693745,\n",
       " 'foodrush.recipe': 569568,\n",
       " 'rajshrifood': 178055,\n",
       " 'the_foodie_bae': 100505}"
      ]
     },
     "execution_count": 35,
     "metadata": {},
     "output_type": "execute_result"
    }
   ],
   "source": [
    "dict_top_5 = top_5(driver, food_list)\n",
    "dict_top_5"
   ]
  },
  {
   "cell_type": "markdown",
   "metadata": {},
   "source": [
    "#### Procedure for Question 1.2 : Find the number of posts these top_5 handles have done in the previous 3 days.\n",
    "\n",
    "1. Function requires the page to be loaded beforehand\n",
    "1. The function will called seperately for each handle\n",
    "2. Function takes a variable days (default is 3 as per question) and returns and interger denoting the number of posts posted within given days\n",
    "3. First 1st post is opened and a loop is run \n",
    "4. A loop is run which does the following :\n",
    "  - checks the time when the post was made (breaks the loop if more than required)\n",
    "  - update the count\n",
    "  - press the next button (breaks the loop if no more posts) \n",
    "5. Dialogue box is closed"
   ]
  },
  {
   "cell_type": "code",
   "execution_count": 36,
   "metadata": {},
   "outputs": [],
   "source": [
    "#Following function requires the page to be loaded beforehand\n",
    "def post_in_pre_days(driver, days=3) :\n",
    "    \n",
    "    #try opening the first post\n",
    "    try :\n",
    "        li = wait.until(EC.presence_of_element_located((By.CLASS_NAME,'v1Nh3')))\n",
    "        li.click()\n",
    "    except Exception as e:\n",
    "        print(\"Cant Open Post\") \n",
    "        return\n",
    "    \n",
    "    \n",
    "    \n",
    "    count = 0 #count keeps track of number of posts within 3 days\n",
    "    \n",
    "    # Loop will break if either the post is older than 3 days or there are no more posts available\n",
    "    while True :\n",
    "        \n",
    "        # Locating the timestamp on the post\n",
    "        try : \n",
    "            temp = wait.until(EC.presence_of_element_located((By.CLASS_NAME,'_1o9PC')))\n",
    "        except Exception as e:\n",
    "            print(\"Loading error\")\n",
    "            return\n",
    "      \n",
    "        # Getting the datetime variable as a string from the webelement temp from its attribute named 'datetime'\n",
    "        date_string = temp.get_attribute('datetime')\n",
    "        \n",
    "        # Converting date_string into a datetim variable 'date'\n",
    "        date = datetime.strptime(date_string[0:19], \"%Y-%m-%dT%H:%M:%S\")\n",
    "        \n",
    "        # check if the post is older than 3 days, then break, else increase the count.\n",
    "        if (datetime.now() - date).days > 3 :\n",
    "            break\n",
    "        else :\n",
    "            count += 1\n",
    "       \n",
    "        # Clicking on the next button, if no next button then loop will terminate since no more posts\n",
    "        try : \n",
    "            nxt = wait.until(EC.presence_of_element_located((By.CLASS_NAME,'coreSpriteRightPaginationArrow')))\n",
    "            nxt.click()\n",
    "        except Exception as e:\n",
    "            print(\"No more posts\")\n",
    "            break     \n",
    "    \n",
    "    #closing the dialogue box\n",
    "    driver.find_element_by_class_name('ckWGn').click()\n",
    "    return count"
   ]
  },
  {
   "cell_type": "code",
   "execution_count": 37,
   "metadata": {},
   "outputs": [
    {
     "name": "stdout",
     "output_type": "stream",
     "text": [
      "foodfusionpk 13\n",
      "yourfoodlab 5\n",
      "foodrush.recipe 4\n",
      "rajshrifood 8\n",
      "the_foodie_bae 8\n"
     ]
    }
   ],
   "source": [
    "dict_posts_in_pre_days = {}\n",
    "for i in dict_top_5.keys() :\n",
    "    search_and_open(driver,i)\n",
    "    time.sleep(2)\n",
    "    p = post_in_pre_days(driver,3)\n",
    "    dict_posts_in_pre_days[i] = p\n",
    "    print(i,dict_posts_in_pre_days[i])"
   ]
  },
  {
   "cell_type": "markdown",
   "metadata": {},
   "source": [
    "#### Procedure for Question 1.3\n",
    "- Bar graph is plotted depicting number of posts in past 3 days on y axis and top_5 instagram handles on x axis"
   ]
  },
  {
   "cell_type": "code",
   "execution_count": 38,
   "metadata": {},
   "outputs": [
    {
     "data": {
      "image/png": "[encoded data removed]",
      "text/plain": [
       "<Figure size 432x288 with 1 Axes>"
      ]
     },
     "metadata": {
      "needs_background": "light"
     },
     "output_type": "display_data"
    }
   ],
   "source": [
    "D = dict_posts_in_pre_days\n",
    "plt.bar(range(len(D)), list(D.values()), align='center')\n",
    "plt.xticks(range(len(D)), list(D.keys()), rotation = 20)\n",
    "plt.ylabel('Number of posts in past 3 days')\n",
    "plt.show()"
   ]
  },
  {
   "cell_type": "markdown",
   "metadata": {},
   "source": [
    "## Question 2 : Common Hashtags\n",
    "\n",
    "> Your friend also needs a list of hashtags that he should use in his posts.\n",
    "1. Open the 5 handles you obtained in the last question, and scrape the content of the first 10 posts of each handle.\n",
    "2. Prepare a list of all words used in all the scraped posts and calculate the frequency of each word.\n",
    "3. Create a csv file with two columns : the word and its frequency\n",
    "4. Now, find the hashtags that were most popular among these bloggers\n",
    "5. Plot a Pie Chart of the top 5 hashtags obtained and the number of times they were used by these bloggers in the scraped posts.\n",
    "\n",
    "\n",
    "#### Procedure for 2.1\n",
    "- The function words_and_hashtags scrapes the first 10 posts of the handle for words and hashtags.\n",
    "- Function has to be once called for every handle\n",
    "- 2 common dictionaries are maintained, one for words and one for hashtags which is passed to the function\n",
    "- Function assumes that the account is loaded beforehand\n",
    "- <font color = 'red'> Sometimes the hashtags are not written in caption but in a seperate comment, that condition is not handled by this function. Only words written in caption will be considered. </font>\n",
    "- Hashtags are also counted among words (without hashtags)\n",
    "\n",
    "Steps in function :\n",
    "1. Open the first post\n",
    "2. Check if the post is loaded\n",
    "3. Extract the text of caption\n",
    "4. Words and hashtags are added to their respective dictionaries\n",
    "5. press next button (Function will terminate if no more posts)\n",
    "6. do step 2,3,4 for 10 such posts\n",
    "7. Close the post dialogue box\n",
    "\n",
    "The function is called for all handles in dict_top_5"
   ]
  },
  {
   "cell_type": "code",
   "execution_count": 39,
   "metadata": {},
   "outputs": [],
   "source": [
    "def words_and_hashtags(driver,words,hashtags) :\n",
    "   \n",
    "    #Try opening the first post\n",
    "    try :\n",
    "        li = wait.until(EC.presence_of_element_located((By.CLASS_NAME,'v1Nh3')))\n",
    "        li.click()\n",
    "    except Exception as e:\n",
    "        print(\"Cant Open Post\") \n",
    "        return\n",
    "    \n",
    "    #Loop will run 10 times, since we are to scrape first 10 posts\n",
    "    for i in range(10) :\n",
    "       \n",
    "        #checkif the post is loaded by locating some element such as time of upload\n",
    "        try : \n",
    "            temp = wait.until(EC.presence_of_element_located((By.CLASS_NAME,'_1o9PC')))\n",
    "        except Exception as e:\n",
    "            print(\"Loading error\")\n",
    "            return\n",
    "        \n",
    "        #Get the element(post) which represent caption using xpath\n",
    "        try:\n",
    "            post = wait.until(EC.presence_of_element_located((By.XPATH,'/html/body/div[3]/div[2]/div/article/div[2]/div[1]/ul/div/li/div/div/div[2]/span'))).text\n",
    "            \n",
    "            # post is into hashtags, l contains all the hashtags of the post\n",
    "            l = [tag.strip(\"#\") for tag in post.split() if tag.startswith(\"#\")]\n",
    "            \n",
    "            # add hashtags in the dictionary\n",
    "            for i in l :\n",
    "                for j in i.split('#') : # this is done to handle cases such as #abc#def#xyz \n",
    "                    hashtags[j] = hashtags.get(j,0) + 1\n",
    "            \n",
    "            # post again split about all non alphabets, this time to contain all the words\n",
    "            for i in re.split('[^a-zA-Z]',post):\n",
    "                if i != '' :\n",
    "                    words[i] = words.get(i,0) + 1 \n",
    "        except Exception as e:\n",
    "            print('cant load post')\n",
    "       \n",
    "        #press the next button, if not located means no more posts. (In case of total posts less than 10)\n",
    "        try : \n",
    "            nxt = wait.until(EC.presence_of_element_located((By.CLASS_NAME,'coreSpriteRightPaginationArrow')))\n",
    "            nxt.click()\n",
    "        except Exception as e:\n",
    "            print(\"No more posts\")\n",
    "            break     \n",
    "    \n",
    "    #close the post\n",
    "    try : \n",
    "        driver.find_element_by_class_name('ckWGn').click()\n",
    "    except Exception as e:\n",
    "        print('no close button')\n",
    "    \n",
    "    #return both dictionaries\n",
    "    return words,hashtags\n"
   ]
  },
  {
   "cell_type": "markdown",
   "metadata": {},
   "source": [
    "#### Procedure :\n",
    "- Two empty dictionaries are created\n",
    "- Function is called for top 5 handles and both ditionaries are passed each time\n",
    "- Now dictionaries have been populated with words and hashtags\n",
    "- CSV file is created for words frequency\n",
    "- Pie chart is plotted for hashtags frequency"
   ]
  },
  {
   "cell_type": "code",
   "execution_count": 40,
   "metadata": {},
   "outputs": [
    {
     "name": "stdout",
     "output_type": "stream",
     "text": [
      "foodporn 10\n",
      "the_foodie_bae 10\n",
      "foodie 9\n",
      "foodislife 9\n",
      "igfood 9\n"
     ]
    },
    {
     "data": {
      "image/png": "[encoded data removed]",
      "text/plain": [
       "<Figure size 432x288 with 1 Axes>"
      ]
     },
     "metadata": {},
     "output_type": "display_data"
    }
   ],
   "source": [
    "#Empty dictionaries are created\n",
    "words = {}\n",
    "hashtags = {}\n",
    "\n",
    "#for every handle in dict_top_5, it is first loaded and then function is called\n",
    "for i in dict_top_5.keys() :\n",
    "    search_and_open(driver, i)\n",
    "    time.sleep(2)\n",
    "    words_and_hashtags(driver,words,hashtags)\n",
    "\n",
    "    \n",
    "    \n",
    "#creating a csv file from words dictionary with first collumn as words and second column as their frequency\n",
    "with open('words_frequency.csv', 'w') as csv_file:\n",
    "    writer = csv.writer(csv_file)\n",
    "    for key, value in words.items():\n",
    "           writer.writerow([key, value])\n",
    "    \n",
    "\n",
    "#To make a pie chart of top 5 hashtags, I first made a list for x-labels and y-values\n",
    "count = 0\n",
    "x = []\n",
    "y = []\n",
    "for w in sorted(hashtags, key=hashtags.get, reverse=True): #iterating over sorted dictionary\n",
    "        count += 1\n",
    "        print(w,hashtags[w])\n",
    "        x.append(w)\n",
    "        y.append(hashtags[w])\n",
    "        if(count >= 5) : \n",
    "            break\n",
    "\n",
    "            \n",
    "plt.pie(y,labels=x, autopct=\"%.2f%%\")\n",
    "plt.title(\"Most popular hashtags among top 5 handles\")\n",
    "plt.show()"
   ]
  },
  {
   "cell_type": "markdown",
   "metadata": {},
   "source": [
    "## Question 3 : Likes to Followers ratio\n",
    ">You need to also calculate average likes : followers ratio for the obtained handles.\n",
    " The ratio is calculated as follows:\n",
    "1. Find out the likes of the top 10 posts of the 5 handles obtained earlier.\n",
    "2. Calculate the average likes for a handle.\n",
    "3. Divide the average likes obtained from the number of followers of the handle to get the average followers:like ratio of each handle.\n",
    "4. Create a bar graph to depict the above obtained information.\n",
    "\n",
    "- Calculating likes for videos is different, It is specified in comments in function\n",
    "- Function assumes that the required handle is already loaded\n",
    "\n",
    "#### Steps of function :\n",
    "1. Calculate total number of followers\n",
    "2. Calculate likes of top 10 posts one by one and close it\n",
    "3. calculate average\n",
    "4. calculate ratio and return"
   ]
  },
  {
   "cell_type": "code",
   "execution_count": 41,
   "metadata": {},
   "outputs": [],
   "source": [
    "def follower_like_ratio(driver):\n",
    "    \n",
    "    #Try locating the followers button to get the total number of followers\n",
    "    try : \n",
    "        followers_ele = wait.until(EC.presence_of_all_elements_located((By.CLASS_NAME,'g47SY')))[1]\n",
    "        followers = int(followers_ele.get_attribute('title').replace(',' , ''))  \n",
    "    except Exception as e:     \n",
    "        print('Cant access followers')\n",
    "    \n",
    "    #Open the first post\n",
    "    try :\n",
    "        li = wait.until(EC.presence_of_element_located((By.CLASS_NAME,'v1Nh3')))\n",
    "        li.click()\n",
    "    except Exception as e:\n",
    "        print(\"Cant Open Post\") \n",
    "        return\n",
    "    \n",
    "    #Create a list to keep an account of like of each post\n",
    "    lst = []\n",
    "    \n",
    "    for i in range(10) :\n",
    "        try : \n",
    "            \n",
    "            #Get the element which shows the number of likes\n",
    "            temp = wait.until(EC.presence_of_element_located((By.CLASS_NAME,'_8A5w5')))\n",
    "            if temp.text == '' :\n",
    "                temp = driver.find_elements_by_class_name('_8A5w5')[-1]\n",
    "       \n",
    "            #In case of videos, likes are not visible.\n",
    "            #Hence we first need to click on views then scrape the number of likes\n",
    "            #Then click on outside again so that you can click on next button \n",
    "        \n",
    "        except Exception as e:     \n",
    "            try : \n",
    "                # Locating the views \n",
    "                driver.find_element_by_class_name('vcOH2').click()\n",
    "                #getting likes\n",
    "                temp = wait.until(EC.presence_of_element_located((By.CLASS_NAME,'vJRqr')))  \n",
    "            except Exception as e:\n",
    "                print(\"Loading error\")\n",
    "                return\n",
    "      \n",
    "        #Calculating likes and appending to the list\n",
    "        likes = int(temp.text.split()[0].replace(',',''))\n",
    "        lst.append(likes)\n",
    "       \n",
    "        \n",
    "        #click on next button, in case of videos, next button will not be visible immidiately, first we need to click outside\n",
    "        try : \n",
    "            driver.find_element_by_class_name('coreSpriteRightPaginationArrow').click()\n",
    "        \n",
    "        except Exception as e:\n",
    "            try : \n",
    "                #clcik on outside\n",
    "                driver.find_element_by_class_name('QhbhU').click() \n",
    "                #try to click on next button again\n",
    "                nxt = wait.until(EC.presence_of_element_located((By.CLASS_NAME,'coreSpriteRightPaginationArrow')))\n",
    "                nxt.click()\n",
    "            except Exception as e:\n",
    "                print(\"No more posts\")\n",
    "                break     \n",
    "    \n",
    "    #close the post\n",
    "    driver.find_element_by_class_name('ckWGn').click()\n",
    "    \n",
    "    #calculate likes : followers ratio\n",
    "    avg_likes = sum(lst)/len(lst)\n",
    "    #print('avg likes :',avg_likes, '     followers :',followers)\n",
    "    ratio = avg_likes/followers\n",
    "    return ratio"
   ]
  },
  {
   "cell_type": "code",
   "execution_count": 42,
   "metadata": {},
   "outputs": [
    {
     "name": "stdout",
     "output_type": "stream",
     "text": [
      "{'foodfusionpk': 0.0031398210962358167, 'yourfoodlab': 0.017526612804416607, 'foodrush.recipe': 0.06639962216978482, 'rajshrifood': 0.008157030131139255, 'the_foodie_bae': 0.04250932789413461}\n"
     ]
    },
    {
     "data": {
      "image/png": "[encoded data removed]",
      "text/plain": [
       "<Figure size 432x288 with 1 Axes>"
      ]
     },
     "metadata": {
      "needs_background": "light"
     },
     "output_type": "display_data"
    }
   ],
   "source": [
    "#a dictionary map_user_to_ratio is created to story ratio of each handle\n",
    "map_user_to_ratio = {}\n",
    "\n",
    "#function is called for each handle in dict_top_5\n",
    "for i in dict_top_5.keys() :\n",
    "    search_and_open(driver, i)\n",
    "    time.sleep(2)\n",
    "    r = follower_like_ratio(driver)\n",
    "    map_user_to_ratio[i] = r\n",
    "\n",
    "print(map_user_to_ratio)\n",
    "\n",
    "D = map_user_to_ratio\n",
    "plt.bar(range(len(D)), list(D.values()), align='center')\n",
    "plt.xticks(range(len(D)), list(D.keys()), rotation = 20)\n",
    "plt.ylabel('Likes to followers ratio')\n",
    "plt.show()"
   ]
  }
 ],
 "metadata": {
  "kernelspec": {
   "display_name": "Python 3",
   "language": "python",
   "name": "python3"
  },
  "language_info": {
   "codemirror_mode": {
    "name": "ipython",
    "version": 3
   },
   "file_extension": ".py",
   "mimetype": "text/x-python",
   "name": "python",
   "nbconvert_exporter": "python",
   "pygments_lexer": "ipython3",
   "version": "3.7.3"
  }
 },
 "nbformat": 4,
 "nbformat_minor": 2
}
