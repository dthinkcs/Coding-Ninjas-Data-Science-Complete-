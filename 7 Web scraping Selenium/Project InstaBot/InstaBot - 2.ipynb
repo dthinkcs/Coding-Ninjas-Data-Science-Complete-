{
 "cells": [
  {
   "cell_type": "code",
   "execution_count": 423,
   "metadata": {},
   "outputs": [],
   "source": [
    "from selenium import webdriver\n",
    "import time\n",
    "from selenium.webdriver.support.ui import WebDriverWait\n",
    "from selenium.webdriver.support import expected_conditions as EC\n",
    "from selenium.webdriver.common.by import By\n",
    "from bs4 import BeautifulSoup\n",
    "import re\n",
    "from datetime import datetime, timedelta\n",
    "\n",
    "import matplotlib.pyplot as plt\n",
    "import numpy as np\n",
    "import pandas as pd\n",
    "\n",
    "%matplotlib inline"
   ]
  },
  {
   "cell_type": "code",
   "execution_count": 399,
   "metadata": {},
   "outputs": [],
   "source": [
    "driver = webdriver.Chrome(executable_path = '/Users/Aman/anaconda3/bin/chromedriver')\n",
    "driver.get('https://www.instagram.com/') \n",
    "wait = WebDriverWait(driver, 3)"
   ]
  },
  {
   "cell_type": "code",
   "execution_count": 437,
   "metadata": {},
   "outputs": [],
   "source": [
    "wait = WebDriverWait(driver, 5)"
   ]
  },
  {
   "cell_type": "code",
   "execution_count": 403,
   "metadata": {},
   "outputs": [],
   "source": [
    "def login(driver, usr='rubal2508',pswd='10P16rq0058') :\n",
    "    \n",
    "    try :\n",
    "        reg_btn = wait.until(EC.presence_of_element_located((By.LINK_TEXT,'Log in')))\n",
    "        reg_btn.click()\n",
    "        time.sleep(2) \n",
    "        text_box = wait.until(EC.presence_of_element_located((By.NAME,'username')))\n",
    "        text_box.send_keys(usr)\n",
    "        text_box = driver.find_element_by_name('password')\n",
    "        text_box.send_keys(pswd)\n",
    "        text_box.submit()\n",
    "\n",
    "        wait.until(EC.element_to_be_clickable((By.CSS_SELECTOR, \".aOOlW.HoLwm\"))).click()\n",
    "    \n",
    "    except Exception as e:\n",
    "        print (\"Can't Login\")"
   ]
  },
  {
   "cell_type": "code",
   "execution_count": 404,
   "metadata": {},
   "outputs": [
    {
     "name": "stdout",
     "output_type": "stream",
     "text": [
      "Can't Login\n"
     ]
    }
   ],
   "source": [
    "login(driver)"
   ]
  },
  {
   "cell_type": "code",
   "execution_count": 482,
   "metadata": {},
   "outputs": [],
   "source": [
    "def search_and_open(driver, query) :\n",
    "    try :\n",
    "        search_box = wait.until(EC.presence_of_element_located((By.CLASS_NAME,'XTCLo')))\n",
    "        search_box.clear()\n",
    "        search_box.send_keys(query)\n",
    "        query = wait.until(EC.presence_of_element_located((By.CLASS_NAME,'yCE8d')))\n",
    "        query.click()\n",
    "        time.sleep(1)\n",
    "        try : \n",
    "            driver.find_element_by_class_name('coreSpriteSearchClear').click()\n",
    "        except Exception as e:    \n",
    "            pass\n",
    "        \n",
    "        try :\n",
    "            followers_ele = wait.until(EC.presence_of_all_elements_located((By.CLASS_NAME,'g47SY')))[1]\n",
    "        except Exception as e:    \n",
    "            print('cant load page')\n",
    "            return\n",
    "        \n",
    "\n",
    "    except Exception as e:\n",
    "        print('Cant search')\n",
    "        "
   ]
  },
  {
   "cell_type": "code",
   "execution_count": 484,
   "metadata": {},
   "outputs": [],
   "source": [
    "search_and_open(driver,'dilsefoodie')"
   ]
  },
  {
   "cell_type": "code",
   "execution_count": 405,
   "metadata": {},
   "outputs": [],
   "source": [
    "def create_list(driver, query) :\n",
    "    try :\n",
    "        search_box = wait.until(EC.presence_of_element_located((By.CLASS_NAME,'XTCLo')))\n",
    "        search_box.clear()\n",
    "        search_box.send_keys(query)\n",
    "        query = wait.until(EC.presence_of_element_located((By.CLASS_NAME,'yCE8d')))\n",
    "    \n",
    "        li = driver.find_elements_by_class_name('yCE8d')\n",
    "        x = []\n",
    "        for i in li :\n",
    "            if i.text[0] != '#' :\n",
    "                x.append(i.text.split('\\n')[0])\n",
    "        return x\n",
    "    \n",
    "    except Exception as e:\n",
    "        print('Cant search')\n",
    "        return []\n",
    "    \n",
    "def top_5(driver, li) :\n",
    "    d = {}\n",
    "    for i in li :\n",
    "        search_and_open(driver, i)\n",
    "        time.sleep(3)\n",
    "        followers = wait.until(EC.presence_of_all_elements_located((By.CLASS_NAME,'g47SY')))[1]\n",
    "        d[i] = int(followers.get_attribute('title').replace(',' , ''))\n",
    "    \n",
    "    count = 0\n",
    "    dic = {}\n",
    "    for w in sorted(d, key=d.get, reverse=True):\n",
    "        count += 1\n",
    "        dic[w] = d[w]\n",
    "        if(count >= 5) : \n",
    "            break\n",
    "    \n",
    "    \n",
    "    return dic"
   ]
  },
  {
   "cell_type": "code",
   "execution_count": 412,
   "metadata": {},
   "outputs": [
    {
     "name": "stdout",
     "output_type": "stream",
     "text": [
      "deefoodie123\n",
      "foodrush.recipe\n",
      "sonam.foodie\n",
      "yourfoodlab\n",
      "rajshrifood\n",
      "foodofgoa\n",
      "food\n",
      "the_foodie_bae\n",
      "foodpsychs_\n",
      "Food King, BITS Pilani\n"
     ]
    },
    {
     "ename": "TimeoutException",
     "evalue": "Message: \n",
     "output_type": "error",
     "traceback": [
      "\u001b[0;31m---------------------------------------------------------------------------\u001b[0m",
      "\u001b[0;31mTimeoutException\u001b[0m                          Traceback (most recent call last)",
      "\u001b[0;32m<ipython-input-412-3e3552fdfb08>\u001b[0m in \u001b[0;36m<module>\u001b[0;34m\u001b[0m\n\u001b[1;32m      4\u001b[0m     \u001b[0mprint\u001b[0m\u001b[0;34m(\u001b[0m\u001b[0mi\u001b[0m\u001b[0;34m)\u001b[0m\u001b[0;34m\u001b[0m\u001b[0;34m\u001b[0m\u001b[0m\n\u001b[1;32m      5\u001b[0m \u001b[0;34m\u001b[0m\u001b[0m\n\u001b[0;32m----> 6\u001b[0;31m \u001b[0mdict_top_5\u001b[0m \u001b[0;34m=\u001b[0m \u001b[0mtop_5\u001b[0m\u001b[0;34m(\u001b[0m\u001b[0mdriver\u001b[0m\u001b[0;34m,\u001b[0m\u001b[0mfood_list\u001b[0m\u001b[0;34m[\u001b[0m\u001b[0;36m0\u001b[0m\u001b[0;34m:\u001b[0m\u001b[0;36m10\u001b[0m\u001b[0;34m]\u001b[0m\u001b[0;34m)\u001b[0m\u001b[0;34m\u001b[0m\u001b[0;34m\u001b[0m\u001b[0m\n\u001b[0m\u001b[1;32m      7\u001b[0m \u001b[0mdict_top_5\u001b[0m\u001b[0;34m\u001b[0m\u001b[0;34m\u001b[0m\u001b[0m\n",
      "\u001b[0;32m<ipython-input-405-2b49c11961ac>\u001b[0m in \u001b[0;36mtop_5\u001b[0;34m(driver, li)\u001b[0m\n\u001b[1;32m     22\u001b[0m         \u001b[0msearch_and_open\u001b[0m\u001b[0;34m(\u001b[0m\u001b[0mdriver\u001b[0m\u001b[0;34m,\u001b[0m \u001b[0mi\u001b[0m\u001b[0;34m)\u001b[0m\u001b[0;34m\u001b[0m\u001b[0;34m\u001b[0m\u001b[0m\n\u001b[1;32m     23\u001b[0m         \u001b[0mtime\u001b[0m\u001b[0;34m.\u001b[0m\u001b[0msleep\u001b[0m\u001b[0;34m(\u001b[0m\u001b[0;36m3\u001b[0m\u001b[0;34m)\u001b[0m\u001b[0;34m\u001b[0m\u001b[0;34m\u001b[0m\u001b[0m\n\u001b[0;32m---> 24\u001b[0;31m         \u001b[0mfollowers\u001b[0m \u001b[0;34m=\u001b[0m \u001b[0mwait\u001b[0m\u001b[0;34m.\u001b[0m\u001b[0muntil\u001b[0m\u001b[0;34m(\u001b[0m\u001b[0mEC\u001b[0m\u001b[0;34m.\u001b[0m\u001b[0mpresence_of_all_elements_located\u001b[0m\u001b[0;34m(\u001b[0m\u001b[0;34m(\u001b[0m\u001b[0mBy\u001b[0m\u001b[0;34m.\u001b[0m\u001b[0mCLASS_NAME\u001b[0m\u001b[0;34m,\u001b[0m\u001b[0;34m'g47SY'\u001b[0m\u001b[0;34m)\u001b[0m\u001b[0;34m)\u001b[0m\u001b[0;34m)\u001b[0m\u001b[0;34m[\u001b[0m\u001b[0;36m1\u001b[0m\u001b[0;34m]\u001b[0m\u001b[0;34m\u001b[0m\u001b[0;34m\u001b[0m\u001b[0m\n\u001b[0m\u001b[1;32m     25\u001b[0m         \u001b[0md\u001b[0m\u001b[0;34m[\u001b[0m\u001b[0mi\u001b[0m\u001b[0;34m]\u001b[0m \u001b[0;34m=\u001b[0m \u001b[0mint\u001b[0m\u001b[0;34m(\u001b[0m\u001b[0mfollowers\u001b[0m\u001b[0;34m.\u001b[0m\u001b[0mget_attribute\u001b[0m\u001b[0;34m(\u001b[0m\u001b[0;34m'title'\u001b[0m\u001b[0;34m)\u001b[0m\u001b[0;34m.\u001b[0m\u001b[0mreplace\u001b[0m\u001b[0;34m(\u001b[0m\u001b[0;34m','\u001b[0m \u001b[0;34m,\u001b[0m \u001b[0;34m''\u001b[0m\u001b[0;34m)\u001b[0m\u001b[0;34m)\u001b[0m\u001b[0;34m\u001b[0m\u001b[0;34m\u001b[0m\u001b[0m\n\u001b[1;32m     26\u001b[0m \u001b[0;34m\u001b[0m\u001b[0m\n",
      "\u001b[0;32m~/anaconda3/lib/python3.7/site-packages/selenium/webdriver/support/wait.py\u001b[0m in \u001b[0;36muntil\u001b[0;34m(self, method, message)\u001b[0m\n\u001b[1;32m     78\u001b[0m             \u001b[0;32mif\u001b[0m \u001b[0mtime\u001b[0m\u001b[0;34m.\u001b[0m\u001b[0mtime\u001b[0m\u001b[0;34m(\u001b[0m\u001b[0;34m)\u001b[0m \u001b[0;34m>\u001b[0m \u001b[0mend_time\u001b[0m\u001b[0;34m:\u001b[0m\u001b[0;34m\u001b[0m\u001b[0;34m\u001b[0m\u001b[0m\n\u001b[1;32m     79\u001b[0m                 \u001b[0;32mbreak\u001b[0m\u001b[0;34m\u001b[0m\u001b[0;34m\u001b[0m\u001b[0m\n\u001b[0;32m---> 80\u001b[0;31m         \u001b[0;32mraise\u001b[0m \u001b[0mTimeoutException\u001b[0m\u001b[0;34m(\u001b[0m\u001b[0mmessage\u001b[0m\u001b[0;34m,\u001b[0m \u001b[0mscreen\u001b[0m\u001b[0;34m,\u001b[0m \u001b[0mstacktrace\u001b[0m\u001b[0;34m)\u001b[0m\u001b[0;34m\u001b[0m\u001b[0;34m\u001b[0m\u001b[0m\n\u001b[0m\u001b[1;32m     81\u001b[0m \u001b[0;34m\u001b[0m\u001b[0m\n\u001b[1;32m     82\u001b[0m     \u001b[0;32mdef\u001b[0m \u001b[0muntil_not\u001b[0m\u001b[0;34m(\u001b[0m\u001b[0mself\u001b[0m\u001b[0;34m,\u001b[0m \u001b[0mmethod\u001b[0m\u001b[0;34m,\u001b[0m \u001b[0mmessage\u001b[0m\u001b[0;34m=\u001b[0m\u001b[0;34m''\u001b[0m\u001b[0;34m)\u001b[0m\u001b[0;34m:\u001b[0m\u001b[0;34m\u001b[0m\u001b[0;34m\u001b[0m\u001b[0m\n",
      "\u001b[0;31mTimeoutException\u001b[0m: Message: \n"
     ]
    }
   ],
   "source": [
    "food_list = create_list(driver,'food')\n",
    "\n",
    "for i in food_list[0:10] :\n",
    "    print(i)\n",
    "    \n",
    "dict_top_5 = top_5(driver,food_list[0:10])\n",
    "dict_top_5"
   ]
  },
  {
   "cell_type": "code",
   "execution_count": 415,
   "metadata": {},
   "outputs": [
    {
     "data": {
      "text/plain": [
       "{'foodfusionpk': 747969,\n",
       " 'yourfoodlab': 689453,\n",
       " 'foodrush.recipe': 564620,\n",
       " 'rajshrifood': 176534,\n",
       " 'the_foodie_bae': 99845}"
      ]
     },
     "execution_count": 415,
     "metadata": {},
     "output_type": "execute_result"
    }
   ],
   "source": [
    "dict_top_5 = d\n",
    "dict_top_5"
   ]
  },
  {
   "cell_type": "code",
   "execution_count": 408,
   "metadata": {},
   "outputs": [],
   "source": [
    "def post_in_pre_days(driver, days=3) :\n",
    "    try :\n",
    "        li = wait.until(EC.presence_of_element_located((By.CLASS_NAME,'v1Nh3')))\n",
    "        li.click()\n",
    "    except Exception as e:\n",
    "        print(\"Cant Open Post\") \n",
    "        return\n",
    "    \n",
    "    count = 0\n",
    "    while True :\n",
    "        try : \n",
    "            temp = wait.until(EC.presence_of_element_located((By.CLASS_NAME,'_1o9PC')))\n",
    "        except Exception as e:\n",
    "            print(\"Loading error\")\n",
    "            return\n",
    "      \n",
    "        date_string = temp.get_attribute('datetime')\n",
    "        date = datetime.strptime(date_string[0:19], \"%Y-%m-%dT%H:%M:%S\")\n",
    "        \n",
    "        if (datetime.now() - date).days > 3 :\n",
    "            break\n",
    "        else :\n",
    "            count += 1\n",
    "       \n",
    "        try : \n",
    "            nxt = wait.until(EC.presence_of_element_located((By.CLASS_NAME,'coreSpriteRightPaginationArrow')))\n",
    "            nxt.click()\n",
    "        except Exception as e:\n",
    "            print(\"No more posts\")\n",
    "            break     \n",
    "    \n",
    "    driver.find_element_by_class_name('ckWGn').click()\n",
    "    return count"
   ]
  },
  {
   "cell_type": "code",
   "execution_count": 422,
   "metadata": {},
   "outputs": [
    {
     "name": "stdout",
     "output_type": "stream",
     "text": [
      "foodfusionpk 6\n",
      "yourfoodlab 5\n",
      "foodrush.recipe 4\n",
      "rajshrifood 7\n",
      "the_foodie_bae 7\n"
     ]
    }
   ],
   "source": [
    "dict_posts_in_pre_days = {}\n",
    "for i in dict_top_5.keys() :\n",
    "    search_and_open(driver,i)\n",
    "    time.sleep(2)\n",
    "    p = post_in_pre_days(driver)\n",
    "    dict_posts_in_pre_days[i] = p\n",
    "    print(i,dict_posts_in_pre_days[i])"
   ]
  },
  {
   "cell_type": "code",
   "execution_count": 2,
   "metadata": {},
   "outputs": [
    {
     "ename": "NameError",
     "evalue": "name 'dict_posts_in_pre_days' is not defined",
     "output_type": "error",
     "traceback": [
      "\u001b[0;31m---------------------------------------------------------------------------\u001b[0m",
      "\u001b[0;31mNameError\u001b[0m                                 Traceback (most recent call last)",
      "\u001b[0;32m<ipython-input-2-e04c04b3825e>\u001b[0m in \u001b[0;36m<module>\u001b[0;34m\u001b[0m\n\u001b[0;32m----> 1\u001b[0;31m \u001b[0mdict_posts_in_pre_days\u001b[0m\u001b[0;34m\u001b[0m\u001b[0;34m\u001b[0m\u001b[0m\n\u001b[0m",
      "\u001b[0;31mNameError\u001b[0m: name 'dict_posts_in_pre_days' is not defined"
     ]
    }
   ],
   "source": [
    "dict_posts_in_pre_days"
   ]
  },
  {
   "cell_type": "code",
   "execution_count": 1,
   "metadata": {},
   "outputs": [
    {
     "ename": "NameError",
     "evalue": "name 'dict_posts_in_pre_days' is not defined",
     "output_type": "error",
     "traceback": [
      "\u001b[0;31m---------------------------------------------------------------------------\u001b[0m",
      "\u001b[0;31mNameError\u001b[0m                                 Traceback (most recent call last)",
      "\u001b[0;32m<ipython-input-1-822edf938f37>\u001b[0m in \u001b[0;36m<module>\u001b[0;34m\u001b[0m\n\u001b[0;32m----> 1\u001b[0;31m \u001b[0mD\u001b[0m \u001b[0;34m=\u001b[0m \u001b[0mdict_posts_in_pre_days\u001b[0m\u001b[0;34m\u001b[0m\u001b[0;34m\u001b[0m\u001b[0m\n\u001b[0m\u001b[1;32m      2\u001b[0m \u001b[0mplt\u001b[0m\u001b[0;34m.\u001b[0m\u001b[0mbar\u001b[0m\u001b[0;34m(\u001b[0m\u001b[0mrange\u001b[0m\u001b[0;34m(\u001b[0m\u001b[0mlen\u001b[0m\u001b[0;34m(\u001b[0m\u001b[0mD\u001b[0m\u001b[0;34m)\u001b[0m\u001b[0;34m)\u001b[0m\u001b[0;34m,\u001b[0m \u001b[0mlist\u001b[0m\u001b[0;34m(\u001b[0m\u001b[0mD\u001b[0m\u001b[0;34m.\u001b[0m\u001b[0mvalues\u001b[0m\u001b[0;34m(\u001b[0m\u001b[0;34m)\u001b[0m\u001b[0;34m)\u001b[0m\u001b[0;34m,\u001b[0m \u001b[0malign\u001b[0m\u001b[0;34m=\u001b[0m\u001b[0;34m'center'\u001b[0m\u001b[0;34m)\u001b[0m\u001b[0;34m\u001b[0m\u001b[0;34m\u001b[0m\u001b[0m\n\u001b[1;32m      3\u001b[0m \u001b[0mplt\u001b[0m\u001b[0;34m.\u001b[0m\u001b[0mxticks\u001b[0m\u001b[0;34m(\u001b[0m\u001b[0mrange\u001b[0m\u001b[0;34m(\u001b[0m\u001b[0mlen\u001b[0m\u001b[0;34m(\u001b[0m\u001b[0mD\u001b[0m\u001b[0;34m)\u001b[0m\u001b[0;34m)\u001b[0m\u001b[0;34m,\u001b[0m \u001b[0mlist\u001b[0m\u001b[0;34m(\u001b[0m\u001b[0mD\u001b[0m\u001b[0;34m.\u001b[0m\u001b[0mkeys\u001b[0m\u001b[0;34m(\u001b[0m\u001b[0;34m)\u001b[0m\u001b[0;34m)\u001b[0m\u001b[0;34m,\u001b[0m \u001b[0mrotation\u001b[0m \u001b[0;34m=\u001b[0m \u001b[0;36m20\u001b[0m\u001b[0;34m)\u001b[0m\u001b[0;34m\u001b[0m\u001b[0;34m\u001b[0m\u001b[0m\n\u001b[1;32m      4\u001b[0m \u001b[0mplt\u001b[0m\u001b[0;34m.\u001b[0m\u001b[0mylabel\u001b[0m\u001b[0;34m(\u001b[0m\u001b[0;34m'Number of posts in past 3 days'\u001b[0m\u001b[0;34m,\u001b[0m \u001b[0mfontsize\u001b[0m\u001b[0;34m=\u001b[0m\u001b[0;36m16\u001b[0m\u001b[0;34m)\u001b[0m\u001b[0;34m\u001b[0m\u001b[0;34m\u001b[0m\u001b[0m\n\u001b[1;32m      5\u001b[0m \u001b[0mplt\u001b[0m\u001b[0;34m.\u001b[0m\u001b[0mshow\u001b[0m\u001b[0;34m(\u001b[0m\u001b[0;34m)\u001b[0m\u001b[0;34m\u001b[0m\u001b[0;34m\u001b[0m\u001b[0m\n",
      "\u001b[0;31mNameError\u001b[0m: name 'dict_posts_in_pre_days' is not defined"
     ]
    }
   ],
   "source": [
    "D = dict_posts_in_pre_days\n",
    "plt.bar(range(len(D)), list(D.values()), align='center')\n",
    "plt.xticks(range(len(D)), list(D.keys()), rotation = 20)\n",
    "plt.ylabel('Number of posts in past 3 days', fontsize=16)\n",
    "plt.show()"
   ]
  },
  {
   "cell_type": "code",
   "execution_count": 442,
   "metadata": {},
   "outputs": [],
   "source": [
    "def words_and_hashtags(driver,words,hashtags) :\n",
    "   \n",
    "    try :\n",
    "        li = wait.until(EC.presence_of_element_located((By.CLASS_NAME,'v1Nh3')))\n",
    "        li.click()\n",
    "    except Exception as e:\n",
    "        print(\"Cant Open Post\") \n",
    "        return\n",
    "    \n",
    "    for i in range(10) :\n",
    "       \n",
    "        try : \n",
    "            temp = wait.until(EC.presence_of_element_located((By.CLASS_NAME,'_1o9PC')))\n",
    "        except Exception as e:\n",
    "            print(\"Loading error\")\n",
    "            return\n",
    "        \n",
    "        try:\n",
    "            post = wait.until(EC.presence_of_element_located((By.XPATH,'/html/body/div[3]/div[2]/div/article/div[2]/div[1]/ul/div/li/div/div/div[2]/span'))).text\n",
    "            l = [tag.strip(\"#\") for tag in post.split() if tag.startswith(\"#\")]\n",
    "            for i in l :\n",
    "                for j in i.split('#') :\n",
    "                    hashtags[j] = hashtags.get(j,0) + 1\n",
    "            for i in re.split('[^a-zA-Z]',post):\n",
    "                if i != '' :\n",
    "                    words[i] = words.get(i,0) + 1 \n",
    "        except Exception as e:\n",
    "            print('cant load post')\n",
    "       \n",
    "        try : \n",
    "            nxt = wait.until(EC.presence_of_element_located((By.CLASS_NAME,'coreSpriteRightPaginationArrow')))\n",
    "            nxt.click()\n",
    "        except Exception as e:\n",
    "            print(\"No more posts\")\n",
    "            break     \n",
    "\n",
    "    try : \n",
    "        driver.find_element_by_class_name('ckWGn').click()\n",
    "    except Exception as e:\n",
    "        print('no close button')\n",
    "    return words,hashtags\n"
   ]
  },
  {
   "cell_type": "code",
   "execution_count": 457,
   "metadata": {},
   "outputs": [],
   "source": [
    "words = {}\n",
    "hashtags = {}\n",
    "for i in dict_top_5.keys() :\n",
    "    search_and_open(driver, i)\n",
    "    time.sleep(2)\n",
    "    words_and_hashtags(driver,words,hashtags)\n",
    "    "
   ]
  },
  {
   "cell_type": "code",
   "execution_count": 461,
   "metadata": {},
   "outputs": [
    {
     "name": "stdout",
     "output_type": "stream",
     "text": [
      "tsp 121\n",
      "and 78\n",
      "powder 75\n",
      "a 57\n",
      "it 55\n",
      "the 55\n",
      "for 44\n",
      "cup 41\n",
      "with 40\n",
      "to 39\n",
      "of 38\n",
      "add 35\n",
      "In 32\n",
      "or 31\n",
      "oil 30\n",
      "\n",
      "\n",
      "\n",
      "foodie 10\n",
      "foodislife 10\n",
      "foodporn 10\n",
      "igfood 10\n",
      "delicious 10\n"
     ]
    },
    {
     "data": {
      "image/png": "[encoded data removed]",
      "text/plain": [
       "<Figure size 432x288 with 1 Axes>"
      ]
     },
     "metadata": {},
     "output_type": "display_data"
    }
   ],
   "source": [
    "count = 0\n",
    "for w in sorted(words, key=words.get, reverse=True):\n",
    "        count += 1\n",
    "        print(w,words[w])\n",
    "        if(count >= 15) : \n",
    "            break\n",
    "print('\\n\\n')\n",
    "count = 0\n",
    "x = []\n",
    "y = []\n",
    "for w in sorted(hashtags, key=hashtags.get, reverse=True):\n",
    "        count += 1\n",
    "        print(w,hashtags[w])\n",
    "        x.append(w)\n",
    "        y.append(hashtags[w])\n",
    "        if(count >= 5) : \n",
    "            break\n",
    "            \n",
    "plt.pie(y,labels=x)\n",
    "plt.show()"
   ]
  },
  {
   "cell_type": "code",
   "execution_count": 255,
   "metadata": {},
   "outputs": [],
   "source": [
    "def follower_like_ratio(driver):\n",
    "    \n",
    "    try : \n",
    "        followers_ele = wait.until(EC.presence_of_all_elements_located((By.CLASS_NAME,'g47SY')))[1]\n",
    "        followers = int(followers_ele.get_attribute('title').replace(',' , ''))  \n",
    "    except Exception as e:     \n",
    "        print('Cant access followers')\n",
    "    \n",
    "    try :\n",
    "        li = wait.until(EC.presence_of_element_located((By.CLASS_NAME,'v1Nh3')))\n",
    "        li.click()\n",
    "    except Exception as e:\n",
    "        print(\"Cant Open Post\") \n",
    "        return\n",
    "    \n",
    "    lst = []\n",
    "    for i in range(10) :\n",
    "        try : \n",
    "            temp = wait.until(EC.presence_of_element_located((By.CLASS_NAME,'_8A5w5')))\n",
    "            #temp = driver.find_element_by_class_name('_8A5w5')\n",
    "            if temp.text == '' :\n",
    "                temp = driver.find_elements_by_class_name('_8A5w5')[-1]\n",
    "       \n",
    "        except Exception as e:     \n",
    "            try : \n",
    "                driver.find_element_by_class_name('vcOH2').click()\n",
    "                temp = wait.until(EC.presence_of_element_located((By.CLASS_NAME,'vJRqr')))  \n",
    "                #driver.find_element_by_class_name('QhbhU').click() \n",
    "            except Exception as e:\n",
    "                print(\"Loading error\")\n",
    "                return\n",
    "      \n",
    "        likes = int(temp.text.split()[0].replace(',',''))\n",
    "        lst.append(likes)\n",
    "       # print(likes)\n",
    "        \n",
    "        try : \n",
    "            driver.find_element_by_class_name('coreSpriteRightPaginationArrow').click()\n",
    "    \n",
    "        except Exception as e:\n",
    "            try : \n",
    "                driver.find_element_by_class_name('QhbhU').click() \n",
    "                nxt = wait.until(EC.presence_of_element_located((By.CLASS_NAME,'coreSpriteRightPaginationArrow')))\n",
    "                nxt.click()\n",
    "            except Exception as e:\n",
    "                print(\"No more posts\")\n",
    "                break     \n",
    "            \n",
    "    driver.find_element_by_class_name('ckWGn').click()\n",
    "    \n",
    "    avg_likes = sum(lst)/len(lst)\n",
    "    print('avg likes :',avg_likes, '     followers :',followers)\n",
    "    ratio = avg_likes/followers\n",
    "    return ratio"
   ]
  },
  {
   "cell_type": "code",
   "execution_count": 211,
   "metadata": {},
   "outputs": [
    {
     "name": "stdout",
     "output_type": "stream",
     "text": [
      "611\n",
      "2613\n",
      "7244\n",
      "2981\n",
      "7635\n",
      "4028\n",
      "2419\n",
      "3288\n",
      "3678\n",
      "4691\n",
      "avg likes : 3918.8      followers : 287688\n"
     ]
    },
    {
     "data": {
      "text/plain": [
       "0.01362170128750591"
      ]
     },
     "execution_count": 211,
     "metadata": {},
     "output_type": "execute_result"
    }
   ],
   "source": [
    "follower_like_ratio(driver)"
   ]
  },
  {
   "cell_type": "code",
   "execution_count": 206,
   "metadata": {},
   "outputs": [],
   "source": [
    "driver.find_element_by_class_name('vcOH2').click()#vcOH2\n",
    "driver.find_element_by_class_name('vJRqr')\n",
    "driver.find_element_by_class_name('QhbhU').click() "
   ]
  },
  {
   "cell_type": "code",
   "execution_count": 225,
   "metadata": {},
   "outputs": [
    {
     "data": {
      "text/plain": [
       "{'yourfoodlab': 688051,\n",
       " 'foodrush.recipe': 563226,\n",
       " 'rajshrifood': 175817,\n",
       " 'the_foodie_bae': 99530,\n",
       " 'foodofgoa': 42124}"
      ]
     },
     "execution_count": 225,
     "metadata": {},
     "output_type": "execute_result"
    }
   ],
   "source": [
    "d"
   ]
  },
  {
   "cell_type": "code",
   "execution_count": 260,
   "metadata": {},
   "outputs": [
    {
     "name": "stdout",
     "output_type": "stream",
     "text": [
      "yourfoodlab\n",
      "avg likes : 11525.1      followers : 688912\n",
      "0.016729422625821586\n",
      "\n",
      "foodrush.recipe\n",
      "avg likes : 36592.5      followers : 564116\n",
      "0.06486697771380355\n",
      "\n",
      "rajshrifood\n",
      "avg likes : 1242.8      followers : 176176\n",
      "0.007054309327036599\n",
      "\n",
      "the_foodie_bae\n",
      "avg likes : 6676.8      followers : 99709\n",
      "0.06696286192821109\n",
      "\n",
      "foodofgoa\n",
      "avg likes : 1735.6      followers : 42135\n",
      "0.04119140856769906\n",
      "\n"
     ]
    }
   ],
   "source": [
    "map_user_to_ratio = {}\n",
    "\n",
    "for i in dict_top_5.keys() :\n",
    "    print(i)\n",
    "    search_and_open(driver, i)\n",
    "    r = follower_like_ratio(driver)\n",
    "    print(r)\n",
    "    print()\n",
    "    \n",
    "    map_user_to_ratio[i] = r\n",
    "    \n",
    "    #time.sleep(2)\n",
    "    #break\n",
    "    "
   ]
  },
  {
   "cell_type": "code",
   "execution_count": 258,
   "metadata": {},
   "outputs": [
    {
     "data": {
      "text/plain": [
       "{'yourfoodlab': 0.016729422625821586,\n",
       " 'foodrush.recipe': 0.06486697771380355,\n",
       " 'rajshrifood': 0.007054309327036599,\n",
       " 'the_foodie_bae': 0.06696286192821109,\n",
       " 'foodofgoa': 0.04119140856769906}"
      ]
     },
     "execution_count": 258,
     "metadata": {},
     "output_type": "execute_result"
    }
   ],
   "source": [
    "map_user_to_ratio"
   ]
  },
  {
   "cell_type": "code",
   "execution_count": 462,
   "metadata": {},
   "outputs": [
    {
     "data": {
      "image/png": "[encoded data removed]",
      "text/plain": [
       "<Figure size 432x288 with 1 Axes>"
      ]
     },
     "metadata": {
      "needs_background": "light"
     },
     "output_type": "display_data"
    }
   ],
   "source": [
    "D = map_user_to_ratio\n",
    "plt.bar(range(len(D)), list(D.values()), align='center')\n",
    "plt.xticks(range(len(D)), list(D.keys()), rotation = 20)\n",
    "plt.show()"
   ]
  }
 ],
 "metadata": {
  "kernelspec": {
   "display_name": "Python 3",
   "language": "python",
   "name": "python3"
  },
  "language_info": {
   "codemirror_mode": {
    "name": "ipython",
    "version": 3
   },
   "file_extension": ".py",
   "mimetype": "text/x-python",
   "name": "python",
   "nbconvert_exporter": "python",
   "pygments_lexer": "ipython3",
   "version": "3.7.3"
  }
 },
 "nbformat": 4,
 "nbformat_minor": 2
}
