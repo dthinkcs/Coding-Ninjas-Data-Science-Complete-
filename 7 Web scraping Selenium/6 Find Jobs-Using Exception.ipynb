{
 "cells": [
  {
   "cell_type": "code",
   "execution_count": 1,
   "metadata": {
    "collapsed": true
   },
   "outputs": [],
   "source": [
    "from selenium import webdriver"
   ]
  },
  {
   "cell_type": "code",
   "execution_count": 6,
   "metadata": {},
   "outputs": [
    {
     "data": {
      "text/plain": [
       "<selenium.webdriver.chrome.webdriver.WebDriver (session=\"74aa36414930fae6985f6b3ec37ec802\")>"
      ]
     },
     "execution_count": 6,
     "metadata": {},
     "output_type": "execute_result"
    }
   ],
   "source": [
    "driver = webdriver.Chrome(executable_path = '/Users/codingninjastudio/Downloads/chromedriver')\n",
    "driver"
   ]
  },
  {
   "cell_type": "code",
   "execution_count": 7,
   "metadata": {},
   "outputs": [],
   "source": [
    "driver.get('http://kanview.ks.gov/PayRates/PayRates_Agency.aspx')"
   ]
  },
  {
   "cell_type": "code",
   "execution_count": 9,
   "metadata": {},
   "outputs": [
    {
     "data": {
      "text/plain": [
       "<selenium.webdriver.remote.webelement.WebElement (session=\"74aa36414930fae6985f6b3ec37ec802\", element=\"0.1653784279162982-1\")>"
      ]
     },
     "execution_count": 9,
     "metadata": {},
     "output_type": "execute_result"
    }
   ],
   "source": [
    "a = driver.find_element_by_link_text('Adjutant General')\n",
    "a"
   ]
  },
  {
   "cell_type": "code",
   "execution_count": 10,
   "metadata": {
    "collapsed": true
   },
   "outputs": [],
   "source": [
    "a.click()"
   ]
  },
  {
   "cell_type": "code",
   "execution_count": 11,
   "metadata": {},
   "outputs": [
    {
     "name": "stdout",
     "output_type": "stream",
     "text": [
      "<class 'bs4.element.Tag'>\n",
      "<class 'bs4.element.Tag'>\n"
     ]
    }
   ],
   "source": [
    "from bs4 import BeautifulSoup\n",
    "import pandas as pd\n",
    "\n",
    "dataFrameList = []\n",
    "\n",
    "for i in range(2) : \n",
    "    link = driver.find_element_by_id('MainContent_uxLevel2_JobTitles_uxJobTitleBtn_' + str(i))\n",
    "    link.click()\n",
    "    \n",
    "    data = BeautifulSoup(driver.page_source, 'lxml')\n",
    "    emp_table = data.table\n",
    "    print(type(emp_table))\n",
    "    df = pd.read_html(str(emp_table), header = 0)\n",
    "    dataFrameList.append(df[0])\n",
    "    driver.back()"
   ]
  },
  {
   "cell_type": "code",
   "execution_count": 13,
   "metadata": {},
   "outputs": [
    {
     "data": {
      "text/plain": [
       "[               Employee Name   Job Title Overtime Pay Total Gross Pay\n",
       " 0     Black,Shannon Michelle  Accountant        $0.00      $48,057.30\n",
       " 1             Bowser,Jamie M  Accountant        $0.00      $46,650.87\n",
       " 2           Bradford,Randy D  Accountant        $0.00      $42,707.40\n",
       " 3              Epps,David A.  Accountant        $0.00      $40,666.91\n",
       " 4         Fairbanks,Angela K  Accountant    $1,034.15      $45,614.43\n",
       " 5  Klenklen-Albertson,Tina L  Accountant        $0.00      $43,958.20\n",
       " 6            Nelson,Shayna I  Accountant        $0.00      $29,078.09,\n",
       "           Employee Name           Job Title Overtime Pay Total Gross Pay\n",
       " 0   Neth,Michael Edward  Accounting Manager      $239.40      $60,591.35\n",
       " 1  Rightmeier,Yolanda M  Accounting Manager    $1,324.44      $66,020.29]"
      ]
     },
     "execution_count": 13,
     "metadata": {},
     "output_type": "execute_result"
    }
   ],
   "source": [
    "dataFrameList"
   ]
  },
  {
   "cell_type": "code",
   "execution_count": 22,
   "metadata": {},
   "outputs": [],
   "source": [
    "# driver.find_element_by_id('MainContent_uxLevel2_JobTitles_uxJobTitleBtn_75')"
   ]
  },
  {
   "cell_type": "code",
   "execution_count": 25,
   "metadata": {
    "collapsed": true
   },
   "outputs": [],
   "source": [
    "a = driver.find_element_by_link_text('Board of Accountancy')\n",
    "a.click()"
   ]
  },
  {
   "cell_type": "code",
   "execution_count": 26,
   "metadata": {},
   "outputs": [
    {
     "name": "stdout",
     "output_type": "stream",
     "text": [
      "<class 'bs4.element.Tag'>\n",
      "<class 'bs4.element.Tag'>\n",
      "<class 'bs4.element.Tag'>\n",
      "<class 'bs4.element.Tag'>\n"
     ]
    }
   ],
   "source": [
    "from selenium.common.exceptions import NoSuchElementException\n",
    "\n",
    "dataFrameList = []\n",
    "\n",
    "i = 0\n",
    "while True : \n",
    "    try : \n",
    "        link = driver.find_element_by_id('MainContent_uxLevel2_JobTitles_uxJobTitleBtn_' + str(i))\n",
    "        link.click()\n",
    "\n",
    "        data = BeautifulSoup(driver.page_source, 'lxml')\n",
    "        emp_table = data.table\n",
    "        print(type(emp_table))\n",
    "        df = pd.read_html(str(emp_table), header = 0)\n",
    "        dataFrameList.append(df[0])\n",
    "        driver.back()\n",
    "        i += 1\n",
    "    except NoSuchElementException :\n",
    "        break"
   ]
  },
  {
   "cell_type": "code",
   "execution_count": 27,
   "metadata": {},
   "outputs": [
    {
     "data": {
      "text/plain": [
       "[         Employee Name               Job Title Overtime Pay Total Gross Pay\n",
       " 0  Ramskill,Samantha S  Administrative Officer        $0.00      $41,545.21,\n",
       "     Employee Name                  Job Title Overtime Pay Total Gross Pay\n",
       " 0  Miller,Janet M  Administrative Specialist        $0.00       $9,628.95,\n",
       "         Employee Name                     Job Title Overtime Pay  \\\n",
       " 0      Anderson,Ted C  Appt/elect Bd/comm Bd Member        $0.00   \n",
       " 1        Helms,John R  Appt/elect Bd/comm Bd Member        $0.00   \n",
       " 2     Lange,Corlene R  Appt/elect Bd/comm Bd Member        $0.00   \n",
       " 3     Marsh,Michael L  Appt/elect Bd/comm Bd Member        $0.00   \n",
       " 4  Mitchell,Kathryn J  Appt/elect Bd/comm Bd Member        $0.00   \n",
       " 5   Richey,Meredith A  Appt/elect Bd/comm Bd Member        $0.00   \n",
       " \n",
       "   Total Gross Pay  \n",
       " 0         $280.00  \n",
       " 1         $280.00  \n",
       " 2         $280.00  \n",
       " 3         $280.00  \n",
       " 4         $245.00  \n",
       " 5         $210.00  ,\n",
       "      Employee Name           Job Title Overtime Pay Total Gross Pay\n",
       " 0  Somers,Susan L.  Executive Director        $0.00      $78,207.31]"
      ]
     },
     "execution_count": 27,
     "metadata": {},
     "output_type": "execute_result"
    }
   ],
   "source": [
    "dataFrameList"
   ]
  },
  {
   "cell_type": "code",
   "execution_count": 34,
   "metadata": {},
   "outputs": [
    {
     "data": {
      "text/html": [
       "<div>\n",
       "<style>\n",
       "    .dataframe thead tr:only-child th {\n",
       "        text-align: right;\n",
       "    }\n",
       "\n",
       "    .dataframe thead th {\n",
       "        text-align: left;\n",
       "    }\n",
       "\n",
       "    .dataframe tbody tr th {\n",
       "        vertical-align: top;\n",
       "    }\n",
       "</style>\n",
       "<table border=\"1\" class=\"dataframe\">\n",
       "  <thead>\n",
       "    <tr style=\"text-align: right;\">\n",
       "      <th></th>\n",
       "      <th>Employee Name</th>\n",
       "      <th>Job Title</th>\n",
       "      <th>Overtime Pay</th>\n",
       "      <th>Total Gross Pay</th>\n",
       "    </tr>\n",
       "  </thead>\n",
       "  <tbody>\n",
       "    <tr>\n",
       "      <th>0</th>\n",
       "      <td>Ramskill,Samantha S</td>\n",
       "      <td>Administrative Officer</td>\n",
       "      <td>$0.00</td>\n",
       "      <td>$41,545.21</td>\n",
       "    </tr>\n",
       "    <tr>\n",
       "      <th>1</th>\n",
       "      <td>Miller,Janet M</td>\n",
       "      <td>Administrative Specialist</td>\n",
       "      <td>$0.00</td>\n",
       "      <td>$9,628.95</td>\n",
       "    </tr>\n",
       "    <tr>\n",
       "      <th>2</th>\n",
       "      <td>Anderson,Ted C</td>\n",
       "      <td>Appt/elect Bd/comm Bd Member</td>\n",
       "      <td>$0.00</td>\n",
       "      <td>$280.00</td>\n",
       "    </tr>\n",
       "    <tr>\n",
       "      <th>3</th>\n",
       "      <td>Helms,John R</td>\n",
       "      <td>Appt/elect Bd/comm Bd Member</td>\n",
       "      <td>$0.00</td>\n",
       "      <td>$280.00</td>\n",
       "    </tr>\n",
       "    <tr>\n",
       "      <th>4</th>\n",
       "      <td>Lange,Corlene R</td>\n",
       "      <td>Appt/elect Bd/comm Bd Member</td>\n",
       "      <td>$0.00</td>\n",
       "      <td>$280.00</td>\n",
       "    </tr>\n",
       "    <tr>\n",
       "      <th>5</th>\n",
       "      <td>Marsh,Michael L</td>\n",
       "      <td>Appt/elect Bd/comm Bd Member</td>\n",
       "      <td>$0.00</td>\n",
       "      <td>$280.00</td>\n",
       "    </tr>\n",
       "    <tr>\n",
       "      <th>6</th>\n",
       "      <td>Mitchell,Kathryn J</td>\n",
       "      <td>Appt/elect Bd/comm Bd Member</td>\n",
       "      <td>$0.00</td>\n",
       "      <td>$245.00</td>\n",
       "    </tr>\n",
       "    <tr>\n",
       "      <th>7</th>\n",
       "      <td>Richey,Meredith A</td>\n",
       "      <td>Appt/elect Bd/comm Bd Member</td>\n",
       "      <td>$0.00</td>\n",
       "      <td>$210.00</td>\n",
       "    </tr>\n",
       "    <tr>\n",
       "      <th>8</th>\n",
       "      <td>Somers,Susan L.</td>\n",
       "      <td>Executive Director</td>\n",
       "      <td>$0.00</td>\n",
       "      <td>$78,207.31</td>\n",
       "    </tr>\n",
       "  </tbody>\n",
       "</table>\n",
       "</div>"
      ],
      "text/plain": [
       "         Employee Name                     Job Title Overtime Pay  \\\n",
       "0  Ramskill,Samantha S        Administrative Officer        $0.00   \n",
       "1       Miller,Janet M     Administrative Specialist        $0.00   \n",
       "2       Anderson,Ted C  Appt/elect Bd/comm Bd Member        $0.00   \n",
       "3         Helms,John R  Appt/elect Bd/comm Bd Member        $0.00   \n",
       "4      Lange,Corlene R  Appt/elect Bd/comm Bd Member        $0.00   \n",
       "5      Marsh,Michael L  Appt/elect Bd/comm Bd Member        $0.00   \n",
       "6   Mitchell,Kathryn J  Appt/elect Bd/comm Bd Member        $0.00   \n",
       "7    Richey,Meredith A  Appt/elect Bd/comm Bd Member        $0.00   \n",
       "8      Somers,Susan L.            Executive Director        $0.00   \n",
       "\n",
       "  Total Gross Pay  \n",
       "0      $41,545.21  \n",
       "1       $9,628.95  \n",
       "2         $280.00  \n",
       "3         $280.00  \n",
       "4         $280.00  \n",
       "5         $280.00  \n",
       "6         $245.00  \n",
       "7         $210.00  \n",
       "8      $78,207.31  "
      ]
     },
     "execution_count": 34,
     "metadata": {},
     "output_type": "execute_result"
    }
   ],
   "source": [
    "df = pd.concat(dataFrameList, ignore_index = True)"
   ]
  }
 ],
 "metadata": {
  "kernelspec": {
   "display_name": "Python 3",
   "language": "python",
   "name": "python3"
  },
  "language_info": {
   "codemirror_mode": {
    "name": "ipython",
    "version": 3
   },
   "file_extension": ".py",
   "mimetype": "text/x-python",
   "name": "python",
   "nbconvert_exporter": "python",
   "pygments_lexer": "ipython3",
   "version": "3.7.3"
  }
 },
 "nbformat": 4,
 "nbformat_minor": 2
}
