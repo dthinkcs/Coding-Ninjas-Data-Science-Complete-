{
 "cells": [
  {
   "cell_type": "code",
   "execution_count": 1,
   "metadata": {
    "collapsed": true
   },
   "outputs": [],
   "source": [
    "from selenium import webdriver"
   ]
  },
  {
   "cell_type": "code",
   "execution_count": 2,
   "metadata": {},
   "outputs": [
    {
     "data": {
      "text/plain": [
       "<selenium.webdriver.chrome.webdriver.WebDriver (session=\"735075effe5001448d014e056b715a3a\")>"
      ]
     },
     "execution_count": 2,
     "metadata": {},
     "output_type": "execute_result"
    }
   ],
   "source": [
    "driver = webdriver.Chrome(executable_path = '/Users/codingninjastudio/Downloads/chromedriver')\n",
    "driver"
   ]
  },
  {
   "cell_type": "code",
   "execution_count": 3,
   "metadata": {
    "collapsed": true
   },
   "outputs": [],
   "source": [
    "driver.get('http://kanview.ks.gov/PayRates/PayRates_Agency.aspx')"
   ]
  },
  {
   "cell_type": "code",
   "execution_count": 12,
   "metadata": {},
   "outputs": [
    {
     "data": {
      "text/plain": [
       "<selenium.webdriver.remote.webelement.WebElement (session=\"735075effe5001448d014e056b715a3a\", element=\"0.7405395209056738-1\")>"
      ]
     },
     "execution_count": 12,
     "metadata": {},
     "output_type": "execute_result"
    }
   ],
   "source": [
    "a = driver.find_element_by_link_text('Adjutant General')\n",
    "a"
   ]
  },
  {
   "cell_type": "code",
   "execution_count": 13,
   "metadata": {
    "collapsed": true
   },
   "outputs": [],
   "source": [
    "a.click()"
   ]
  },
  {
   "cell_type": "code",
   "execution_count": 33,
   "metadata": {},
   "outputs": [
    {
     "name": "stdout",
     "output_type": "stream",
     "text": [
      "<class 'bs4.element.Tag'>\n",
      "<class 'bs4.element.Tag'>\n"
     ]
    }
   ],
   "source": [
    "from bs4 import BeautifulSoup\n",
    "import pandas as pd\n",
    "\n",
    "dataFrameList = []\n",
    "\n",
    "for i in range(2) : \n",
    "    link = driver.find_element_by_id('MainContent_uxLevel2_JobTitles_uxJobTitleBtn_' + str(i))\n",
    "    link.click()\n",
    "    \n",
    "    data = BeautifulSoup(driver.page_source, 'lxml')\n",
    "    emp_table = data.table\n",
    "    print(type(emp_table))\n",
    "    df = pd.read_html(str(emp_table), header = 0)\n",
    "    dataFrameList.append(df[0])\n",
    "    driver.back()"
   ]
  },
  {
   "cell_type": "code",
   "execution_count": 34,
   "metadata": {},
   "outputs": [
    {
     "data": {
      "text/plain": [
       "[               Employee Name   Job Title Overtime Pay Total Gross Pay\n",
       " 0     Black,Shannon Michelle  Accountant        $0.00      $48,057.30\n",
       " 1             Bowser,Jamie M  Accountant        $0.00      $46,650.87\n",
       " 2           Bradford,Randy D  Accountant        $0.00      $42,707.40\n",
       " 3              Epps,David A.  Accountant        $0.00      $40,666.91\n",
       " 4         Fairbanks,Angela K  Accountant    $1,034.15      $45,614.43\n",
       " 5  Klenklen-Albertson,Tina L  Accountant        $0.00      $43,958.20\n",
       " 6            Nelson,Shayna I  Accountant        $0.00      $29,078.09,\n",
       "           Employee Name           Job Title Overtime Pay Total Gross Pay\n",
       " 0   Neth,Michael Edward  Accounting Manager      $239.40      $60,591.35\n",
       " 1  Rightmeier,Yolanda M  Accounting Manager    $1,324.44      $66,020.29]"
      ]
     },
     "execution_count": 34,
     "metadata": {},
     "output_type": "execute_result"
    }
   ],
   "source": [
    "dataFrameList"
   ]
  }
 ],
 "metadata": {
  "kernelspec": {
   "display_name": "Python 3",
   "language": "python",
   "name": "python3"
  },
  "language_info": {
   "codemirror_mode": {
    "name": "ipython",
    "version": 3
   },
   "file_extension": ".py",
   "mimetype": "text/x-python",
   "name": "python",
   "nbconvert_exporter": "python",
   "pygments_lexer": "ipython3",
   "version": "3.7.3"
  }
 },
 "nbformat": 4,
 "nbformat_minor": 2
}
