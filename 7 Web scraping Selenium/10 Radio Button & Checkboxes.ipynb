{
 "cells": [
  {
   "cell_type": "code",
   "execution_count": 6,
   "metadata": {
    "collapsed": true
   },
   "outputs": [],
   "source": [
    "from selenium import webdriver"
   ]
  },
  {
   "cell_type": "code",
   "execution_count": 7,
   "metadata": {},
   "outputs": [
    {
     "name": "stdout",
     "output_type": "stream",
     "text": [
      "<input id=\"exp-0\" name=\"exp\" type=\"radio\" value=\"1\">\n"
     ]
    }
   ],
   "source": [
    "driver = webdriver.Chrome(executable_path = '/Users/codingninjastudio/Downloads/chromedriver')\n",
    "driver.get('https://www.toolsqa.com/automation-practice-form/')\n",
    "btn = driver.find_element_by_name('exp')\n",
    "print(btn.get_attribute('outerHTML'))"
   ]
  },
  {
   "cell_type": "code",
   "execution_count": 9,
   "metadata": {},
   "outputs": [],
   "source": [
    "driver = webdriver.Chrome(executable_path = '/Users/codingninjastudio/Downloads/chromedriver')\n",
    "driver.get('https://www.toolsqa.com/automation-practice-form/')\n",
    "btn = driver.find_elements_by_name('exp')\n",
    "btn[2].click()"
   ]
  },
  {
   "cell_type": "code",
   "execution_count": 11,
   "metadata": {},
   "outputs": [
    {
     "name": "stdout",
     "output_type": "stream",
     "text": [
      "True\n",
      "False\n"
     ]
    }
   ],
   "source": [
    "print(btn[2].is_selected())\n",
    "print(btn[0].is_selected())"
   ]
  },
  {
   "cell_type": "code",
   "execution_count": 12,
   "metadata": {
    "collapsed": true
   },
   "outputs": [],
   "source": [
    "btn[4].click()"
   ]
  },
  {
   "cell_type": "code",
   "execution_count": 15,
   "metadata": {},
   "outputs": [
    {
     "data": {
      "text/plain": [
       "[<selenium.webdriver.remote.webelement.WebElement (session=\"a7b804fa7059c64f609ba7015fc1bb89\", element=\"0.8767140897476811-1\")>,\n",
       " <selenium.webdriver.remote.webelement.WebElement (session=\"a7b804fa7059c64f609ba7015fc1bb89\", element=\"0.8767140897476811-2\")>]"
      ]
     },
     "execution_count": 15,
     "metadata": {},
     "output_type": "execute_result"
    }
   ],
   "source": [
    "driver = webdriver.Chrome(executable_path = '/Users/codingninjastudio/Downloads/chromedriver')\n",
    "driver.get('https://www.toolsqa.com/automation-practice-form/')\n",
    "checkboxes = driver.find_elements_by_name('profession')\n",
    "checkboxes"
   ]
  },
  {
   "cell_type": "code",
   "execution_count": 16,
   "metadata": {
    "collapsed": true
   },
   "outputs": [],
   "source": [
    "for i in checkboxes :\n",
    "    if i.get_attribute('value') == 'Automation Tester' : \n",
    "        i.click()"
   ]
  },
  {
   "cell_type": "code",
   "execution_count": 17,
   "metadata": {
    "collapsed": true
   },
   "outputs": [],
   "source": [
    "for i in checkboxes :\n",
    "    if i.is_selected() : \n",
    "        i.click()"
   ]
  }
 ],
 "metadata": {
  "kernelspec": {
   "display_name": "Python 3",
   "language": "python",
   "name": "python3"
  },
  "language_info": {
   "codemirror_mode": {
    "name": "ipython",
    "version": 3
   },
   "file_extension": ".py",
   "mimetype": "text/x-python",
   "name": "python",
   "nbconvert_exporter": "python",
   "pygments_lexer": "ipython3",
   "version": "3.6.8"
  }
 },
 "nbformat": 4,
 "nbformat_minor": 2
}
