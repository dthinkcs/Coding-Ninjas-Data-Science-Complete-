{
 "cells": [
  {
   "cell_type": "code",
   "execution_count": 3,
   "metadata": {
    "collapsed": true
   },
   "outputs": [],
   "source": [
    "from selenium import webdriver"
   ]
  },
  {
   "cell_type": "code",
   "execution_count": 19,
   "metadata": {},
   "outputs": [
    {
     "data": {
      "text/plain": [
       "<selenium.webdriver.remote.webelement.WebElement (session=\"f904e6aaec4ca92886f7d2463a63e2d8\", element=\"0.4082756547273827-1\")>"
      ]
     },
     "execution_count": 19,
     "metadata": {},
     "output_type": "execute_result"
    }
   ],
   "source": [
    "driver = webdriver.Chrome(executable_path = '/Users/codingninjastudio/Downloads/chromedriver')\n",
    "driver.get('https://www.dell.com/en-in')\n",
    "text_box = driver.find_element_by_id('search-input')\n",
    "text_box.send_keys('Gaming Laptops')\n",
    "text_box.submit()\n",
    "driver.implicitly_wait(10)\n",
    "lap1 = driver.find_element_by_xpath('//div[contains(@class, \"gridbox\")]/div/a')\n",
    "lap1"
   ]
  },
  {
   "cell_type": "code",
   "execution_count": 20,
   "metadata": {
    "collapsed": true
   },
   "outputs": [],
   "source": [
    "lap1.click()"
   ]
  },
  {
   "cell_type": "code",
   "execution_count": 5,
   "metadata": {},
   "outputs": [],
   "source": [
    "from selenium.webdriver.support.ui import WebDriverWait\n",
    "from selenium.webdriver.support import expected_conditions as EC\n",
    "from selenium.webdriver.common.by import By\n",
    "\n",
    "driver = webdriver.Chrome(executable_path = '/Users/codingninjastudio/Downloads/chromedriver')\n",
    "driver.get('https://www.dell.com/en-in')\n",
    "text_box = driver.find_element_by_id('search-input')\n",
    "text_box.send_keys('Gaming Laptops')\n",
    "text_box.submit()\n",
    "\n",
    "## Explicit Wait\n",
    "wait = WebDriverWait(driver, 10)\n",
    "lap1 = wait.until(EC.presence_of_element_located((By.XPATH, \n",
    "                                          '//div[contains(@class, \"gridbox\")]/div/a')))\n",
    "\n",
    "lap1.click()"
   ]
  }
 ],
 "metadata": {
  "kernelspec": {
   "display_name": "Python 3",
   "language": "python",
   "name": "python3"
  },
  "language_info": {
   "codemirror_mode": {
    "name": "ipython",
    "version": 3
   },
   "file_extension": ".py",
   "mimetype": "text/x-python",
   "name": "python",
   "nbconvert_exporter": "python",
   "pygments_lexer": "ipython3",
   "version": "3.7.3"
  }
 },
 "nbformat": 4,
 "nbformat_minor": 2
}
