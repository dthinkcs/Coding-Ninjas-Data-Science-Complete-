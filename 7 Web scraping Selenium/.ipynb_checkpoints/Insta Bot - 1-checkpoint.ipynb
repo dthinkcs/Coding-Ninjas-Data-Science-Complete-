{
 "cells": [
  {
   "cell_type": "code",
   "execution_count": 139,
   "metadata": {},
   "outputs": [],
   "source": [
    "from selenium import webdriver\n",
    "import time\n",
    "from selenium.webdriver.support.ui import WebDriverWait\n",
    "from selenium.webdriver.support import expected_conditions as EC\n",
    "from selenium.webdriver.common.by import By"
   ]
  },
  {
   "cell_type": "code",
   "execution_count": 140,
   "metadata": {},
   "outputs": [],
   "source": [
    "driver = webdriver.Chrome(executable_path = '/Users/Aman/anaconda3/bin/chromedriver')"
   ]
  },
  {
   "cell_type": "code",
   "execution_count": 141,
   "metadata": {},
   "outputs": [],
   "source": [
    "driver.get('https://www.instagram.com/') "
   ]
  },
  {
   "cell_type": "code",
   "execution_count": 142,
   "metadata": {},
   "outputs": [],
   "source": [
    "wait = WebDriverWait(driver, 5)"
   ]
  },
  {
   "cell_type": "code",
   "execution_count": 147,
   "metadata": {},
   "outputs": [],
   "source": [
    "def login(driver, usr='rubal2508',pswd='10P16rq0058') :\n",
    "    \n",
    "    try :\n",
    "        reg_btn = wait.until(EC.presence_of_element_located((By.LINK_TEXT,'Log in')))\n",
    "        reg_btn.click()\n",
    "        time.sleep(2) \n",
    "        text_box = wait.until(EC.presence_of_element_located((By.NAME,'username')))\n",
    "        text_box.send_keys(usr)\n",
    "        text_box = driver.find_element_by_name('password')\n",
    "        text_box.send_keys(pswd)\n",
    "        text_box.submit()\n",
    "\n",
    "        wait.until(EC.element_to_be_clickable((By.CSS_SELECTOR, \".aOOlW.HoLwm\"))).click()\n",
    "    \n",
    "    except TimeoutException :\n",
    "        print (\"Can't Login\")"
   ]
  },
  {
   "cell_type": "code",
   "execution_count": 148,
   "metadata": {},
   "outputs": [
    {
     "name": "stdout",
     "output_type": "stream",
     "text": [
      "Can't Login\n"
     ]
    }
   ],
   "source": [
    "login(driver)"
   ]
  },
  {
   "cell_type": "code",
   "execution_count": 152,
   "metadata": {},
   "outputs": [],
   "source": [
    "def search_and_open(driver, query) :\n",
    "    try :\n",
    "        search_box = wait.until(EC.presence_of_element_located((By.CLASS_NAME,'XTCLo')))\n",
    "        search_box.clear()\n",
    "        search_box.send_keys(query)\n",
    "        query = wait.until(EC.presence_of_element_located((By.CLASS_NAME,'yCE8d')))\n",
    "        query.click()\n",
    "\n",
    "    except TimeoutException :\n",
    "        print('Cant search')"
   ]
  },
  {
   "cell_type": "code",
   "execution_count": 153,
   "metadata": {},
   "outputs": [],
   "source": [
    "search_and_open(driver, 'dilsefoodie')"
   ]
  },
  {
   "cell_type": "code",
   "execution_count": 154,
   "metadata": {},
   "outputs": [],
   "source": [
    "def create_list(driver, query) :\n",
    "    try :\n",
    "        search_box = wait.until(EC.presence_of_element_located((By.CLASS_NAME,'XTCLo')))\n",
    "        search_box.clear()\n",
    "        search_box.send_keys(query)\n",
    "        query = wait.until(EC.presence_of_element_located((By.CLASS_NAME,'yCE8d')))\n",
    "    \n",
    "        li = driver.find_elements_by_class_name('yCE8d')\n",
    "        x = []\n",
    "        for i in li :\n",
    "            if i.text[0] != '#' :\n",
    "                x.append(i)\n",
    "        return x\n",
    "    \n",
    "    except TimeoutException :\n",
    "        print('Cant search')\n",
    "        return []"
   ]
  },
  {
   "cell_type": "code",
   "execution_count": 155,
   "metadata": {
    "collapsed": true
   },
   "outputs": [
    {
     "name": "stdout",
     "output_type": "stream",
     "text": [
      "deefoodie123\n",
      "Deeksha Shridhar\n",
      "foodrush.recipe\n",
      "FoodRush\n",
      "yourfoodlab\n",
      "Your Food Lab\n",
      "sonam.foodie\n",
      "Sonam Verma\n",
      "rajshrifood\n",
      "Rajshri Food\n",
      "wantfoodneedfood\n",
      "Trivikram Choudhury\n",
      "food\n",
      "Food\n",
      "foodofgoa\n",
      "Food of Goa | Goan Food\n",
      "the_foodie_bae\n",
      "Rishabh Gemini\n",
      "foodfusionpk\n",
      "Food Fusion\n",
      "foodpsychs_\n",
      "Food King, BITS Pilani\n",
      "Malviya Marg\n",
      "foodyfetish\n",
      "Foody Fetish\n",
      "food_sagas\n",
      "Food Sagas\n",
      "foodindiapanda\n",
      "foodnetwork\n",
      "Food Network\n",
      "food__bloggerrr\n",
      "Food Blogger\n",
      "_food_lover_harsh\n",
      "Harsh 🍂\n",
      "aishanii.pachauri\n",
      "The_food_skull_\n",
      "foodys\n",
      "Food\n",
      "junk.food\n",
      "Food Porn 🍕🍔🍟🍪🍰🍫\n",
      "foodelhi\n",
      "Karan Marwah | FOODDelhi\n",
      "food.darzee\n",
      "Food Darzee\n",
      "foodiee_moody\n",
      "Sanjana Sen\n",
      "the_foodie_dad\n",
      "Sumit Kathuria\n",
      "foodiee.bebbs\n",
      "खानाPeenaa🍕\n",
      "delhifoodguide\n",
      "Delhi Food Guide\n",
      "foodpreceptor\n",
      "Kshitiz\n",
      "foodfoodtv\n",
      "FoodFood - It's Sizzling\n",
      "dillifoodies\n",
      "Priyanka and Sumit Kapoor\n",
      "food.sleep.food\n",
      "Yash Khatri\n",
      "foodies_lok\n",
      "foodies_lok😋\n",
      "foodyypreneur\n",
      "FOODYYPRENEUR• | रब राखा ੴ\n",
      "food_lunatic\n",
      "Dimple Arora\n",
      "foodsofchandiland\n",
      "Shubhneet Kamra\n",
      "worthytale\n",
      "Delhi Food Blog\n",
      "_foodie_n_i_s_h_u_\n",
      "Nishant Srivastava\n",
      "the_foodiesisters\n",
      "Thefoodiesisters\n",
      "thisisinsiderfood\n",
      "Food Insider\n",
      "shrutidoesntsharefood\n",
      "Shruti Dhananjay Nirhale\n",
      "my_middlename_is_food\n",
      "Antara Bordoloi\n",
      "ugh.i.want.food\n",
      "Aditya Agarwal\n",
      "food_buggy\n",
      "Food Buggy\n",
      "foodfreeaak\n",
      "Wefoodfreeaak\n",
      "f00d_blogger_\n",
      "food_is_love\n",
      "food_affairs_bangalore\n",
      "FOOD_AFFAIRS_BANGALORE\n",
      "foodhallindia\n",
      "Foodhall\n",
      "buzzfeedfood\n",
      "BuzzFeed Food\n",
      "mr.nachoman\n",
      "Nikhil Shah | FOOD COME TO ME\n",
      "foodsketeers.delhi\n",
      "FOODSKETEERS DELHI\n",
      "foodieee_junction\n",
      "R A J A T & R I T I K A ❤\n",
      "foodiepediamumbai\n",
      "Foodiepedia Mumbai (Mrunal)\n",
      "foodkaba\n",
      "FoodKaba\n",
      "foodi_couple\n",
      "MEGHA & SHIV\n"
     ]
    }
   ],
   "source": [
    "li = create_list(driver,'food')\n",
    "\n",
    "for i in li :\n",
    "    print(i.text)"
   ]
  },
  {
   "cell_type": "code",
   "execution_count": 162,
   "metadata": {},
   "outputs": [],
   "source": [
    "def follow(driver):\n",
    "    try :\n",
    "        btn = wait.until(EC.presence_of_element_located((By.CLASS_NAME,'_5f5mN')))\n",
    "        if btn.text == 'Follow' : \n",
    "            btn.click()\n",
    "        else : \n",
    "            print('Already following')\n",
    "    \n",
    "    except TimeoutException :\n",
    "        print(\"Cant follow\")\n",
    "        \n",
    "def unfollow(driver):\n",
    "    try :\n",
    "        btn = wait.until(EC.presence_of_element_located((By.CLASS_NAME,'_5f5mN')))\n",
    "        if btn.text == 'Following' : \n",
    "            btn.click()\n",
    "            pop_up = wait.until(EC.presence_of_element_located((By.CLASS_NAME,'aOOlW')))\n",
    "            pop_up.click()\n",
    "            \n",
    "        else : \n",
    "            print('Already unfollowed')\n",
    "    except TimeoutException :\n",
    "        print(\"Cant follow\")\n",
    "\n"
   ]
  },
  {
   "cell_type": "code",
   "execution_count": 157,
   "metadata": {},
   "outputs": [],
   "source": [
    "search_and_open(driver,'So Delhi')"
   ]
  },
  {
   "cell_type": "code",
   "execution_count": 164,
   "metadata": {},
   "outputs": [],
   "source": [
    "follow(driver)"
   ]
  },
  {
   "cell_type": "code",
   "execution_count": 165,
   "metadata": {},
   "outputs": [],
   "source": [
    "unfollow(driver)"
   ]
  },
  {
   "cell_type": "code",
   "execution_count": 219,
   "metadata": {},
   "outputs": [],
   "source": [
    "def like_posts(driver, count=1) :\n",
    "    \n",
    "    try :\n",
    "        li = wait.until(EC.presence_of_element_located((By.CLASS_NAME,'v1Nh3')))\n",
    "        li.click()\n",
    "    except Exception as e:\n",
    "        print(\"Cant Open Post\") \n",
    "        return\n",
    "    \n",
    "    for i in range(count) :\n",
    "        try : \n",
    "            temp = wait.until(EC.presence_of_element_located((By.CLASS_NAME,'PdwC2')))\n",
    "        except Exception as e:\n",
    "            print(\"Loading error\")\n",
    "            return\n",
    "      \n",
    "        if len(driver.find_elements_by_class_name(\"glyphsSpriteHeart__filled__24__red_5\")) != 0 :\n",
    "            print(i+1,\" post already liked\")\n",
    "        \n",
    "        else :\n",
    "            btn = driver.find_element_by_class_name('glyphsSpriteHeart__outline__24__grey_9') # check for exception\n",
    "            btn.click()\n",
    "       \n",
    "        try : \n",
    "            nxt = wait.until(EC.presence_of_element_located((By.CLASS_NAME,'coreSpriteRightPaginationArrow')))\n",
    "            nxt.click()\n",
    "        except Exception as e:\n",
    "            print(\"No more posts\")\n",
    "            return\n",
    "    driver.find_element_by_class_name('ckWGn').click()\n",
    "    \n",
    "        \n",
    "def unlike_posts(driver, count=1) :\n",
    "    try :\n",
    "        li = wait.until(EC.presence_of_element_located((By.CLASS_NAME,'v1Nh3')))\n",
    "        li.click()\n",
    "    except Exception as e:\n",
    "        print(\"Cant Open Post\") \n",
    "        return\n",
    "    \n",
    "    for i in range(count) :\n",
    "        try : \n",
    "            temp = wait.until(EC.presence_of_element_located((By.CLASS_NAME,'PdwC2')))\n",
    "        except Exception as e:\n",
    "            print(\"Loading error\")\n",
    "            return\n",
    "      \n",
    "        if len(driver.find_elements_by_class_name(\"glyphsSpriteHeart__outline__24__grey_9\")) != 0 :\n",
    "            print(i+1,\" post already unliked\")\n",
    "        \n",
    "        else :\n",
    "            btn = driver.find_element_by_class_name('glyphsSpriteHeart__filled__24__red_5') # check for exception\n",
    "            btn.click()\n",
    "       \n",
    "        try : \n",
    "            nxt = wait.until(EC.presence_of_element_located((By.CLASS_NAME,'coreSpriteRightPaginationArrow')))\n",
    "            nxt.click()\n",
    "        except Exception as e:\n",
    "            print(\"No more posts\")\n",
    "            return\n",
    "    driver.find_element_by_class_name('ckWGn').click()"
   ]
  },
  {
   "cell_type": "code",
   "execution_count": 185,
   "metadata": {},
   "outputs": [],
   "source": [
    "search_and_open(driver,'dilsefoodie')"
   ]
  },
  {
   "cell_type": "code",
   "execution_count": 222,
   "metadata": {},
   "outputs": [],
   "source": [
    "like_posts(driver, 4)"
   ]
  },
  {
   "cell_type": "code",
   "execution_count": 223,
   "metadata": {},
   "outputs": [],
   "source": [
    "unlike_posts(driver, 4)"
   ]
  }
 ],
 "metadata": {
  "kernelspec": {
   "display_name": "Python 3",
   "language": "python",
   "name": "python3"
  },
  "language_info": {
   "codemirror_mode": {
    "name": "ipython",
    "version": 3
   },
   "file_extension": ".py",
   "mimetype": "text/x-python",
   "name": "python",
   "nbconvert_exporter": "python",
   "pygments_lexer": "ipython3",
   "version": "3.7.3"
  }
 },
 "nbformat": 4,
 "nbformat_minor": 2
}
