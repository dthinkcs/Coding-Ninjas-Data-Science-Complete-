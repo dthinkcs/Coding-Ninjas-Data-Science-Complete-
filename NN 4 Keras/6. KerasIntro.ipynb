{
 "cells": [
  {
   "cell_type": "code",
   "execution_count": 46,
   "metadata": {
    "collapsed": true
   },
   "outputs": [],
   "source": [
    "from keras.models import Sequential\n",
    "from keras.layers import Dense"
   ]
  },
  {
   "cell_type": "code",
   "execution_count": 47,
   "metadata": {
    "collapsed": true
   },
   "outputs": [],
   "source": [
    "# Creating a Model\n",
    "model = Sequential()"
   ]
  },
  {
   "cell_type": "code",
   "execution_count": 48,
   "metadata": {
    "collapsed": true
   },
   "outputs": [],
   "source": [
    "layer1 = Dense(units=32, activation = 'relu', input_dim = 30)\n",
    "model.add(layer1)\n",
    "model.add(Dense(units=16, activation = 'relu'))\n",
    "model.add(Dense(units=1, activation = 'sigmoid'))"
   ]
  },
  {
   "cell_type": "code",
   "execution_count": 49,
   "metadata": {
    "collapsed": true
   },
   "outputs": [],
   "source": [
    "model.compile(optimizer='adam', loss='binary_crossentropy', metrics=['accuracy'])"
   ]
  },
  {
   "cell_type": "code",
   "execution_count": 50,
   "metadata": {
    "collapsed": true
   },
   "outputs": [],
   "source": [
    "from sklearn import datasets\n",
    "cancer = datasets.load_breast_cancer()\n",
    "from sklearn.model_selection import train_test_split\n",
    "\n",
    "x_train, x_test, y_train, y_test = train_test_split(cancer.data, cancer.target, test_size = 0.2, random_state = 0)\n",
    "\n",
    "from sklearn.preprocessing import StandardScaler\n",
    "\n",
    "sc = StandardScaler()\n",
    "x_train = sc.fit_transform(x_train)\n",
    "x_test = sc.transform(x_test)"
   ]
  },
  {
   "cell_type": "code",
   "execution_count": 52,
   "metadata": {},
   "outputs": [
    {
     "name": "stdout",
     "output_type": "stream",
     "text": [
      "Train on 455 samples, validate on 114 samples\n",
      "Epoch 1/20\n",
      "455/455 [==============================] - 0s 82us/step - loss: 0.0593 - acc: 0.9912 - val_loss: 0.0798 - val_acc: 0.9561\n",
      "Epoch 2/20\n",
      "455/455 [==============================] - 0s 111us/step - loss: 0.0575 - acc: 0.9912 - val_loss: 0.0777 - val_acc: 0.9561\n",
      "Epoch 3/20\n",
      "455/455 [==============================] - 0s 155us/step - loss: 0.0561 - acc: 0.9912 - val_loss: 0.0758 - val_acc: 0.9561\n",
      "Epoch 4/20\n",
      "455/455 [==============================] - 0s 112us/step - loss: 0.0540 - acc: 0.9912 - val_loss: 0.0763 - val_acc: 0.9561\n",
      "Epoch 5/20\n",
      "455/455 [==============================] - 0s 122us/step - loss: 0.0529 - acc: 0.9912 - val_loss: 0.0734 - val_acc: 0.9561\n",
      "Epoch 6/20\n",
      "455/455 [==============================] - 0s 197us/step - loss: 0.0516 - acc: 0.9890 - val_loss: 0.0702 - val_acc: 0.9649\n",
      "Epoch 7/20\n",
      "455/455 [==============================] - 0s 138us/step - loss: 0.0500 - acc: 0.9890 - val_loss: 0.0687 - val_acc: 0.9649\n",
      "Epoch 8/20\n",
      "455/455 [==============================] - 0s 95us/step - loss: 0.0485 - acc: 0.9912 - val_loss: 0.0676 - val_acc: 0.9649\n",
      "Epoch 9/20\n",
      "455/455 [==============================] - 0s 149us/step - loss: 0.0474 - acc: 0.9912 - val_loss: 0.0669 - val_acc: 0.9649\n",
      "Epoch 10/20\n",
      "455/455 [==============================] - 0s 183us/step - loss: 0.0465 - acc: 0.9912 - val_loss: 0.0663 - val_acc: 0.9649\n",
      "Epoch 11/20\n",
      "455/455 [==============================] - 0s 121us/step - loss: 0.0450 - acc: 0.9912 - val_loss: 0.0654 - val_acc: 0.9649\n",
      "Epoch 12/20\n",
      "455/455 [==============================] - 0s 175us/step - loss: 0.0439 - acc: 0.9912 - val_loss: 0.0642 - val_acc: 0.9737\n",
      "Epoch 13/20\n",
      "455/455 [==============================] - 0s 270us/step - loss: 0.0430 - acc: 0.9912 - val_loss: 0.0636 - val_acc: 0.9737\n",
      "Epoch 14/20\n",
      "455/455 [==============================] - 0s 141us/step - loss: 0.0422 - acc: 0.9912 - val_loss: 0.0627 - val_acc: 0.9737\n",
      "Epoch 15/20\n",
      "455/455 [==============================] - 0s 140us/step - loss: 0.0413 - acc: 0.9912 - val_loss: 0.0619 - val_acc: 0.9737\n",
      "Epoch 16/20\n",
      "455/455 [==============================] - 0s 135us/step - loss: 0.0408 - acc: 0.9912 - val_loss: 0.0609 - val_acc: 0.9737\n",
      "Epoch 17/20\n",
      "455/455 [==============================] - 0s 131us/step - loss: 0.0394 - acc: 0.9912 - val_loss: 0.0605 - val_acc: 0.9649\n",
      "Epoch 18/20\n",
      "455/455 [==============================] - 0s 159us/step - loss: 0.0385 - acc: 0.9912 - val_loss: 0.0603 - val_acc: 0.9649\n",
      "Epoch 19/20\n",
      "455/455 [==============================] - 0s 115us/step - loss: 0.0379 - acc: 0.9912 - val_loss: 0.0605 - val_acc: 0.9649\n",
      "Epoch 20/20\n",
      "455/455 [==============================] - 0s 94us/step - loss: 0.0381 - acc: 0.9912 - val_loss: 0.0606 - val_acc: 0.9649\n"
     ]
    },
    {
     "data": {
      "text/plain": [
       "<keras.callbacks.History at 0x1a1e4c0e48>"
      ]
     },
     "execution_count": 52,
     "metadata": {},
     "output_type": "execute_result"
    }
   ],
   "source": [
    "model.fit(x_train, y_train, epochs=20, batch_size = 50, validation_data=(x_test, y_test))"
   ]
  }
 ],
 "metadata": {
  "kernelspec": {
   "display_name": "Python 3",
   "language": "python",
   "name": "python3"
  },
  "language_info": {
   "codemirror_mode": {
    "name": "ipython",
    "version": 3
   },
   "file_extension": ".py",
   "mimetype": "text/x-python",
   "name": "python",
   "nbconvert_exporter": "python",
   "pygments_lexer": "ipython3",
   "version": "3.6.3"
  }
 },
 "nbformat": 4,
 "nbformat_minor": 2
}
